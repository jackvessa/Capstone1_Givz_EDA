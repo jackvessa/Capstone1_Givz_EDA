{
 "cells": [
  {
   "cell_type": "code",
   "execution_count": 200,
   "metadata": {},
   "outputs": [],
   "source": [
    "# Imports\n",
    "import json\n",
    "from pandas.io.json import json_normalize\n",
    "import requests\n",
    "import pyspark as ps\n",
    "import pandas as pd\n",
    "import numpy as np\n",
    "import matplotlib.pyplot as plt\n",
    "plt.style.use(\"ggplot\")\n",
    "from textwrap import wrap\n",
    "import folium\n",
    "import plotly.graph_objects as go\n",
    "from os import path\n",
    "from PIL import Image\n",
    "from wordcloud import WordCloud, STOPWORDS, ImageColorGenerator\n",
    "STOPWORDS.add(\"br\")\n",
    "import scipy as sp\n",
    "import scipy.stats as stats"
   ]
  },
  {
   "cell_type": "code",
   "execution_count": 79,
   "metadata": {},
   "outputs": [],
   "source": [
    "# Methods\n",
    "def unpack_column(dataFrame,col_name):\n",
    "    newDf = dataFrame.from_records(dataFrame[col_name].dropna().tolist())\n",
    "    return newDf\n",
    "\n",
    "def unpack_and_destroy(dataFrame,column):\n",
    "    temp = unpack_column(dataFrame,column)\n",
    "    for col in temp.columns:\n",
    "        dataFrame[col] = temp[col]\n",
    "    #dataFrame = dataFrame.drop(columns=[column])\n",
    "    return dataFrame\n",
    "\n",
    "def sort_db_value(db,value,asc=False):\n",
    "    return db.sort_values(by = value, ascending = asc)\n",
    "\n",
    "def freq_array(freq_list):\n",
    "    freq = []\n",
    "    for i in freq_list:\n",
    "        freq.append(i)\n",
    "    return freq\n",
    "\n",
    "def set_labels(freq, ax,horz_shift=.2,vert_shift=1000,w=\"bold\",fsize=10,c=\"b\"):\n",
    "    for i, v in enumerate(freq):\n",
    "        ax.text(i-horz_shift,v+vert_shift, str(round(v,2)), weight = w,fontsize=fsize,color = c)\n",
    "        \n",
    "def wrap_axis_labels(labels_list,wrap_length=13):\n",
    "    labels_list = [ '\\n'.join(wrap(l, wrap_length)) for l in labels_list]\n",
    "    return labels_list\n"
   ]
  },
  {
   "cell_type": "code",
   "execution_count": 80,
   "metadata": {},
   "outputs": [],
   "source": [
    "API_df = pd.read_csv('Data/API_DF_CN.csv')"
   ]
  },
  {
   "cell_type": "code",
   "execution_count": 81,
   "metadata": {},
   "outputs": [
    {
     "data": {
      "text/html": [
       "<div>\n",
       "<style scoped>\n",
       "    .dataframe tbody tr th:only-of-type {\n",
       "        vertical-align: middle;\n",
       "    }\n",
       "\n",
       "    .dataframe tbody tr th {\n",
       "        vertical-align: top;\n",
       "    }\n",
       "\n",
       "    .dataframe thead th {\n",
       "        text-align: right;\n",
       "    }\n",
       "</style>\n",
       "<table border=\"1\" class=\"dataframe\">\n",
       "  <thead>\n",
       "    <tr style=\"text-align: right;\">\n",
       "      <th></th>\n",
       "      <th>charityName</th>\n",
       "      <th>ein</th>\n",
       "      <th>mission</th>\n",
       "      <th>tagLine</th>\n",
       "      <th>categoryID</th>\n",
       "      <th>categoryName</th>\n",
       "      <th>causeID</th>\n",
       "      <th>causeName</th>\n",
       "      <th>rating</th>\n",
       "      <th>assetAmount</th>\n",
       "      <th>classification</th>\n",
       "      <th>deductibility</th>\n",
       "      <th>deductibilityCode</th>\n",
       "      <th>incomeAmount</th>\n",
       "      <th>nteeClassification</th>\n",
       "      <th>nteeType</th>\n",
       "      <th>city</th>\n",
       "      <th>postalCode</th>\n",
       "      <th>stateOrProvince</th>\n",
       "      <th>streetAddress1</th>\n",
       "    </tr>\n",
       "  </thead>\n",
       "  <tbody>\n",
       "  </tbody>\n",
       "</table>\n",
       "</div>"
      ],
      "text/plain": [
       "Empty DataFrame\n",
       "Columns: [charityName, ein, mission, tagLine, categoryID, categoryName, causeID, causeName, rating, assetAmount, classification, deductibility, deductibilityCode, incomeAmount, nteeClassification, nteeType, city, postalCode, stateOrProvince, streetAddress1]\n",
       "Index: []"
      ]
     },
     "execution_count": 81,
     "metadata": {},
     "output_type": "execute_result"
    }
   ],
   "source": [
    "# pd.set_option('display.max_colwidth', -1)\n",
    "API_df.head(0)"
   ]
  },
  {
   "cell_type": "code",
   "execution_count": 82,
   "metadata": {},
   "outputs": [],
   "source": [
    "# # Charity Count Bar Graph Total - By State\n",
    "# category_count = API_df.groupby('stateOrProvince').size().sort_values(ascending=False)\n",
    "# category_count = category_count.iloc[0:10]\n",
    "# categories = list(category_count.index.values)\n",
    "# categories = wrap_axis_labels(categories,13)\n",
    "\n",
    "# freq = freq_array(category_count)\n",
    "    \n",
    "# fig,ax = plt.subplots(figsize = (20,10))\n",
    "# ax.bar(categories,freq, color = \"g\");\n",
    "# ax.set_xticklabels(categories, rotation=0, weight = \"bold\",fontsize=20)\n",
    "\n",
    "# # Needs Adjustment based on Data\n",
    "# ax.set_yticks(np.arange(0,np.max(freq)+200,200)) ;\n",
    "# ax.set_title(\"Charities Counts by State - Rated\", weight = \"bold\",fontsize=30);\n",
    "# ax.set_xlabel(\"State\", fontsize=25, weight = \"bold\");\n",
    "# ax.set_ylabel(\"Frequency\", fontsize=25, weight = \"bold\");\n",
    "# ax.set_yticklabels(np.arange(0,np.max(freq)+200,200), weight=\"bold\", fontsize =20) ;\n",
    "\n",
    "\n",
    "# set_labels(freq,ax,.20,(np.max(freq)/100),fsize=20,c=\"k\")\n",
    "# plt.savefig(\"Charities_by_state\")"
   ]
  },
  {
   "cell_type": "code",
   "execution_count": 83,
   "metadata": {},
   "outputs": [],
   "source": [
    "# # Charity Count Bar Graph Total - By Category\n",
    "# category_count = API_df.groupby('categoryName').size()\n",
    "# categories = list(category_count.index.values)\n",
    "# categories = wrap_axis_labels(categories,13)\n",
    "\n",
    "# freq = freq_array(category_count)\n",
    "    \n",
    "# fig,ax = plt.subplots(figsize = (20,10))\n",
    "# ax.bar(categories,freq, color = \"b\");\n",
    "# ax.set_xticklabels(categories, rotation=0, weight = \"bold\",fontsize=12)\n",
    "\n",
    "# # Needs Adjustment based on Data\n",
    "# ax.set_yticks(np.arange(0,np.max(freq)+200,200)) ;\n",
    "# ax.set_title(\"Charities by Category\", weight = \"bold\",fontsize=30);\n",
    "# ax.set_xlabel(\"Category\", fontsize=25, weight = \"bold\");\n",
    "# ax.set_ylabel(\"Frequency\", fontsize=25, weight = \"bold\");\n",
    "# ax.set_yticklabels(np.arange(0,np.max(freq)+200,200), weight=\"bold\", fontsize =15) ;\n",
    "\n",
    "\n",
    "# set_labels(freq,ax,.20,(np.max(freq)/100),fsize=15,c=\"k\")\n",
    "# plt.savefig(\"Charities_by_category\")"
   ]
  },
  {
   "cell_type": "code",
   "execution_count": 84,
   "metadata": {},
   "outputs": [],
   "source": [
    "# # 4 vs. 3 -Star Charities Count Bar Graph\n",
    "# Four_Star_Charities_Total = API_df[API_df['rating'] == 4.0]\n",
    "# Three_Star_Charities_Total = API_df[API_df['rating'] == 3.0]\n",
    "\n",
    "# #Four-Star\n",
    "# four_star_count = Four_Star_Charities_Total.groupby(\"categoryName\").size()\n",
    "# categories = list(four_star_count.index.values)\n",
    "# categories = wrap_axis_labels(categories,13)\n",
    "\n",
    "# ind = np.arange(len(categories)) \n",
    "\n",
    "# freq = freq_array(four_star_count)\n",
    "    \n",
    "# fig,ax = plt.subplots(figsize = (18,10),sharex=True,sharey=True)\n",
    "# ax.bar(ind,freq, color = \"b\",width=0.35,label=\"Four-Star Charities\");\n",
    "\n",
    "# # Needs Adjustment based on Data\n",
    "\n",
    "# ax.set_yticklabels(np.arange(0,np.max(freq)+200,100), weight=\"bold\", fontsize =12) ;\n",
    "# ax.set_title(\"Four-Star vs. Three-Star Charities by Category\", weight = \"bold\",fontsize=25);\n",
    "# ax.set_xlabel(\"Category\", fontsize=20, weight = \"bold\");\n",
    "# ax.set_ylabel(\"Frequency\", fontsize=20, weight = \"bold\");\n",
    "\n",
    "# set_labels(freq,ax,.2,(np.max(freq)/100),fsize=14,c=\"blue\")\n",
    "    \n",
    "# #Three-Star\n",
    "# three_star_count = Three_Star_Charities_Total.groupby(\"categoryName\").size()\n",
    "# categories_2 = list(three_star_count.index.values)\n",
    "\n",
    "# ind_2 = np.arange(len(categories_2)) \n",
    "\n",
    "# freq_2 = freq_array(three_star_count)\n",
    "    \n",
    "# ax.bar(ind_2+.35,freq_2, color = \"orange\",width=0.35,label=\"Three-Star Charities\");\n",
    "\n",
    "# # Needs Adjustment based on Data\n",
    "# # ax.set_yticks(np.arange(0,np.max(freq)+200,200)) ;\n",
    "# # ax.set_title(\"Four-Star Charities by Category\", weight = \"bold\",fontsize=19);\n",
    "# # ax.set_xlabel(\"Category\", fontsize=15, weight = \"bold\");\n",
    "# # ax.set_ylabel(\"Frequency\", fontsize=15, weight = \"bold\");\n",
    "\n",
    "# set_labels(freq_2,ax,-.2,(np.max(freq)/100),fsize=14,c='black')\n",
    "\n",
    "# ax.set_yticks(np.arange(0,(np.max(freq)+100),100)) ;\n",
    "# ax.set_xticks(ind + .35 / 2)\n",
    "# ax.set_xticklabels(categories, weight=\"bold\",fontsize=11);\n",
    "# ax.legend(prop={'size': 20});\n",
    "\n",
    "# # plt.savefig(\"Four_Star_vs_Three_Star_Categories\")"
   ]
  },
  {
   "cell_type": "code",
   "execution_count": 85,
   "metadata": {},
   "outputs": [],
   "source": [
    "# state_df = API_df.groupby(\"stateOrProvince\").size().reset_index(name=\"Count\")\n",
    "# fig = go.Figure(data=go.Choropleth(\n",
    "#     locations = state_df['stateOrProvince'],\n",
    "#     z=state_df['Count'],\n",
    "#     locationmode='USA-states',\n",
    "#     colorscale='Greens',\n",
    "#     autocolorscale=False,\n",
    "#     text=state_df['stateOrProvince'], # hover text\n",
    "#     marker_line_color='black', # line markers between states\n",
    "#     colorbar_title=\"Number of Charities\"\n",
    "# ))\n",
    "\n",
    "# fig.update_layout(\n",
    "#     title_text='Number of US Charitable Organizations by State - Rated<br>(Hover for breakdown)',\n",
    "#     geo = dict(\n",
    "#         scope='usa',\n",
    "#         projection=go.layout.geo.Projection(type = 'albers usa'),\n",
    "#         showlakes=True, # lakes\n",
    "#         lakecolor='rgb(255, 255, 255)'),\n",
    "# )\n",
    "\n",
    "# fig.show()"
   ]
  },
  {
   "cell_type": "code",
   "execution_count": 86,
   "metadata": {
    "scrolled": true
   },
   "outputs": [
    {
     "data": {
      "text/html": [
       "<div>\n",
       "<style scoped>\n",
       "    .dataframe tbody tr th:only-of-type {\n",
       "        vertical-align: middle;\n",
       "    }\n",
       "\n",
       "    .dataframe tbody tr th {\n",
       "        vertical-align: top;\n",
       "    }\n",
       "\n",
       "    .dataframe thead th {\n",
       "        text-align: right;\n",
       "    }\n",
       "</style>\n",
       "<table border=\"1\" class=\"dataframe\">\n",
       "  <thead>\n",
       "    <tr style=\"text-align: right;\">\n",
       "      <th></th>\n",
       "      <th>charityName</th>\n",
       "      <th>ein</th>\n",
       "      <th>mission</th>\n",
       "      <th>tagLine</th>\n",
       "      <th>categoryID</th>\n",
       "      <th>categoryName</th>\n",
       "      <th>causeID</th>\n",
       "      <th>causeName</th>\n",
       "      <th>rating</th>\n",
       "      <th>assetAmount</th>\n",
       "      <th>classification</th>\n",
       "      <th>deductibility</th>\n",
       "      <th>deductibilityCode</th>\n",
       "      <th>incomeAmount</th>\n",
       "      <th>nteeClassification</th>\n",
       "      <th>nteeType</th>\n",
       "      <th>city</th>\n",
       "      <th>postalCode</th>\n",
       "      <th>stateOrProvince</th>\n",
       "      <th>streetAddress1</th>\n",
       "    </tr>\n",
       "  </thead>\n",
       "  <tbody>\n",
       "  </tbody>\n",
       "</table>\n",
       "</div>"
      ],
      "text/plain": [
       "Empty DataFrame\n",
       "Columns: [charityName, ein, mission, tagLine, categoryID, categoryName, causeID, causeName, rating, assetAmount, classification, deductibility, deductibilityCode, incomeAmount, nteeClassification, nteeType, city, postalCode, stateOrProvince, streetAddress1]\n",
       "Index: []"
      ]
     },
     "execution_count": 86,
     "metadata": {},
     "output_type": "execute_result"
    }
   ],
   "source": [
    "API_df.head(0)"
   ]
  },
  {
   "cell_type": "code",
   "execution_count": 87,
   "metadata": {},
   "outputs": [],
   "source": [
    "# text = API_df.mission.values\n",
    "# wordcloud = WordCloud(\n",
    "#     width = 3000,\n",
    "#     height = 2000,\n",
    "#     background_color = 'white',\n",
    "# #     color_func = 'grey',\n",
    "#     stopwords = STOPWORDS).generate(' '.join(text))\n",
    "# fig = plt.figure(\n",
    "#     figsize = (20, 15),\n",
    "#     facecolor = 'k',\n",
    "#     edgecolor = 'k')\n",
    "# plt.imshow(wordcloud, interpolation = 'bilinear')\n",
    "# plt.axis('off')\n",
    "# plt.tight_layout(pad=0)\n",
    "# plt.savefig(\"Mission_Wordmap\")\n",
    "# plt.show()"
   ]
  },
  {
   "cell_type": "code",
   "execution_count": 88,
   "metadata": {},
   "outputs": [],
   "source": [
    "# pop_data = pd.read_csv('Data/acs2017_census_tract_data.csv')\n",
    "# pop_data = pop_data.groupby(\"State\")[\"TotalPop\"].sum().reset_index(name=\"Population\")\n",
    "# pop_abbrv = pd.read_csv('Data/states.csv')\n",
    "# pop_df = pd.merge(pop_data, pop_abbrv, on='State')\n",
    "# pop_df[\"stateOrProvince\"] = pop_df[\"Abbreviation\"]\n",
    "# pop_df = pop_df.drop(columns=[\"Abbreviation\"])"
   ]
  },
  {
   "cell_type": "code",
   "execution_count": 89,
   "metadata": {},
   "outputs": [],
   "source": [
    "# category_count = API_df.groupby('stateOrProvince').size().sort_values(ascending=False).reset_index(name=\"count\")\n",
    "# category_count.head()"
   ]
  },
  {
   "cell_type": "code",
   "execution_count": 90,
   "metadata": {},
   "outputs": [],
   "source": [
    "# income_df = API_df.groupby(\"stateOrProvince\")[\"incomeAmount\"].sum().reset_index(name=\"Sum_Income\")"
   ]
  },
  {
   "cell_type": "code",
   "execution_count": 91,
   "metadata": {},
   "outputs": [],
   "source": [
    "# income_df.head()"
   ]
  },
  {
   "cell_type": "code",
   "execution_count": 92,
   "metadata": {},
   "outputs": [],
   "source": [
    "# add_pop = pd.merge(pop_df, category_count, on = \"stateOrProvince\")\n",
    "# add_pop[\"Num_Charities_Per_Capita\"] = (add_pop[\"count\"] / add_pop[\"Population\"])\n",
    "# add_pop = pd.merge(add_pop, income_df, on = \"stateOrProvince\")\n",
    "# add_pop[\"Income_Per_Capita\"] = add_pop[\"Sum_Income\"] / add_pop[\"Population\"]\n",
    "##Dropping District of Colombia\n",
    "# add_pop = add_pop.drop(add_pop.index[8])"
   ]
  },
  {
   "cell_type": "code",
   "execution_count": 93,
   "metadata": {},
   "outputs": [],
   "source": [
    "# fig = go.Figure(data=go.Choropleth(\n",
    "#     locations = add_pop['stateOrProvince'],\n",
    "#     z=add_pop['Income_Per_Capita'],\n",
    "#     locationmode='USA-states',\n",
    "#     colorscale='Greens',\n",
    "#     autocolorscale=False,\n",
    "#     text=add_pop['stateOrProvince'], # hover text\n",
    "#     marker_line_color='black', # line markers between states\n",
    "#     colorbar_title=\"Income Per Capita\"\n",
    "# ))\n",
    "\n",
    "# fig.update_layout(\n",
    "#     title_text='Charity Income Per Capita by State - Rated Charities<br>(Hover for breakdown)',\n",
    "#     geo = dict(\n",
    "#         scope='usa',\n",
    "#         projection=go.layout.geo.Projection(type = 'albers usa'),\n",
    "#         showlakes=True, # lakes\n",
    "#         lakecolor='rgb(255, 255, 255)'),\n",
    "# )\n",
    "\n",
    "# fig.show()"
   ]
  },
  {
   "cell_type": "code",
   "execution_count": 94,
   "metadata": {},
   "outputs": [],
   "source": [
    "category_df_income = API_df.groupby('categoryName')['incomeAmount'].sum().reset_index(name=\"IncomeSum\").sort_values(by = 'IncomeSum', ascending=False)"
   ]
  },
  {
   "cell_type": "code",
   "execution_count": 95,
   "metadata": {},
   "outputs": [],
   "source": [
    "category_df_income['IncomeAdjusted'] = category_df_income['IncomeSum'] / 1000000000"
   ]
  },
  {
   "cell_type": "code",
   "execution_count": 96,
   "metadata": {},
   "outputs": [
    {
     "data": {
      "text/html": [
       "<div>\n",
       "<style scoped>\n",
       "    .dataframe tbody tr th:only-of-type {\n",
       "        vertical-align: middle;\n",
       "    }\n",
       "\n",
       "    .dataframe tbody tr th {\n",
       "        vertical-align: top;\n",
       "    }\n",
       "\n",
       "    .dataframe thead th {\n",
       "        text-align: right;\n",
       "    }\n",
       "</style>\n",
       "<table border=\"1\" class=\"dataframe\">\n",
       "  <thead>\n",
       "    <tr style=\"text-align: right;\">\n",
       "      <th></th>\n",
       "      <th>categoryName</th>\n",
       "      <th>IncomeSum</th>\n",
       "      <th>IncomeAdjusted</th>\n",
       "    </tr>\n",
       "  </thead>\n",
       "  <tbody>\n",
       "    <tr>\n",
       "      <th>6</th>\n",
       "      <td>Human Services</td>\n",
       "      <td>4.615947e+10</td>\n",
       "      <td>46.159465</td>\n",
       "    </tr>\n",
       "    <tr>\n",
       "      <th>1</th>\n",
       "      <td>Arts, Culture, Humanities</td>\n",
       "      <td>2.945553e+10</td>\n",
       "      <td>29.455535</td>\n",
       "    </tr>\n",
       "    <tr>\n",
       "      <th>2</th>\n",
       "      <td>Community Development</td>\n",
       "      <td>2.927567e+10</td>\n",
       "      <td>29.275670</td>\n",
       "    </tr>\n",
       "    <tr>\n",
       "      <th>5</th>\n",
       "      <td>Health</td>\n",
       "      <td>2.895878e+10</td>\n",
       "      <td>28.958775</td>\n",
       "    </tr>\n",
       "    <tr>\n",
       "      <th>8</th>\n",
       "      <td>International</td>\n",
       "      <td>2.749592e+10</td>\n",
       "      <td>27.495921</td>\n",
       "    </tr>\n",
       "  </tbody>\n",
       "</table>\n",
       "</div>"
      ],
      "text/plain": [
       "                categoryName     IncomeSum  IncomeAdjusted\n",
       "6             Human Services  4.615947e+10       46.159465\n",
       "1  Arts, Culture, Humanities  2.945553e+10       29.455535\n",
       "2      Community Development  2.927567e+10       29.275670\n",
       "5                     Health  2.895878e+10       28.958775\n",
       "8              International  2.749592e+10       27.495921"
      ]
     },
     "execution_count": 96,
     "metadata": {},
     "output_type": "execute_result"
    }
   ],
   "source": [
    "category_df_income.head()"
   ]
  },
  {
   "cell_type": "code",
   "execution_count": 97,
   "metadata": {
    "scrolled": false
   },
   "outputs": [],
   "source": [
    "# # # Category Income Bar Graph (Top 10)\n",
    "# #state_df_count = all_regions_df.groupby(\"STATE\").size().reset_index(name=\"Frequency\").sort_values(by=\"Frequency\",ascending=False)\n",
    "# # category_df_income = API_df.groupby('categoryName')['incomeAmount'].sum().reset_index(name=\"IncomeSum\").sort_values(by = 'IncomeSum', ascending=False)\n",
    "# category_df_income = category_df_income.iloc[:10]\n",
    "\n",
    "# categories = category_df_income['categoryName']\n",
    "# categories = wrap_axis_labels(categories,13)\n",
    "\n",
    "\n",
    "# freq = freq_array(category_df_income['IncomeAdjusted'])\n",
    "# fig,ax = plt.subplots(figsize = (20,10))\n",
    "# ax.bar(categories,freq, color = \"g\");\n",
    "\n",
    "# ax.set_yticks(np.arange(0,51,10));\n",
    "# ax.set_title(\"Total Income by Category (Top 10)\", weight = \"bold\", fontsize = 30);\n",
    "# ax.set_xlabel(\"Category\", fontsize=25, weight = \"bold\");\n",
    "# ax.set_ylabel(\"Income (Billions $)\", fontsize=25, weight = \"bold\");\n",
    "# ax.set_yticklabels(np.arange(0,51,10), weight=\"bold\", fontsize =20) ;\n",
    "# ax.set_xticklabels(categories, weight=\"bold\",fontsize=14);\n",
    "\n",
    "# set_labels(freq,ax,.3,0.5,c=\"k\",fsize=20);\n",
    "\n",
    "# plt.savefig(\"Total_Income_By_Category\")"
   ]
  },
  {
   "cell_type": "markdown",
   "metadata": {},
   "source": [
    "## Next Step: Top Category By Income For Each State"
   ]
  },
  {
   "cell_type": "code",
   "execution_count": 180,
   "metadata": {},
   "outputs": [],
   "source": [
    "# state_category_count_df = API_df.groupby([\"stateOrProvince\",\"categoryName\"]).size().reset_index(name=\"count\")\n",
    "# state_category_count_df.head()"
   ]
  },
  {
   "cell_type": "code",
   "execution_count": 178,
   "metadata": {},
   "outputs": [],
   "source": [
    "# idx = state_category_count_df.groupby(['stateOrProvince'])['count'].transform(max) == state_category_count_df['count']\n",
    "\n",
    "# state_category_max = state_category_count_df[idx]"
   ]
  },
  {
   "cell_type": "code",
   "execution_count": 179,
   "metadata": {},
   "outputs": [],
   "source": [
    "# state_category_max.head(50)"
   ]
  },
  {
   "cell_type": "code",
   "execution_count": 279,
   "metadata": {},
   "outputs": [
    {
     "data": {
      "application/vnd.plotly.v1+json": {
       "config": {
        "plotlyServerURL": "https://plot.ly"
       },
       "data": [
        {
         "autocolorscale": false,
         "colorbar": {
          "title": {
           "text": "Income Per Capita"
          }
         },
         "colorscale": [
          [
           0,
           "rgb(247,252,245)"
          ],
          [
           0.125,
           "rgb(229,245,224)"
          ],
          [
           0.25,
           "rgb(199,233,192)"
          ],
          [
           0.375,
           "rgb(161,217,155)"
          ],
          [
           0.5,
           "rgb(116,196,118)"
          ],
          [
           0.625,
           "rgb(65,171,93)"
          ],
          [
           0.75,
           "rgb(35,139,69)"
          ],
          [
           0.875,
           "rgb(0,109,44)"
          ],
          [
           1,
           "rgb(0,68,27)"
          ]
         ],
         "locationmode": "USA-states",
         "locations": [
          "AK",
          "AL",
          "AR",
          "AZ",
          "CA",
          "CO",
          "CT",
          "DC",
          "DE",
          "FL",
          "GA",
          "HI",
          "IA",
          "ID",
          "IL",
          "IN",
          "KS",
          "KY",
          "LA",
          "MA",
          "MD",
          "ME",
          "MI",
          "MN",
          "MO",
          "MS",
          "MT",
          "NC",
          "ND",
          "NE",
          "NH",
          "NJ",
          "NM",
          "NV",
          "NY",
          "OH",
          "OK",
          "OR",
          "PA",
          "PR",
          "PR",
          "PR",
          "RI",
          "SC",
          "SD",
          "TN",
          "TX",
          "UT",
          "VA",
          "VI",
          "VT",
          "WA",
          "WI",
          "WV",
          "WY"
         ],
         "marker": {
          "line": {
           "color": "black"
          }
         },
         "text": [
          "AK<br>Human Services",
          "AL<br>Human Services",
          "AR<br>Human Services",
          "AZ<br>Human Services",
          "CA<br>Human Services",
          "CO<br>Human Services",
          "CT<br>Human Services",
          "DC<br>Human and Civil Rights",
          "DE<br>Human Services",
          "FL<br>Human Services",
          "GA<br>Human Services",
          "HI<br>Arts, Culture, Humanities",
          "IA<br>Human Services",
          "ID<br>Human Services",
          "IL<br>Human Services",
          "IN<br>Human Services",
          "KS<br>Human Services",
          "KY<br>Human Services",
          "LA<br>Human Services",
          "MA<br>Human Services",
          "MD<br>Human Services",
          "ME<br>Human Services",
          "MI<br>Human Services",
          "MN<br>Human Services",
          "MO<br>Human Services",
          "MS<br>Human Services",
          "MT<br>Human Services",
          "NC<br>Human Services",
          "ND<br>Human Services",
          "NE<br>Human Services",
          "NH<br>Human Services",
          "NJ<br>Human Services",
          "NM<br>Arts, Culture, Humanities",
          "NV<br>Human Services",
          "NY<br>Human Services",
          "OH<br>Human Services",
          "OK<br>Human Services",
          "OR<br>Human Services",
          "PA<br>Human Services",
          "PR<br>Community Development",
          "PR<br>Health",
          "PR<br>Research and Public Policy",
          "RI<br>Arts, Culture, Humanities",
          "SC<br>Human Services",
          "SD<br>Human Services",
          "TN<br>Human Services",
          "TX<br>Human Services",
          "UT<br>Human Services",
          "VA<br>Human Services",
          "VI<br>Community Development",
          "VT<br>Arts, Culture, Humanities",
          "WA<br>Human Services",
          "WI<br>Human Services",
          "WV<br>Community Development",
          "WY<br>Environment"
         ],
         "type": "choropleth",
         "z": [
          6,
          20,
          14,
          38,
          260,
          77,
          35,
          89,
          6,
          168,
          74,
          10,
          14,
          9,
          95,
          45,
          22,
          26,
          22,
          87,
          48,
          11,
          66,
          61,
          75,
          11,
          13,
          68,
          3,
          27,
          12,
          55,
          10,
          10,
          195,
          59,
          29,
          42,
          71,
          1,
          1,
          1,
          12,
          30,
          10,
          62,
          180,
          15,
          80,
          1,
          12,
          67,
          36,
          5,
          5
         ]
        }
       ],
       "layout": {
        "geo": {
         "lakecolor": "rgb(255, 255, 255)",
         "projection": {
          "type": "albers usa"
         },
         "scope": "usa",
         "showlakes": true
        },
        "template": {
         "data": {
          "bar": [
           {
            "error_x": {
             "color": "#2a3f5f"
            },
            "error_y": {
             "color": "#2a3f5f"
            },
            "marker": {
             "line": {
              "color": "#E5ECF6",
              "width": 0.5
             }
            },
            "type": "bar"
           }
          ],
          "barpolar": [
           {
            "marker": {
             "line": {
              "color": "#E5ECF6",
              "width": 0.5
             }
            },
            "type": "barpolar"
           }
          ],
          "carpet": [
           {
            "aaxis": {
             "endlinecolor": "#2a3f5f",
             "gridcolor": "white",
             "linecolor": "white",
             "minorgridcolor": "white",
             "startlinecolor": "#2a3f5f"
            },
            "baxis": {
             "endlinecolor": "#2a3f5f",
             "gridcolor": "white",
             "linecolor": "white",
             "minorgridcolor": "white",
             "startlinecolor": "#2a3f5f"
            },
            "type": "carpet"
           }
          ],
          "choropleth": [
           {
            "colorbar": {
             "outlinewidth": 0,
             "ticks": ""
            },
            "type": "choropleth"
           }
          ],
          "contour": [
           {
            "colorbar": {
             "outlinewidth": 0,
             "ticks": ""
            },
            "colorscale": [
             [
              0,
              "#0d0887"
             ],
             [
              0.1111111111111111,
              "#46039f"
             ],
             [
              0.2222222222222222,
              "#7201a8"
             ],
             [
              0.3333333333333333,
              "#9c179e"
             ],
             [
              0.4444444444444444,
              "#bd3786"
             ],
             [
              0.5555555555555556,
              "#d8576b"
             ],
             [
              0.6666666666666666,
              "#ed7953"
             ],
             [
              0.7777777777777778,
              "#fb9f3a"
             ],
             [
              0.8888888888888888,
              "#fdca26"
             ],
             [
              1,
              "#f0f921"
             ]
            ],
            "type": "contour"
           }
          ],
          "contourcarpet": [
           {
            "colorbar": {
             "outlinewidth": 0,
             "ticks": ""
            },
            "type": "contourcarpet"
           }
          ],
          "heatmap": [
           {
            "colorbar": {
             "outlinewidth": 0,
             "ticks": ""
            },
            "colorscale": [
             [
              0,
              "#0d0887"
             ],
             [
              0.1111111111111111,
              "#46039f"
             ],
             [
              0.2222222222222222,
              "#7201a8"
             ],
             [
              0.3333333333333333,
              "#9c179e"
             ],
             [
              0.4444444444444444,
              "#bd3786"
             ],
             [
              0.5555555555555556,
              "#d8576b"
             ],
             [
              0.6666666666666666,
              "#ed7953"
             ],
             [
              0.7777777777777778,
              "#fb9f3a"
             ],
             [
              0.8888888888888888,
              "#fdca26"
             ],
             [
              1,
              "#f0f921"
             ]
            ],
            "type": "heatmap"
           }
          ],
          "heatmapgl": [
           {
            "colorbar": {
             "outlinewidth": 0,
             "ticks": ""
            },
            "colorscale": [
             [
              0,
              "#0d0887"
             ],
             [
              0.1111111111111111,
              "#46039f"
             ],
             [
              0.2222222222222222,
              "#7201a8"
             ],
             [
              0.3333333333333333,
              "#9c179e"
             ],
             [
              0.4444444444444444,
              "#bd3786"
             ],
             [
              0.5555555555555556,
              "#d8576b"
             ],
             [
              0.6666666666666666,
              "#ed7953"
             ],
             [
              0.7777777777777778,
              "#fb9f3a"
             ],
             [
              0.8888888888888888,
              "#fdca26"
             ],
             [
              1,
              "#f0f921"
             ]
            ],
            "type": "heatmapgl"
           }
          ],
          "histogram": [
           {
            "marker": {
             "colorbar": {
              "outlinewidth": 0,
              "ticks": ""
             }
            },
            "type": "histogram"
           }
          ],
          "histogram2d": [
           {
            "colorbar": {
             "outlinewidth": 0,
             "ticks": ""
            },
            "colorscale": [
             [
              0,
              "#0d0887"
             ],
             [
              0.1111111111111111,
              "#46039f"
             ],
             [
              0.2222222222222222,
              "#7201a8"
             ],
             [
              0.3333333333333333,
              "#9c179e"
             ],
             [
              0.4444444444444444,
              "#bd3786"
             ],
             [
              0.5555555555555556,
              "#d8576b"
             ],
             [
              0.6666666666666666,
              "#ed7953"
             ],
             [
              0.7777777777777778,
              "#fb9f3a"
             ],
             [
              0.8888888888888888,
              "#fdca26"
             ],
             [
              1,
              "#f0f921"
             ]
            ],
            "type": "histogram2d"
           }
          ],
          "histogram2dcontour": [
           {
            "colorbar": {
             "outlinewidth": 0,
             "ticks": ""
            },
            "colorscale": [
             [
              0,
              "#0d0887"
             ],
             [
              0.1111111111111111,
              "#46039f"
             ],
             [
              0.2222222222222222,
              "#7201a8"
             ],
             [
              0.3333333333333333,
              "#9c179e"
             ],
             [
              0.4444444444444444,
              "#bd3786"
             ],
             [
              0.5555555555555556,
              "#d8576b"
             ],
             [
              0.6666666666666666,
              "#ed7953"
             ],
             [
              0.7777777777777778,
              "#fb9f3a"
             ],
             [
              0.8888888888888888,
              "#fdca26"
             ],
             [
              1,
              "#f0f921"
             ]
            ],
            "type": "histogram2dcontour"
           }
          ],
          "mesh3d": [
           {
            "colorbar": {
             "outlinewidth": 0,
             "ticks": ""
            },
            "type": "mesh3d"
           }
          ],
          "parcoords": [
           {
            "line": {
             "colorbar": {
              "outlinewidth": 0,
              "ticks": ""
             }
            },
            "type": "parcoords"
           }
          ],
          "scatter": [
           {
            "marker": {
             "colorbar": {
              "outlinewidth": 0,
              "ticks": ""
             }
            },
            "type": "scatter"
           }
          ],
          "scatter3d": [
           {
            "line": {
             "colorbar": {
              "outlinewidth": 0,
              "ticks": ""
             }
            },
            "marker": {
             "colorbar": {
              "outlinewidth": 0,
              "ticks": ""
             }
            },
            "type": "scatter3d"
           }
          ],
          "scattercarpet": [
           {
            "marker": {
             "colorbar": {
              "outlinewidth": 0,
              "ticks": ""
             }
            },
            "type": "scattercarpet"
           }
          ],
          "scattergeo": [
           {
            "marker": {
             "colorbar": {
              "outlinewidth": 0,
              "ticks": ""
             }
            },
            "type": "scattergeo"
           }
          ],
          "scattergl": [
           {
            "marker": {
             "colorbar": {
              "outlinewidth": 0,
              "ticks": ""
             }
            },
            "type": "scattergl"
           }
          ],
          "scattermapbox": [
           {
            "marker": {
             "colorbar": {
              "outlinewidth": 0,
              "ticks": ""
             }
            },
            "type": "scattermapbox"
           }
          ],
          "scatterpolar": [
           {
            "marker": {
             "colorbar": {
              "outlinewidth": 0,
              "ticks": ""
             }
            },
            "type": "scatterpolar"
           }
          ],
          "scatterpolargl": [
           {
            "marker": {
             "colorbar": {
              "outlinewidth": 0,
              "ticks": ""
             }
            },
            "type": "scatterpolargl"
           }
          ],
          "scatterternary": [
           {
            "marker": {
             "colorbar": {
              "outlinewidth": 0,
              "ticks": ""
             }
            },
            "type": "scatterternary"
           }
          ],
          "surface": [
           {
            "colorbar": {
             "outlinewidth": 0,
             "ticks": ""
            },
            "colorscale": [
             [
              0,
              "#0d0887"
             ],
             [
              0.1111111111111111,
              "#46039f"
             ],
             [
              0.2222222222222222,
              "#7201a8"
             ],
             [
              0.3333333333333333,
              "#9c179e"
             ],
             [
              0.4444444444444444,
              "#bd3786"
             ],
             [
              0.5555555555555556,
              "#d8576b"
             ],
             [
              0.6666666666666666,
              "#ed7953"
             ],
             [
              0.7777777777777778,
              "#fb9f3a"
             ],
             [
              0.8888888888888888,
              "#fdca26"
             ],
             [
              1,
              "#f0f921"
             ]
            ],
            "type": "surface"
           }
          ],
          "table": [
           {
            "cells": {
             "fill": {
              "color": "#EBF0F8"
             },
             "line": {
              "color": "white"
             }
            },
            "header": {
             "fill": {
              "color": "#C8D4E3"
             },
             "line": {
              "color": "white"
             }
            },
            "type": "table"
           }
          ]
         },
         "layout": {
          "annotationdefaults": {
           "arrowcolor": "#2a3f5f",
           "arrowhead": 0,
           "arrowwidth": 1
          },
          "colorscale": {
           "diverging": [
            [
             0,
             "#8e0152"
            ],
            [
             0.1,
             "#c51b7d"
            ],
            [
             0.2,
             "#de77ae"
            ],
            [
             0.3,
             "#f1b6da"
            ],
            [
             0.4,
             "#fde0ef"
            ],
            [
             0.5,
             "#f7f7f7"
            ],
            [
             0.6,
             "#e6f5d0"
            ],
            [
             0.7,
             "#b8e186"
            ],
            [
             0.8,
             "#7fbc41"
            ],
            [
             0.9,
             "#4d9221"
            ],
            [
             1,
             "#276419"
            ]
           ],
           "sequential": [
            [
             0,
             "#0d0887"
            ],
            [
             0.1111111111111111,
             "#46039f"
            ],
            [
             0.2222222222222222,
             "#7201a8"
            ],
            [
             0.3333333333333333,
             "#9c179e"
            ],
            [
             0.4444444444444444,
             "#bd3786"
            ],
            [
             0.5555555555555556,
             "#d8576b"
            ],
            [
             0.6666666666666666,
             "#ed7953"
            ],
            [
             0.7777777777777778,
             "#fb9f3a"
            ],
            [
             0.8888888888888888,
             "#fdca26"
            ],
            [
             1,
             "#f0f921"
            ]
           ],
           "sequentialminus": [
            [
             0,
             "#0d0887"
            ],
            [
             0.1111111111111111,
             "#46039f"
            ],
            [
             0.2222222222222222,
             "#7201a8"
            ],
            [
             0.3333333333333333,
             "#9c179e"
            ],
            [
             0.4444444444444444,
             "#bd3786"
            ],
            [
             0.5555555555555556,
             "#d8576b"
            ],
            [
             0.6666666666666666,
             "#ed7953"
            ],
            [
             0.7777777777777778,
             "#fb9f3a"
            ],
            [
             0.8888888888888888,
             "#fdca26"
            ],
            [
             1,
             "#f0f921"
            ]
           ]
          },
          "colorway": [
           "#636efa",
           "#EF553B",
           "#00cc96",
           "#ab63fa",
           "#FFA15A",
           "#19d3f3",
           "#FF6692",
           "#B6E880",
           "#FF97FF",
           "#FECB52"
          ],
          "font": {
           "color": "#2a3f5f"
          },
          "geo": {
           "bgcolor": "white",
           "lakecolor": "white",
           "landcolor": "#E5ECF6",
           "showlakes": true,
           "showland": true,
           "subunitcolor": "white"
          },
          "hoverlabel": {
           "align": "left"
          },
          "hovermode": "closest",
          "mapbox": {
           "style": "light"
          },
          "paper_bgcolor": "white",
          "plot_bgcolor": "#E5ECF6",
          "polar": {
           "angularaxis": {
            "gridcolor": "white",
            "linecolor": "white",
            "ticks": ""
           },
           "bgcolor": "#E5ECF6",
           "radialaxis": {
            "gridcolor": "white",
            "linecolor": "white",
            "ticks": ""
           }
          },
          "scene": {
           "xaxis": {
            "backgroundcolor": "#E5ECF6",
            "gridcolor": "white",
            "gridwidth": 2,
            "linecolor": "white",
            "showbackground": true,
            "ticks": "",
            "zerolinecolor": "white"
           },
           "yaxis": {
            "backgroundcolor": "#E5ECF6",
            "gridcolor": "white",
            "gridwidth": 2,
            "linecolor": "white",
            "showbackground": true,
            "ticks": "",
            "zerolinecolor": "white"
           },
           "zaxis": {
            "backgroundcolor": "#E5ECF6",
            "gridcolor": "white",
            "gridwidth": 2,
            "linecolor": "white",
            "showbackground": true,
            "ticks": "",
            "zerolinecolor": "white"
           }
          },
          "shapedefaults": {
           "line": {
            "color": "#2a3f5f"
           }
          },
          "ternary": {
           "aaxis": {
            "gridcolor": "white",
            "linecolor": "white",
            "ticks": ""
           },
           "baxis": {
            "gridcolor": "white",
            "linecolor": "white",
            "ticks": ""
           },
           "bgcolor": "#E5ECF6",
           "caxis": {
            "gridcolor": "white",
            "linecolor": "white",
            "ticks": ""
           }
          },
          "title": {
           "x": 0.05
          },
          "xaxis": {
           "automargin": true,
           "gridcolor": "white",
           "linecolor": "white",
           "ticks": "",
           "zerolinecolor": "white",
           "zerolinewidth": 2
          },
          "yaxis": {
           "automargin": true,
           "gridcolor": "white",
           "linecolor": "white",
           "ticks": "",
           "zerolinecolor": "white",
           "zerolinewidth": 2
          }
         }
        },
        "title": {
         "text": "Charity Income Per Capita by State - Rated Charities<br>(Hover for breakdown)"
        }
       }
      },
      "text/html": [
       "<div>\n",
       "        \n",
       "        \n",
       "            <div id=\"f0f97cda-2f7c-4a4c-abc7-d17f8ab79923\" class=\"plotly-graph-div\" style=\"height:525px; width:100%;\"></div>\n",
       "            <script type=\"text/javascript\">\n",
       "                require([\"plotly\"], function(Plotly) {\n",
       "                    window.PLOTLYENV=window.PLOTLYENV || {};\n",
       "                    \n",
       "                if (document.getElementById(\"f0f97cda-2f7c-4a4c-abc7-d17f8ab79923\")) {\n",
       "                    Plotly.newPlot(\n",
       "                        'f0f97cda-2f7c-4a4c-abc7-d17f8ab79923',\n",
       "                        [{\"autocolorscale\": false, \"colorbar\": {\"title\": {\"text\": \"Income Per Capita\"}}, \"colorscale\": [[0.0, \"rgb(247,252,245)\"], [0.125, \"rgb(229,245,224)\"], [0.25, \"rgb(199,233,192)\"], [0.375, \"rgb(161,217,155)\"], [0.5, \"rgb(116,196,118)\"], [0.625, \"rgb(65,171,93)\"], [0.75, \"rgb(35,139,69)\"], [0.875, \"rgb(0,109,44)\"], [1.0, \"rgb(0,68,27)\"]], \"locationmode\": \"USA-states\", \"locations\": [\"AK\", \"AL\", \"AR\", \"AZ\", \"CA\", \"CO\", \"CT\", \"DC\", \"DE\", \"FL\", \"GA\", \"HI\", \"IA\", \"ID\", \"IL\", \"IN\", \"KS\", \"KY\", \"LA\", \"MA\", \"MD\", \"ME\", \"MI\", \"MN\", \"MO\", \"MS\", \"MT\", \"NC\", \"ND\", \"NE\", \"NH\", \"NJ\", \"NM\", \"NV\", \"NY\", \"OH\", \"OK\", \"OR\", \"PA\", \"PR\", \"PR\", \"PR\", \"RI\", \"SC\", \"SD\", \"TN\", \"TX\", \"UT\", \"VA\", \"VI\", \"VT\", \"WA\", \"WI\", \"WV\", \"WY\"], \"marker\": {\"line\": {\"color\": \"black\"}}, \"text\": [\"AK<br>Human Services\", \"AL<br>Human Services\", \"AR<br>Human Services\", \"AZ<br>Human Services\", \"CA<br>Human Services\", \"CO<br>Human Services\", \"CT<br>Human Services\", \"DC<br>Human and Civil Rights\", \"DE<br>Human Services\", \"FL<br>Human Services\", \"GA<br>Human Services\", \"HI<br>Arts, Culture, Humanities\", \"IA<br>Human Services\", \"ID<br>Human Services\", \"IL<br>Human Services\", \"IN<br>Human Services\", \"KS<br>Human Services\", \"KY<br>Human Services\", \"LA<br>Human Services\", \"MA<br>Human Services\", \"MD<br>Human Services\", \"ME<br>Human Services\", \"MI<br>Human Services\", \"MN<br>Human Services\", \"MO<br>Human Services\", \"MS<br>Human Services\", \"MT<br>Human Services\", \"NC<br>Human Services\", \"ND<br>Human Services\", \"NE<br>Human Services\", \"NH<br>Human Services\", \"NJ<br>Human Services\", \"NM<br>Arts, Culture, Humanities\", \"NV<br>Human Services\", \"NY<br>Human Services\", \"OH<br>Human Services\", \"OK<br>Human Services\", \"OR<br>Human Services\", \"PA<br>Human Services\", \"PR<br>Community Development\", \"PR<br>Health\", \"PR<br>Research and Public Policy\", \"RI<br>Arts, Culture, Humanities\", \"SC<br>Human Services\", \"SD<br>Human Services\", \"TN<br>Human Services\", \"TX<br>Human Services\", \"UT<br>Human Services\", \"VA<br>Human Services\", \"VI<br>Community Development\", \"VT<br>Arts, Culture, Humanities\", \"WA<br>Human Services\", \"WI<br>Human Services\", \"WV<br>Community Development\", \"WY<br>Environment\"], \"type\": \"choropleth\", \"z\": [6, 20, 14, 38, 260, 77, 35, 89, 6, 168, 74, 10, 14, 9, 95, 45, 22, 26, 22, 87, 48, 11, 66, 61, 75, 11, 13, 68, 3, 27, 12, 55, 10, 10, 195, 59, 29, 42, 71, 1, 1, 1, 12, 30, 10, 62, 180, 15, 80, 1, 12, 67, 36, 5, 5]}],\n",
       "                        {\"geo\": {\"lakecolor\": \"rgb(255, 255, 255)\", \"projection\": {\"type\": \"albers usa\"}, \"scope\": \"usa\", \"showlakes\": true}, \"template\": {\"data\": {\"bar\": [{\"error_x\": {\"color\": \"#2a3f5f\"}, \"error_y\": {\"color\": \"#2a3f5f\"}, \"marker\": {\"line\": {\"color\": \"#E5ECF6\", \"width\": 0.5}}, \"type\": \"bar\"}], \"barpolar\": [{\"marker\": {\"line\": {\"color\": \"#E5ECF6\", \"width\": 0.5}}, \"type\": \"barpolar\"}], \"carpet\": [{\"aaxis\": {\"endlinecolor\": \"#2a3f5f\", \"gridcolor\": \"white\", \"linecolor\": \"white\", \"minorgridcolor\": \"white\", \"startlinecolor\": \"#2a3f5f\"}, \"baxis\": {\"endlinecolor\": \"#2a3f5f\", \"gridcolor\": \"white\", \"linecolor\": \"white\", \"minorgridcolor\": \"white\", \"startlinecolor\": \"#2a3f5f\"}, \"type\": \"carpet\"}], \"choropleth\": [{\"colorbar\": {\"outlinewidth\": 0, \"ticks\": \"\"}, \"type\": \"choropleth\"}], \"contour\": [{\"colorbar\": {\"outlinewidth\": 0, \"ticks\": \"\"}, \"colorscale\": [[0.0, \"#0d0887\"], [0.1111111111111111, \"#46039f\"], [0.2222222222222222, \"#7201a8\"], [0.3333333333333333, \"#9c179e\"], [0.4444444444444444, \"#bd3786\"], [0.5555555555555556, \"#d8576b\"], [0.6666666666666666, \"#ed7953\"], [0.7777777777777778, \"#fb9f3a\"], [0.8888888888888888, \"#fdca26\"], [1.0, \"#f0f921\"]], \"type\": \"contour\"}], \"contourcarpet\": [{\"colorbar\": {\"outlinewidth\": 0, \"ticks\": \"\"}, \"type\": \"contourcarpet\"}], \"heatmap\": [{\"colorbar\": {\"outlinewidth\": 0, \"ticks\": \"\"}, \"colorscale\": [[0.0, \"#0d0887\"], [0.1111111111111111, \"#46039f\"], [0.2222222222222222, \"#7201a8\"], [0.3333333333333333, \"#9c179e\"], [0.4444444444444444, \"#bd3786\"], [0.5555555555555556, \"#d8576b\"], [0.6666666666666666, \"#ed7953\"], [0.7777777777777778, \"#fb9f3a\"], [0.8888888888888888, \"#fdca26\"], [1.0, \"#f0f921\"]], \"type\": \"heatmap\"}], \"heatmapgl\": [{\"colorbar\": {\"outlinewidth\": 0, \"ticks\": \"\"}, \"colorscale\": [[0.0, \"#0d0887\"], [0.1111111111111111, \"#46039f\"], [0.2222222222222222, \"#7201a8\"], [0.3333333333333333, \"#9c179e\"], [0.4444444444444444, \"#bd3786\"], [0.5555555555555556, \"#d8576b\"], [0.6666666666666666, \"#ed7953\"], [0.7777777777777778, \"#fb9f3a\"], [0.8888888888888888, \"#fdca26\"], [1.0, \"#f0f921\"]], \"type\": \"heatmapgl\"}], \"histogram\": [{\"marker\": {\"colorbar\": {\"outlinewidth\": 0, \"ticks\": \"\"}}, \"type\": \"histogram\"}], \"histogram2d\": [{\"colorbar\": {\"outlinewidth\": 0, \"ticks\": \"\"}, \"colorscale\": [[0.0, \"#0d0887\"], [0.1111111111111111, \"#46039f\"], [0.2222222222222222, \"#7201a8\"], [0.3333333333333333, \"#9c179e\"], [0.4444444444444444, \"#bd3786\"], [0.5555555555555556, \"#d8576b\"], [0.6666666666666666, \"#ed7953\"], [0.7777777777777778, \"#fb9f3a\"], [0.8888888888888888, \"#fdca26\"], [1.0, \"#f0f921\"]], \"type\": \"histogram2d\"}], \"histogram2dcontour\": [{\"colorbar\": {\"outlinewidth\": 0, \"ticks\": \"\"}, \"colorscale\": [[0.0, \"#0d0887\"], [0.1111111111111111, \"#46039f\"], [0.2222222222222222, \"#7201a8\"], [0.3333333333333333, \"#9c179e\"], [0.4444444444444444, \"#bd3786\"], [0.5555555555555556, \"#d8576b\"], [0.6666666666666666, \"#ed7953\"], [0.7777777777777778, \"#fb9f3a\"], [0.8888888888888888, \"#fdca26\"], [1.0, \"#f0f921\"]], \"type\": \"histogram2dcontour\"}], \"mesh3d\": [{\"colorbar\": {\"outlinewidth\": 0, \"ticks\": \"\"}, \"type\": \"mesh3d\"}], \"parcoords\": [{\"line\": {\"colorbar\": {\"outlinewidth\": 0, \"ticks\": \"\"}}, \"type\": \"parcoords\"}], \"scatter\": [{\"marker\": {\"colorbar\": {\"outlinewidth\": 0, \"ticks\": \"\"}}, \"type\": \"scatter\"}], \"scatter3d\": [{\"line\": {\"colorbar\": {\"outlinewidth\": 0, \"ticks\": \"\"}}, \"marker\": {\"colorbar\": {\"outlinewidth\": 0, \"ticks\": \"\"}}, \"type\": \"scatter3d\"}], \"scattercarpet\": [{\"marker\": {\"colorbar\": {\"outlinewidth\": 0, \"ticks\": \"\"}}, \"type\": \"scattercarpet\"}], \"scattergeo\": [{\"marker\": {\"colorbar\": {\"outlinewidth\": 0, \"ticks\": \"\"}}, \"type\": \"scattergeo\"}], \"scattergl\": [{\"marker\": {\"colorbar\": {\"outlinewidth\": 0, \"ticks\": \"\"}}, \"type\": \"scattergl\"}], \"scattermapbox\": [{\"marker\": {\"colorbar\": {\"outlinewidth\": 0, \"ticks\": \"\"}}, \"type\": \"scattermapbox\"}], \"scatterpolar\": [{\"marker\": {\"colorbar\": {\"outlinewidth\": 0, \"ticks\": \"\"}}, \"type\": \"scatterpolar\"}], \"scatterpolargl\": [{\"marker\": {\"colorbar\": {\"outlinewidth\": 0, \"ticks\": \"\"}}, \"type\": \"scatterpolargl\"}], \"scatterternary\": [{\"marker\": {\"colorbar\": {\"outlinewidth\": 0, \"ticks\": \"\"}}, \"type\": \"scatterternary\"}], \"surface\": [{\"colorbar\": {\"outlinewidth\": 0, \"ticks\": \"\"}, \"colorscale\": [[0.0, \"#0d0887\"], [0.1111111111111111, \"#46039f\"], [0.2222222222222222, \"#7201a8\"], [0.3333333333333333, \"#9c179e\"], [0.4444444444444444, \"#bd3786\"], [0.5555555555555556, \"#d8576b\"], [0.6666666666666666, \"#ed7953\"], [0.7777777777777778, \"#fb9f3a\"], [0.8888888888888888, \"#fdca26\"], [1.0, \"#f0f921\"]], \"type\": \"surface\"}], \"table\": [{\"cells\": {\"fill\": {\"color\": \"#EBF0F8\"}, \"line\": {\"color\": \"white\"}}, \"header\": {\"fill\": {\"color\": \"#C8D4E3\"}, \"line\": {\"color\": \"white\"}}, \"type\": \"table\"}]}, \"layout\": {\"annotationdefaults\": {\"arrowcolor\": \"#2a3f5f\", \"arrowhead\": 0, \"arrowwidth\": 1}, \"colorscale\": {\"diverging\": [[0, \"#8e0152\"], [0.1, \"#c51b7d\"], [0.2, \"#de77ae\"], [0.3, \"#f1b6da\"], [0.4, \"#fde0ef\"], [0.5, \"#f7f7f7\"], [0.6, \"#e6f5d0\"], [0.7, \"#b8e186\"], [0.8, \"#7fbc41\"], [0.9, \"#4d9221\"], [1, \"#276419\"]], \"sequential\": [[0.0, \"#0d0887\"], [0.1111111111111111, \"#46039f\"], [0.2222222222222222, \"#7201a8\"], [0.3333333333333333, \"#9c179e\"], [0.4444444444444444, \"#bd3786\"], [0.5555555555555556, \"#d8576b\"], [0.6666666666666666, \"#ed7953\"], [0.7777777777777778, \"#fb9f3a\"], [0.8888888888888888, \"#fdca26\"], [1.0, \"#f0f921\"]], \"sequentialminus\": [[0.0, \"#0d0887\"], [0.1111111111111111, \"#46039f\"], [0.2222222222222222, \"#7201a8\"], [0.3333333333333333, \"#9c179e\"], [0.4444444444444444, \"#bd3786\"], [0.5555555555555556, \"#d8576b\"], [0.6666666666666666, \"#ed7953\"], [0.7777777777777778, \"#fb9f3a\"], [0.8888888888888888, \"#fdca26\"], [1.0, \"#f0f921\"]]}, \"colorway\": [\"#636efa\", \"#EF553B\", \"#00cc96\", \"#ab63fa\", \"#FFA15A\", \"#19d3f3\", \"#FF6692\", \"#B6E880\", \"#FF97FF\", \"#FECB52\"], \"font\": {\"color\": \"#2a3f5f\"}, \"geo\": {\"bgcolor\": \"white\", \"lakecolor\": \"white\", \"landcolor\": \"#E5ECF6\", \"showlakes\": true, \"showland\": true, \"subunitcolor\": \"white\"}, \"hoverlabel\": {\"align\": \"left\"}, \"hovermode\": \"closest\", \"mapbox\": {\"style\": \"light\"}, \"paper_bgcolor\": \"white\", \"plot_bgcolor\": \"#E5ECF6\", \"polar\": {\"angularaxis\": {\"gridcolor\": \"white\", \"linecolor\": \"white\", \"ticks\": \"\"}, \"bgcolor\": \"#E5ECF6\", \"radialaxis\": {\"gridcolor\": \"white\", \"linecolor\": \"white\", \"ticks\": \"\"}}, \"scene\": {\"xaxis\": {\"backgroundcolor\": \"#E5ECF6\", \"gridcolor\": \"white\", \"gridwidth\": 2, \"linecolor\": \"white\", \"showbackground\": true, \"ticks\": \"\", \"zerolinecolor\": \"white\"}, \"yaxis\": {\"backgroundcolor\": \"#E5ECF6\", \"gridcolor\": \"white\", \"gridwidth\": 2, \"linecolor\": \"white\", \"showbackground\": true, \"ticks\": \"\", \"zerolinecolor\": \"white\"}, \"zaxis\": {\"backgroundcolor\": \"#E5ECF6\", \"gridcolor\": \"white\", \"gridwidth\": 2, \"linecolor\": \"white\", \"showbackground\": true, \"ticks\": \"\", \"zerolinecolor\": \"white\"}}, \"shapedefaults\": {\"line\": {\"color\": \"#2a3f5f\"}}, \"ternary\": {\"aaxis\": {\"gridcolor\": \"white\", \"linecolor\": \"white\", \"ticks\": \"\"}, \"baxis\": {\"gridcolor\": \"white\", \"linecolor\": \"white\", \"ticks\": \"\"}, \"bgcolor\": \"#E5ECF6\", \"caxis\": {\"gridcolor\": \"white\", \"linecolor\": \"white\", \"ticks\": \"\"}}, \"title\": {\"x\": 0.05}, \"xaxis\": {\"automargin\": true, \"gridcolor\": \"white\", \"linecolor\": \"white\", \"ticks\": \"\", \"zerolinecolor\": \"white\", \"zerolinewidth\": 2}, \"yaxis\": {\"automargin\": true, \"gridcolor\": \"white\", \"linecolor\": \"white\", \"ticks\": \"\", \"zerolinecolor\": \"white\", \"zerolinewidth\": 2}}}, \"title\": {\"text\": \"Charity Income Per Capita by State - Rated Charities<br>(Hover for breakdown)\"}},\n",
       "                        {\"responsive\": true}\n",
       "                    ).then(function(){\n",
       "                            \n",
       "var gd = document.getElementById('f0f97cda-2f7c-4a4c-abc7-d17f8ab79923');\n",
       "var x = new MutationObserver(function (mutations, observer) {{\n",
       "        var display = window.getComputedStyle(gd).display;\n",
       "        if (!display || display === 'none') {{\n",
       "            console.log([gd, 'removed!']);\n",
       "            Plotly.purge(gd);\n",
       "            observer.disconnect();\n",
       "        }}\n",
       "}});\n",
       "\n",
       "// Listen for the removal of the full notebook cells\n",
       "var notebookContainer = gd.closest('#notebook-container');\n",
       "if (notebookContainer) {{\n",
       "    x.observe(notebookContainer, {childList: true});\n",
       "}}\n",
       "\n",
       "// Listen for the clearing of the current output cell\n",
       "var outputEl = gd.closest('.output');\n",
       "if (outputEl) {{\n",
       "    x.observe(outputEl, {childList: true});\n",
       "}}\n",
       "\n",
       "                        })\n",
       "                };\n",
       "                });\n",
       "            </script>\n",
       "        </div>"
      ]
     },
     "metadata": {},
     "output_type": "display_data"
    }
   ],
   "source": [
    "fig = go.Figure(data=go.Choropleth(\n",
    "    locations = state_category_max['stateOrProvince'],\n",
    "    z=state_category_max['count'],\n",
    "    locationmode='USA-states',\n",
    "    colorscale='Greens',\n",
    "    autocolorscale=False,\n",
    "    text=state_category_max['stateOrProvince'] + \"<br>\" + state_category_max[\"categoryName\"], # hover text\n",
    "    marker_line_color='black', # line markers between states\n",
    "    colorbar_title=\"Income Per Capita\"\n",
    "))\n",
    "\n",
    "fig.update_layout(\n",
    "    title_text='Charity Income Per Capita by State - Rated Charities<br>(Hover for breakdown)',\n",
    "    geo = dict(\n",
    "        scope='usa',\n",
    "        projection=go.layout.geo.Projection(type = 'albers usa'),\n",
    "        showlakes=True, # lakes\n",
    "        lakecolor='rgb(255, 255, 255)'),\n",
    ")\n",
    "\n",
    "fig.show()"
   ]
  },
  {
   "cell_type": "code",
   "execution_count": 176,
   "metadata": {},
   "outputs": [],
   "source": [
    "# state_category_income_df = API_df.groupby([\"stateOrProvince\",\"categoryName\"])[\"incomeAmount\"].sum().reset_index(name=\"IncomeSum\")\n",
    "# state_category_income_df.head(5)"
   ]
  },
  {
   "cell_type": "code",
   "execution_count": 175,
   "metadata": {},
   "outputs": [],
   "source": [
    "# idx_income = state_category_income_df.groupby(['stateOrProvince'])['IncomeSum'].transform(max) == state_category_income_df['IncomeSum']\n",
    "\n",
    "# state_category_income_max = state_category_income_df[idx_income]"
   ]
  },
  {
   "cell_type": "code",
   "execution_count": 173,
   "metadata": {},
   "outputs": [],
   "source": [
    "# #state_category_income_max[\"cat_num\"] = 0\n",
    "# mask = (state_category_income_max['categoryName'] == \"Education\")\n",
    "# z_valid = state_category_income_max[mask]\n",
    "\n",
    "# state_category_income_max.loc[mask, 'cat_num'] = 4"
   ]
  },
  {
   "cell_type": "code",
   "execution_count": 183,
   "metadata": {},
   "outputs": [],
   "source": [
    "# state_category_income_max"
   ]
  },
  {
   "cell_type": "code",
   "execution_count": 172,
   "metadata": {},
   "outputs": [],
   "source": [
    "# fig = go.Figure(data=go.Choropleth(\n",
    "#     locations = state_category_income_max['stateOrProvince'],\n",
    "#     z=state_category_income_max['cat_num'],\n",
    "#     locationmode='USA-states',\n",
    "#     colorscale='Spectral',\n",
    "#     autocolorscale=False,\n",
    "#     text=state_category_income_max['stateOrProvince'] + \"<br>\" + state_category_income_max[\"categoryName\"], # hover text\n",
    "#     marker_line_color='black', # line markers between states\n",
    "#     colorbar_title=\"Income Per Capita\"\n",
    "# ))\n",
    "\n",
    "# fig.update_layout(\n",
    "#     title_text='Charity Income Per Capita by State - Rated Charities<br>(Hover for breakdown)',\n",
    "#     geo = dict(\n",
    "#         scope='usa',\n",
    "#         projection=go.layout.geo.Projection(type = 'albers usa'),\n",
    "#         showlakes=True, # lakes\n",
    "#         lakecolor='rgb(255, 255, 255)'),\n",
    "# )\n",
    "\n",
    "# fig.show()"
   ]
  },
  {
   "cell_type": "code",
   "execution_count": 281,
   "metadata": {},
   "outputs": [],
   "source": [
    "region1_northeast_list = [\"ME\", \"NH\", \"VT\", \"MA\", \"RI\", \"CT\", \"NY\", \"NJ\", \"PA\"]\n",
    "region2_midwest_list = [\"ND\", \"SD\", \"NE\", \"KS\", \"MN\", \"IA\", \"MO\", \"WI\", \"IL\", \"IN\", \"MI\", \"OH\"]\n",
    "region3_south_list = [\"TX\", \"OK\", \"AR\", \"LA\", \"MS\", \"AL\", \"FL\", \"GA\", \"SC\", \"NC\", \"VA\", \"TN\", \"KY\", \"WV\", \"DC\", \"MD\", \"DE\"]\n",
    "region4_west_list = [\"MT\", \"ID\", \"WY\", \"CO\", \"NM\", \"AZ\", \"UT\", \"NV\", \"CA\", \"OR\", \"WA\", \"AK\", \"HI\"]\n"
   ]
  },
  {
   "cell_type": "code",
   "execution_count": 282,
   "metadata": {},
   "outputs": [],
   "source": [
    "region1_northeast_df = API_df[API_df[\"stateOrProvince\"].isin(region1_northeast_list)]\n",
    "region2_midwest_df = API_df[API_df[\"stateOrProvince\"].isin(region2_midwest_list)]\n",
    "region3_south_df = API_df[API_df[\"stateOrProvince\"].isin(region3_south_list)]\n",
    "region4_west_df = API_df[API_df[\"stateOrProvince\"].isin(region4_west_list)]"
   ]
  },
  {
   "cell_type": "code",
   "execution_count": 296,
   "metadata": {},
   "outputs": [
    {
     "data": {
      "text/plain": [
       "classification\n",
       "Charitable Organization                        6492\n",
       "Educational Organization                       1563\n",
       "Literary Organization                            35\n",
       "Organization for Public Safety Testing            4\n",
       "Organization to Prevent Cruelty to Animals      171\n",
       "Organization to Prevent Cruelty to Children      17\n",
       "Religious Organization                          305\n",
       "Scientific Organization                          35\n",
       "dtype: int64"
      ]
     },
     "execution_count": 296,
     "metadata": {},
     "output_type": "execute_result"
    }
   ],
   "source": [
    "x = API_df.groupby(\"classification\").size()\n",
    "x"
   ]
  },
  {
   "cell_type": "code",
   "execution_count": 289,
   "metadata": {},
   "outputs": [
    {
     "data": {
      "text/html": [
       "<div>\n",
       "<style scoped>\n",
       "    .dataframe tbody tr th:only-of-type {\n",
       "        vertical-align: middle;\n",
       "    }\n",
       "\n",
       "    .dataframe tbody tr th {\n",
       "        vertical-align: top;\n",
       "    }\n",
       "\n",
       "    .dataframe thead th {\n",
       "        text-align: right;\n",
       "    }\n",
       "</style>\n",
       "<table border=\"1\" class=\"dataframe\">\n",
       "  <thead>\n",
       "    <tr style=\"text-align: right;\">\n",
       "      <th></th>\n",
       "      <th>charityName</th>\n",
       "      <th>ein</th>\n",
       "      <th>mission</th>\n",
       "      <th>tagLine</th>\n",
       "      <th>categoryID</th>\n",
       "      <th>categoryName</th>\n",
       "      <th>causeID</th>\n",
       "      <th>causeName</th>\n",
       "      <th>rating</th>\n",
       "      <th>assetAmount</th>\n",
       "      <th>classification</th>\n",
       "      <th>deductibility</th>\n",
       "      <th>deductibilityCode</th>\n",
       "      <th>incomeAmount</th>\n",
       "      <th>nteeClassification</th>\n",
       "      <th>nteeType</th>\n",
       "      <th>city</th>\n",
       "      <th>postalCode</th>\n",
       "      <th>stateOrProvince</th>\n",
       "      <th>streetAddress1</th>\n",
       "    </tr>\n",
       "  </thead>\n",
       "  <tbody>\n",
       "    <tr>\n",
       "      <th>4188</th>\n",
       "      <td>American Red Cross</td>\n",
       "      <td>530196605</td>\n",
       "      <td>Since its founding in 1881 by visionary leader...</td>\n",
       "      <td>Helping prevent and alleviate human suffering ...</td>\n",
       "      <td>6</td>\n",
       "      <td>Human Services</td>\n",
       "      <td>15</td>\n",
       "      <td>Multipurpose Human Service Organizations</td>\n",
       "      <td>3.0</td>\n",
       "      <td>3.240247e+09</td>\n",
       "      <td>Charitable Organization</td>\n",
       "      <td>Contributions are deductible</td>\n",
       "      <td>1.0</td>\n",
       "      <td>3.948382e+09</td>\n",
       "      <td>American Red Cross</td>\n",
       "      <td>Human Services - Multipurpose and Other</td>\n",
       "      <td>Washington</td>\n",
       "      <td>20006</td>\n",
       "      <td>DC</td>\n",
       "      <td>431 18th Street, NW</td>\n",
       "    </tr>\n",
       "    <tr>\n",
       "      <th>699</th>\n",
       "      <td>Shriners Hospitals for Children</td>\n",
       "      <td>362193608</td>\n",
       "      <td>Shriners Hospitals for Children is a one-of-a-...</td>\n",
       "      <td>Love to the rescue.</td>\n",
       "      <td>5</td>\n",
       "      <td>Health</td>\n",
       "      <td>12</td>\n",
       "      <td>Treatment and Prevention Services</td>\n",
       "      <td>4.0</td>\n",
       "      <td>9.210344e+09</td>\n",
       "      <td>Organization to Prevent Cruelty to Animals</td>\n",
       "      <td>Contributions are deductible</td>\n",
       "      <td>1.0</td>\n",
       "      <td>2.288068e+09</td>\n",
       "      <td>Hospital, Specialty</td>\n",
       "      <td>Health - General and Rehabilitative</td>\n",
       "      <td>Tampa</td>\n",
       "      <td>33607</td>\n",
       "      <td>FL</td>\n",
       "      <td>2900 Rocky Point Drive</td>\n",
       "    </tr>\n",
       "    <tr>\n",
       "      <th>2847</th>\n",
       "      <td>ALSAC - St. Jude Children's Research Hospital</td>\n",
       "      <td>351044585</td>\n",
       "      <td>ALSAC (American Lebanese Syrian Associated Cha...</td>\n",
       "      <td>Fundraising for St. Jude Children's Research H...</td>\n",
       "      <td>5</td>\n",
       "      <td>Health</td>\n",
       "      <td>12</td>\n",
       "      <td>Treatment and Prevention Services</td>\n",
       "      <td>4.0</td>\n",
       "      <td>4.780600e+09</td>\n",
       "      <td>Charitable Organization</td>\n",
       "      <td>Contributions are deductible</td>\n",
       "      <td>1.0</td>\n",
       "      <td>2.218193e+09</td>\n",
       "      <td>Fund Raising and/or Fund Distribution</td>\n",
       "      <td>Religion-Related, Spiritual Development</td>\n",
       "      <td>Memphis</td>\n",
       "      <td>38105</td>\n",
       "      <td>TN</td>\n",
       "      <td>262 Danny Thomas Place</td>\n",
       "    </tr>\n",
       "    <tr>\n",
       "      <th>4415</th>\n",
       "      <td>UNCF</td>\n",
       "      <td>131624241</td>\n",
       "      <td>Since its inception in 1944, UNCF has grown to...</td>\n",
       "      <td>A mind is a terrible thing to waste</td>\n",
       "      <td>3</td>\n",
       "      <td>Education</td>\n",
       "      <td>37</td>\n",
       "      <td>Scholarship and Financial Support</td>\n",
       "      <td>3.0</td>\n",
       "      <td>6.841648e+08</td>\n",
       "      <td>Educational Organization</td>\n",
       "      <td>Contributions are deductible</td>\n",
       "      <td>1.0</td>\n",
       "      <td>2.152270e+09</td>\n",
       "      <td>Scholarships, Student Financial Aid Services, ...</td>\n",
       "      <td>Educational Institutions and Related Activities</td>\n",
       "      <td>Washington</td>\n",
       "      <td>20001</td>\n",
       "      <td>DC</td>\n",
       "      <td>1805 7th Street, NW</td>\n",
       "    </tr>\n",
       "    <tr>\n",
       "      <th>6105</th>\n",
       "      <td>The Nature Conservancy</td>\n",
       "      <td>530242652</td>\n",
       "      <td>The Nature Conservancy is a leading conservati...</td>\n",
       "      <td>Protecting nature. Preserving life.</td>\n",
       "      <td>4</td>\n",
       "      <td>Environment</td>\n",
       "      <td>11</td>\n",
       "      <td>Environmental Protection and Conservation</td>\n",
       "      <td>3.0</td>\n",
       "      <td>7.409865e+09</td>\n",
       "      <td>Educational Organization</td>\n",
       "      <td>Contributions are deductible</td>\n",
       "      <td>1.0</td>\n",
       "      <td>2.046553e+09</td>\n",
       "      <td>NaN</td>\n",
       "      <td>NaN</td>\n",
       "      <td>Arlington</td>\n",
       "      <td>22203</td>\n",
       "      <td>VA</td>\n",
       "      <td>4245 North Fairfax Drive</td>\n",
       "    </tr>\n",
       "    <tr>\n",
       "      <th>2383</th>\n",
       "      <td>Smithsonian Institution</td>\n",
       "      <td>530206027</td>\n",
       "      <td>Our Mission is the increase and diffusion of k...</td>\n",
       "      <td>Seriously Amazing</td>\n",
       "      <td>2</td>\n",
       "      <td>Arts, Culture, Humanities</td>\n",
       "      <td>3</td>\n",
       "      <td>Museums</td>\n",
       "      <td>4.0</td>\n",
       "      <td>4.889815e+09</td>\n",
       "      <td>Educational Organization</td>\n",
       "      <td>Contributions are deductible</td>\n",
       "      <td>1.0</td>\n",
       "      <td>1.883676e+09</td>\n",
       "      <td>Museum, Museum Activities</td>\n",
       "      <td>Arts, Culture and Humanities</td>\n",
       "      <td>Washington</td>\n",
       "      <td>20560</td>\n",
       "      <td>DC</td>\n",
       "      <td>Office of Advancement</td>\n",
       "    </tr>\n",
       "    <tr>\n",
       "      <th>4457</th>\n",
       "      <td>Boy Scouts of America National Council</td>\n",
       "      <td>221576300</td>\n",
       "      <td>The mission of the Boy Scouts of America (BSA)...</td>\n",
       "      <td>The nation's foremost youth program</td>\n",
       "      <td>6</td>\n",
       "      <td>Human Services</td>\n",
       "      <td>16</td>\n",
       "      <td>Youth Development, Shelter, and Crisis Services</td>\n",
       "      <td>4.0</td>\n",
       "      <td>1.386074e+09</td>\n",
       "      <td>Charitable Organization</td>\n",
       "      <td>Contributions are deductible</td>\n",
       "      <td>1.0</td>\n",
       "      <td>1.804120e+09</td>\n",
       "      <td>Boy Scouts of America</td>\n",
       "      <td>Youth Development</td>\n",
       "      <td>Irving</td>\n",
       "      <td>75015</td>\n",
       "      <td>TX</td>\n",
       "      <td>1325 West Walnut Hill Lane</td>\n",
       "    </tr>\n",
       "    <tr>\n",
       "      <th>199</th>\n",
       "      <td>Cystic Fibrosis Foundation</td>\n",
       "      <td>131930701</td>\n",
       "      <td>The Cystic Fibrosis Foundation (CFF) was estab...</td>\n",
       "      <td>Adding tomorrows every day</td>\n",
       "      <td>5</td>\n",
       "      <td>Health</td>\n",
       "      <td>13</td>\n",
       "      <td>Diseases, Disorders, and Disciplines</td>\n",
       "      <td>4.0</td>\n",
       "      <td>4.401078e+09</td>\n",
       "      <td>Charitable Organization</td>\n",
       "      <td>Contributions are deductible</td>\n",
       "      <td>1.0</td>\n",
       "      <td>1.393955e+09</td>\n",
       "      <td>Birth Defects and Genetic Diseases</td>\n",
       "      <td>Diseases, Disorders, Medical Disciplines</td>\n",
       "      <td>Bethesda</td>\n",
       "      <td>20814</td>\n",
       "      <td>MD</td>\n",
       "      <td>4550 Montgomery Avenue</td>\n",
       "    </tr>\n",
       "    <tr>\n",
       "      <th>7340</th>\n",
       "      <td>American Cancer Society</td>\n",
       "      <td>131788491</td>\n",
       "      <td>The American Cancer Society's mission is to sa...</td>\n",
       "      <td>Save lives, celebrate lives, and lead the figh...</td>\n",
       "      <td>5</td>\n",
       "      <td>Health</td>\n",
       "      <td>13</td>\n",
       "      <td>Diseases, Disorders, and Disciplines</td>\n",
       "      <td>3.0</td>\n",
       "      <td>1.697658e+09</td>\n",
       "      <td>Educational Organization</td>\n",
       "      <td>Contributions are deductible</td>\n",
       "      <td>1.0</td>\n",
       "      <td>1.258482e+09</td>\n",
       "      <td>Cancer</td>\n",
       "      <td>Diseases, Disorders, Medical Disciplines</td>\n",
       "      <td>Atlanta</td>\n",
       "      <td>30303</td>\n",
       "      <td>GA</td>\n",
       "      <td>250 Williams Street, NW</td>\n",
       "    </tr>\n",
       "    <tr>\n",
       "      <th>3191</th>\n",
       "      <td>American Heart Association</td>\n",
       "      <td>135613797</td>\n",
       "      <td>The American Heart Association is the nation's...</td>\n",
       "      <td>Live a Long and Healthy Life</td>\n",
       "      <td>5</td>\n",
       "      <td>Health</td>\n",
       "      <td>13</td>\n",
       "      <td>Diseases, Disorders, and Disciplines</td>\n",
       "      <td>4.0</td>\n",
       "      <td>1.412916e+09</td>\n",
       "      <td>Charitable Organization</td>\n",
       "      <td>Contributions are deductible</td>\n",
       "      <td>1.0</td>\n",
       "      <td>1.125582e+09</td>\n",
       "      <td>Heart and Circulatory System Diseases, Disorders</td>\n",
       "      <td>Diseases, Disorders, Medical Disciplines</td>\n",
       "      <td>Dallas</td>\n",
       "      <td>75231</td>\n",
       "      <td>TX</td>\n",
       "      <td>National Center</td>\n",
       "    </tr>\n",
       "    <tr>\n",
       "      <th>4977</th>\n",
       "      <td>Food For The Poor</td>\n",
       "      <td>592174510</td>\n",
       "      <td>Food For The Poor (FFP) ministers to spiritual...</td>\n",
       "      <td>Serving the poorest of the poor</td>\n",
       "      <td>7</td>\n",
       "      <td>International</td>\n",
       "      <td>30</td>\n",
       "      <td>Humanitarian Relief Supplies</td>\n",
       "      <td>3.0</td>\n",
       "      <td>4.157769e+07</td>\n",
       "      <td>Charitable Organization</td>\n",
       "      <td>Contributions are deductible</td>\n",
       "      <td>1.0</td>\n",
       "      <td>9.504009e+08</td>\n",
       "      <td>International Relief</td>\n",
       "      <td>International, Foreign Affairs and National Se...</td>\n",
       "      <td>Coconut Creek</td>\n",
       "      <td>33073</td>\n",
       "      <td>FL</td>\n",
       "      <td>6401 Lyons Road</td>\n",
       "    </tr>\n",
       "    <tr>\n",
       "      <th>648</th>\n",
       "      <td>Samaritan's Purse</td>\n",
       "      <td>581437002</td>\n",
       "      <td>Samaritan's Purse is a nondenominational evang...</td>\n",
       "      <td>International relief</td>\n",
       "      <td>7</td>\n",
       "      <td>International</td>\n",
       "      <td>20</td>\n",
       "      <td>Development and Relief Services</td>\n",
       "      <td>4.0</td>\n",
       "      <td>6.782103e+08</td>\n",
       "      <td>Religious Organization</td>\n",
       "      <td>Contributions are deductible</td>\n",
       "      <td>1.0</td>\n",
       "      <td>8.854806e+08</td>\n",
       "      <td>Christian</td>\n",
       "      <td>Religion-Related, Spiritual Development</td>\n",
       "      <td>Boone</td>\n",
       "      <td>28607</td>\n",
       "      <td>NC</td>\n",
       "      <td>P.O. Box 3000</td>\n",
       "    </tr>\n",
       "    <tr>\n",
       "      <th>3881</th>\n",
       "      <td>CARE</td>\n",
       "      <td>131685039</td>\n",
       "      <td>Founded in 1945, CARE is a leading humanitaria...</td>\n",
       "      <td>Defending dignity, fighting poverty</td>\n",
       "      <td>7</td>\n",
       "      <td>International</td>\n",
       "      <td>20</td>\n",
       "      <td>Development and Relief Services</td>\n",
       "      <td>3.0</td>\n",
       "      <td>5.175340e+08</td>\n",
       "      <td>Charitable Organization</td>\n",
       "      <td>Contributions are deductible</td>\n",
       "      <td>1.0</td>\n",
       "      <td>7.219915e+08</td>\n",
       "      <td>International Development, Relief Services</td>\n",
       "      <td>International, Foreign Affairs and National Se...</td>\n",
       "      <td>Atlanta</td>\n",
       "      <td>30303</td>\n",
       "      <td>GA</td>\n",
       "      <td>151 Ellis Street, NE</td>\n",
       "    </tr>\n",
       "    <tr>\n",
       "      <th>445</th>\n",
       "      <td>Step Up For Students</td>\n",
       "      <td>593649371</td>\n",
       "      <td>Step Up For Students empowers parents to pursu...</td>\n",
       "      <td>Every child deserves a chance to succeed.</td>\n",
       "      <td>3</td>\n",
       "      <td>Education</td>\n",
       "      <td>37</td>\n",
       "      <td>Scholarship and Financial Support</td>\n",
       "      <td>4.0</td>\n",
       "      <td>5.893943e+08</td>\n",
       "      <td>Educational Organization</td>\n",
       "      <td>Contributions are deductible</td>\n",
       "      <td>1.0</td>\n",
       "      <td>7.076612e+08</td>\n",
       "      <td>Fund Raising and/or Fund Distribution</td>\n",
       "      <td>Educational Institutions and Related Activities</td>\n",
       "      <td>Jacksonville</td>\n",
       "      <td>32245</td>\n",
       "      <td>FL</td>\n",
       "      <td>P.O. Box 54429</td>\n",
       "    </tr>\n",
       "    <tr>\n",
       "      <th>1113</th>\n",
       "      <td>Foundation For The Carolinas</td>\n",
       "      <td>566047886</td>\n",
       "      <td>Established in 1958, Foundation For The Caroli...</td>\n",
       "      <td>Inspiring philanthropy</td>\n",
       "      <td>10</td>\n",
       "      <td>Community Development</td>\n",
       "      <td>22</td>\n",
       "      <td>Community Foundations</td>\n",
       "      <td>4.0</td>\n",
       "      <td>1.905766e+09</td>\n",
       "      <td>Charitable Organization</td>\n",
       "      <td>Contributions are deductible</td>\n",
       "      <td>1.0</td>\n",
       "      <td>6.625303e+08</td>\n",
       "      <td>Community Foundations</td>\n",
       "      <td>Philanthropy, Voluntarism and Grantmaking Foun...</td>\n",
       "      <td>Charlotte</td>\n",
       "      <td>28202</td>\n",
       "      <td>NC</td>\n",
       "      <td>220 North Tryon Street</td>\n",
       "    </tr>\n",
       "    <tr>\n",
       "      <th>474</th>\n",
       "      <td>MAP International</td>\n",
       "      <td>362586390</td>\n",
       "      <td>MAP International is a Christian organization ...</td>\n",
       "      <td>Medicine For The World</td>\n",
       "      <td>7</td>\n",
       "      <td>International</td>\n",
       "      <td>30</td>\n",
       "      <td>Humanitarian Relief Supplies</td>\n",
       "      <td>4.0</td>\n",
       "      <td>1.999107e+08</td>\n",
       "      <td>Charitable Organization</td>\n",
       "      <td>Contributions are deductible</td>\n",
       "      <td>1.0</td>\n",
       "      <td>5.769381e+08</td>\n",
       "      <td>International Relief</td>\n",
       "      <td>International, Foreign Affairs and National Se...</td>\n",
       "      <td>Brunswick</td>\n",
       "      <td>31525</td>\n",
       "      <td>GA</td>\n",
       "      <td>4700 Glynco Parkway</td>\n",
       "    </tr>\n",
       "    <tr>\n",
       "      <th>2874</th>\n",
       "      <td>The Community Foundation for Greater Atlanta</td>\n",
       "      <td>581344646</td>\n",
       "      <td>Since 1951 The Community Foundation for Greate...</td>\n",
       "      <td>Connecting passion with purpose</td>\n",
       "      <td>10</td>\n",
       "      <td>Community Development</td>\n",
       "      <td>22</td>\n",
       "      <td>Community Foundations</td>\n",
       "      <td>4.0</td>\n",
       "      <td>8.864296e+08</td>\n",
       "      <td>Charitable Organization</td>\n",
       "      <td>Contributions are deductible</td>\n",
       "      <td>1.0</td>\n",
       "      <td>5.438112e+08</td>\n",
       "      <td>Community Foundations</td>\n",
       "      <td>Philanthropy, Voluntarism and Grantmaking Foun...</td>\n",
       "      <td>Atlanta</td>\n",
       "      <td>30303</td>\n",
       "      <td>GA</td>\n",
       "      <td>191 Peachtree Street, NE</td>\n",
       "    </tr>\n",
       "    <tr>\n",
       "      <th>4165</th>\n",
       "      <td>Carnegie Institution for Science</td>\n",
       "      <td>530196523</td>\n",
       "      <td>Andrew Carnegie founded the Carnegie Instituti...</td>\n",
       "      <td>Supporting research in the Earth, space, and l...</td>\n",
       "      <td>11</td>\n",
       "      <td>Research and Public Policy</td>\n",
       "      <td>35</td>\n",
       "      <td>Non-Medical Science &amp; Technology Research</td>\n",
       "      <td>3.0</td>\n",
       "      <td>1.239346e+09</td>\n",
       "      <td>Scientific Organization</td>\n",
       "      <td>Contributions are deductible</td>\n",
       "      <td>1.0</td>\n",
       "      <td>4.920396e+08</td>\n",
       "      <td>Astronomy</td>\n",
       "      <td>Science and Technology Research Institutes, Se...</td>\n",
       "      <td>Washington</td>\n",
       "      <td>20005</td>\n",
       "      <td>DC</td>\n",
       "      <td>1530 P Street, NW</td>\n",
       "    </tr>\n",
       "    <tr>\n",
       "      <th>6113</th>\n",
       "      <td>Colonial Williamsburg Foundation</td>\n",
       "      <td>540505888</td>\n",
       "      <td>The Colonial Williamsburg Foundation operates ...</td>\n",
       "      <td>To feed the human spirit by sharing America's ...</td>\n",
       "      <td>2</td>\n",
       "      <td>Arts, Culture, Humanities</td>\n",
       "      <td>3</td>\n",
       "      <td>Museums</td>\n",
       "      <td>3.0</td>\n",
       "      <td>1.481139e+09</td>\n",
       "      <td>Charitable Organization</td>\n",
       "      <td>Contributions are deductible</td>\n",
       "      <td>1.0</td>\n",
       "      <td>4.868086e+08</td>\n",
       "      <td>Historical Societies, Related Historical Activ...</td>\n",
       "      <td>Arts, Culture and Humanities</td>\n",
       "      <td>Williamsburg</td>\n",
       "      <td>23187</td>\n",
       "      <td>VA</td>\n",
       "      <td>P.O. Box 1776</td>\n",
       "    </tr>\n",
       "    <tr>\n",
       "      <th>5250</th>\n",
       "      <td>Wounded Warrior Project</td>\n",
       "      <td>202370934</td>\n",
       "      <td>The mission of Wounded Warrior Project is to h...</td>\n",
       "      <td>The greatest casualty is being forgotten</td>\n",
       "      <td>6</td>\n",
       "      <td>Human Services</td>\n",
       "      <td>29</td>\n",
       "      <td>Social Services</td>\n",
       "      <td>3.0</td>\n",
       "      <td>3.445558e+08</td>\n",
       "      <td>Charitable Organization</td>\n",
       "      <td>Contributions are deductible</td>\n",
       "      <td>1.0</td>\n",
       "      <td>4.579905e+08</td>\n",
       "      <td>Emergency Assistance (Food, Clothing, Cash)</td>\n",
       "      <td>Human Services - Multipurpose and Other</td>\n",
       "      <td>Jacksonville</td>\n",
       "      <td>32256</td>\n",
       "      <td>FL</td>\n",
       "      <td>4899 Belfort Road</td>\n",
       "    </tr>\n",
       "    <tr>\n",
       "      <th>2708</th>\n",
       "      <td>AARP Foundation</td>\n",
       "      <td>520794300</td>\n",
       "      <td>AARP Foundation is working to win back opportu...</td>\n",
       "      <td>AARP Foundation is working to win back opportu...</td>\n",
       "      <td>6</td>\n",
       "      <td>Human Services</td>\n",
       "      <td>29</td>\n",
       "      <td>Social Services</td>\n",
       "      <td>4.0</td>\n",
       "      <td>3.809178e+08</td>\n",
       "      <td>Charitable Organization</td>\n",
       "      <td>Contributions are deductible</td>\n",
       "      <td>1.0</td>\n",
       "      <td>4.511246e+08</td>\n",
       "      <td>Senior Centers, Services</td>\n",
       "      <td>Human Services - Multipurpose and Other</td>\n",
       "      <td>Washington</td>\n",
       "      <td>20049</td>\n",
       "      <td>DC</td>\n",
       "      <td>601 E Street, NW</td>\n",
       "    </tr>\n",
       "    <tr>\n",
       "      <th>3253</th>\n",
       "      <td>The John F. Kennedy Center for the Performing ...</td>\n",
       "      <td>530245017</td>\n",
       "      <td>The John F. Kennedy Center for the Performing ...</td>\n",
       "      <td>Producing and presenting an unmatched variety ...</td>\n",
       "      <td>2</td>\n",
       "      <td>Arts, Culture, Humanities</td>\n",
       "      <td>4</td>\n",
       "      <td>Performing Arts</td>\n",
       "      <td>4.0</td>\n",
       "      <td>5.028848e+08</td>\n",
       "      <td>Charitable Organization</td>\n",
       "      <td>Contributions are deductible</td>\n",
       "      <td>1.0</td>\n",
       "      <td>4.311002e+08</td>\n",
       "      <td>Performing Arts Centers</td>\n",
       "      <td>Arts, Culture and Humanities</td>\n",
       "      <td>Washington</td>\n",
       "      <td>20566</td>\n",
       "      <td>DC</td>\n",
       "      <td>2700 F Street, NW</td>\n",
       "    </tr>\n",
       "    <tr>\n",
       "      <th>2918</th>\n",
       "      <td>National Fish and Wildlife Foundation</td>\n",
       "      <td>521384139</td>\n",
       "      <td>The National Fish and Wildlife Foundation was ...</td>\n",
       "      <td>Protecting and restoring our nation's fish, wi...</td>\n",
       "      <td>1</td>\n",
       "      <td>Animals</td>\n",
       "      <td>1</td>\n",
       "      <td>Wildlife Conservation</td>\n",
       "      <td>4.0</td>\n",
       "      <td>2.785913e+09</td>\n",
       "      <td>Charitable Organization</td>\n",
       "      <td>Contributions are deductible</td>\n",
       "      <td>1.0</td>\n",
       "      <td>3.867499e+08</td>\n",
       "      <td>Wildlife Preservation, Protection</td>\n",
       "      <td>Animal-Related</td>\n",
       "      <td>Washington</td>\n",
       "      <td>20005</td>\n",
       "      <td>DC</td>\n",
       "      <td>1133 Fifteenth Street, N.W.</td>\n",
       "    </tr>\n",
       "    <tr>\n",
       "      <th>298</th>\n",
       "      <td>HealthWell Foundation</td>\n",
       "      <td>200413676</td>\n",
       "      <td>The HealthWell Foundation provides financial a...</td>\n",
       "      <td>When health insurance is not enough</td>\n",
       "      <td>5</td>\n",
       "      <td>Health</td>\n",
       "      <td>34</td>\n",
       "      <td>Patient and Family Support</td>\n",
       "      <td>4.0</td>\n",
       "      <td>2.456862e+08</td>\n",
       "      <td>Charitable Organization</td>\n",
       "      <td>Contributions are deductible</td>\n",
       "      <td>1.0</td>\n",
       "      <td>3.821949e+08</td>\n",
       "      <td>Health - General and Rehabilitative N.E.C.</td>\n",
       "      <td>Health - General and Rehabilitative</td>\n",
       "      <td>Buckeystown</td>\n",
       "      <td>21717</td>\n",
       "      <td>MD</td>\n",
       "      <td>P.O. Box 489</td>\n",
       "    </tr>\n",
       "    <tr>\n",
       "      <th>419</th>\n",
       "      <td>Patient Advocate Foundation</td>\n",
       "      <td>541806317</td>\n",
       "      <td>The mission of the Patient Advocate Foundation...</td>\n",
       "      <td>Solving insurance and healthcare access proble...</td>\n",
       "      <td>5</td>\n",
       "      <td>Health</td>\n",
       "      <td>34</td>\n",
       "      <td>Patient and Family Support</td>\n",
       "      <td>4.0</td>\n",
       "      <td>3.229826e+08</td>\n",
       "      <td>Educational Organization</td>\n",
       "      <td>Contributions are deductible</td>\n",
       "      <td>1.0</td>\n",
       "      <td>3.789293e+08</td>\n",
       "      <td>Educational Services and Schools - Other</td>\n",
       "      <td>Educational Institutions and Related Activities</td>\n",
       "      <td>Hampton</td>\n",
       "      <td>23666</td>\n",
       "      <td>VA</td>\n",
       "      <td>421 Butler Farm Road</td>\n",
       "    </tr>\n",
       "    <tr>\n",
       "      <th>3940</th>\n",
       "      <td>Feed the Children</td>\n",
       "      <td>736108657</td>\n",
       "      <td>At Feed the Children, we feed hungry kids. We ...</td>\n",
       "      <td>Create a world where no child goes to bed hungry.</td>\n",
       "      <td>7</td>\n",
       "      <td>International</td>\n",
       "      <td>30</td>\n",
       "      <td>Humanitarian Relief Supplies</td>\n",
       "      <td>3.0</td>\n",
       "      <td>1.209297e+08</td>\n",
       "      <td>Scientific Organization</td>\n",
       "      <td>Contributions are deductible</td>\n",
       "      <td>1.0</td>\n",
       "      <td>3.756495e+08</td>\n",
       "      <td>International Relief</td>\n",
       "      <td>International, Foreign Affairs and National Se...</td>\n",
       "      <td>Oklahoma City</td>\n",
       "      <td>73101</td>\n",
       "      <td>OK</td>\n",
       "      <td>333 North Meridian Avenue</td>\n",
       "    </tr>\n",
       "    <tr>\n",
       "      <th>2521</th>\n",
       "      <td>Good360</td>\n",
       "      <td>541282616</td>\n",
       "      <td>Good360's mission is to transform lives by pro...</td>\n",
       "      <td>Goods for the Greater Good</td>\n",
       "      <td>6</td>\n",
       "      <td>Human Services</td>\n",
       "      <td>15</td>\n",
       "      <td>Multipurpose Human Service Organizations</td>\n",
       "      <td>4.0</td>\n",
       "      <td>3.002617e+07</td>\n",
       "      <td>Charitable Organization</td>\n",
       "      <td>Contributions are deductible</td>\n",
       "      <td>1.0</td>\n",
       "      <td>3.640865e+08</td>\n",
       "      <td>Nonmonetary Support N.E.C.</td>\n",
       "      <td>International, Foreign Affairs and National Se...</td>\n",
       "      <td>Alexandria</td>\n",
       "      <td>22314</td>\n",
       "      <td>VA</td>\n",
       "      <td>675 North Washington Street</td>\n",
       "    </tr>\n",
       "    <tr>\n",
       "      <th>6410</th>\n",
       "      <td>Habitat for Humanity International</td>\n",
       "      <td>911914868</td>\n",
       "      <td>Driven by the vision that everyone needs a dec...</td>\n",
       "      <td>Eliminating poverty housing and homelessness f...</td>\n",
       "      <td>6</td>\n",
       "      <td>Human Services</td>\n",
       "      <td>15</td>\n",
       "      <td>Multipurpose Human Service Organizations</td>\n",
       "      <td>3.0</td>\n",
       "      <td>2.995660e+08</td>\n",
       "      <td>Charitable Organization</td>\n",
       "      <td>Contributions are deductible</td>\n",
       "      <td>1.0</td>\n",
       "      <td>3.550336e+08</td>\n",
       "      <td>International Relief</td>\n",
       "      <td>International, Foreign Affairs and National Se...</td>\n",
       "      <td>Atlanta</td>\n",
       "      <td>30303</td>\n",
       "      <td>GA</td>\n",
       "      <td>270 Peachtree Street NW</td>\n",
       "    </tr>\n",
       "    <tr>\n",
       "      <th>4265</th>\n",
       "      <td>National Gallery of Art</td>\n",
       "      <td>536001666</td>\n",
       "      <td>Established in 1941, the National Gallery of A...</td>\n",
       "      <td>Preserving, collecting, exhibiting, and foster...</td>\n",
       "      <td>2</td>\n",
       "      <td>Arts, Culture, Humanities</td>\n",
       "      <td>3</td>\n",
       "      <td>Museums</td>\n",
       "      <td>3.0</td>\n",
       "      <td>1.363822e+09</td>\n",
       "      <td>Charitable Organization</td>\n",
       "      <td>Contributions are deductible</td>\n",
       "      <td>1.0</td>\n",
       "      <td>3.456984e+08</td>\n",
       "      <td>Art Museums</td>\n",
       "      <td>Arts, Culture and Humanities</td>\n",
       "      <td>Washington</td>\n",
       "      <td>20565</td>\n",
       "      <td>DC</td>\n",
       "      <td>Sixth Street and Constitution Avenue, NW</td>\n",
       "    </tr>\n",
       "    <tr>\n",
       "      <th>4425</th>\n",
       "      <td>The Christian Broadcasting Network</td>\n",
       "      <td>540678752</td>\n",
       "      <td>The mission of CBN and its affiliated organiza...</td>\n",
       "      <td>Reaching the world with a message of hope from...</td>\n",
       "      <td>9</td>\n",
       "      <td>Religion</td>\n",
       "      <td>25</td>\n",
       "      <td>Religious Media and Broadcasting</td>\n",
       "      <td>3.0</td>\n",
       "      <td>1.704695e+08</td>\n",
       "      <td>Religious Organization</td>\n",
       "      <td>Contributions are deductible</td>\n",
       "      <td>1.0</td>\n",
       "      <td>3.441658e+08</td>\n",
       "      <td>Religious Media, Communications Organizations</td>\n",
       "      <td>Religion-Related, Spiritual Development</td>\n",
       "      <td>Virginia Beach</td>\n",
       "      <td>23463</td>\n",
       "      <td>VA</td>\n",
       "      <td>977 Centerville Turnpike</td>\n",
       "    </tr>\n",
       "    <tr>\n",
       "      <th>...</th>\n",
       "      <td>...</td>\n",
       "      <td>...</td>\n",
       "      <td>...</td>\n",
       "      <td>...</td>\n",
       "      <td>...</td>\n",
       "      <td>...</td>\n",
       "      <td>...</td>\n",
       "      <td>...</td>\n",
       "      <td>...</td>\n",
       "      <td>...</td>\n",
       "      <td>...</td>\n",
       "      <td>...</td>\n",
       "      <td>...</td>\n",
       "      <td>...</td>\n",
       "      <td>...</td>\n",
       "      <td>...</td>\n",
       "      <td>...</td>\n",
       "      <td>...</td>\n",
       "      <td>...</td>\n",
       "      <td>...</td>\n",
       "    </tr>\n",
       "    <tr>\n",
       "      <th>8541</th>\n",
       "      <td>Center of Concern</td>\n",
       "      <td>520941367</td>\n",
       "      <td>Our Mission: The Center of Concern researches,...</td>\n",
       "      <td>Sharing Your Voice for Global Social Justice</td>\n",
       "      <td>8</td>\n",
       "      <td>Human and Civil Rights</td>\n",
       "      <td>21</td>\n",
       "      <td>Advocacy and Education</td>\n",
       "      <td>1.0</td>\n",
       "      <td>5.786360e+05</td>\n",
       "      <td>Charitable Organization</td>\n",
       "      <td>Contributions are deductible</td>\n",
       "      <td>1.0</td>\n",
       "      <td>5.132200e+05</td>\n",
       "      <td>Voter Education, Registration</td>\n",
       "      <td>Civil Rights, Social Action, Advocacy</td>\n",
       "      <td>Washington</td>\n",
       "      <td>20006</td>\n",
       "      <td>DC</td>\n",
       "      <td>1627 K Street NW</td>\n",
       "    </tr>\n",
       "    <tr>\n",
       "      <th>8428</th>\n",
       "      <td>Almost Heaven Habitat for Humanity</td>\n",
       "      <td>550685778</td>\n",
       "      <td>Almost Heaven Habitat for Humanity was organiz...</td>\n",
       "      <td>Seeking to eliminate substandard housing in Ea...</td>\n",
       "      <td>10</td>\n",
       "      <td>Community Development</td>\n",
       "      <td>27</td>\n",
       "      <td>Housing and Neighborhood Development</td>\n",
       "      <td>1.0</td>\n",
       "      <td>5.454666e+06</td>\n",
       "      <td>Charitable Organization</td>\n",
       "      <td>Contributions are deductible</td>\n",
       "      <td>1.0</td>\n",
       "      <td>5.116620e+05</td>\n",
       "      <td>Housing Development, Construction, Management</td>\n",
       "      <td>Housing, Shelter</td>\n",
       "      <td>Lewisburg</td>\n",
       "      <td>24901</td>\n",
       "      <td>WV</td>\n",
       "      <td>PO Box 889</td>\n",
       "    </tr>\n",
       "    <tr>\n",
       "      <th>5206</th>\n",
       "      <td>United Way of Cullman County</td>\n",
       "      <td>630416279</td>\n",
       "      <td>United Way of Cullman County works to improve ...</td>\n",
       "      <td>Live United</td>\n",
       "      <td>10</td>\n",
       "      <td>Community Development</td>\n",
       "      <td>42</td>\n",
       "      <td>United Ways</td>\n",
       "      <td>3.0</td>\n",
       "      <td>5.220990e+05</td>\n",
       "      <td>Charitable Organization</td>\n",
       "      <td>Contributions are deductible</td>\n",
       "      <td>1.0</td>\n",
       "      <td>5.013120e+05</td>\n",
       "      <td>Fund Raising Organizations That Cross Categories</td>\n",
       "      <td>Philanthropy, Voluntarism and Grantmaking Foun...</td>\n",
       "      <td>Cullman</td>\n",
       "      <td>35056</td>\n",
       "      <td>AL</td>\n",
       "      <td>304 First Avenue, NE</td>\n",
       "    </tr>\n",
       "    <tr>\n",
       "      <th>7488</th>\n",
       "      <td>Dance Exchange</td>\n",
       "      <td>521076232</td>\n",
       "      <td>Founded in 1976, Liz Lerman Dance Exchange is ...</td>\n",
       "      <td>Gathering, moving, making.</td>\n",
       "      <td>2</td>\n",
       "      <td>Arts, Culture, Humanities</td>\n",
       "      <td>4</td>\n",
       "      <td>Performing Arts</td>\n",
       "      <td>2.0</td>\n",
       "      <td>9.224330e+05</td>\n",
       "      <td>Charitable Organization</td>\n",
       "      <td>Contributions are deductible</td>\n",
       "      <td>1.0</td>\n",
       "      <td>4.686540e+05</td>\n",
       "      <td>Dance</td>\n",
       "      <td>Arts, Culture and Humanities</td>\n",
       "      <td>Takoma Park</td>\n",
       "      <td>20912</td>\n",
       "      <td>MD</td>\n",
       "      <td>7117 Maple Avenue</td>\n",
       "    </tr>\n",
       "    <tr>\n",
       "      <th>8446</th>\n",
       "      <td>ChildBuilders</td>\n",
       "      <td>237442963</td>\n",
       "      <td>As the only non-profit organization in Houston...</td>\n",
       "      <td>Respected. Nurtured. Protected.</td>\n",
       "      <td>6</td>\n",
       "      <td>Human Services</td>\n",
       "      <td>17</td>\n",
       "      <td>Children's and Family Services</td>\n",
       "      <td>1.0</td>\n",
       "      <td>3.352640e+05</td>\n",
       "      <td>Charitable Organization</td>\n",
       "      <td>Contributions are deductible</td>\n",
       "      <td>1.0</td>\n",
       "      <td>4.515990e+05</td>\n",
       "      <td>Mental Health Association, Multipurpose</td>\n",
       "      <td>Mental Health, Crisis Intervention</td>\n",
       "      <td>Houston</td>\n",
       "      <td>77057</td>\n",
       "      <td>TX</td>\n",
       "      <td>2425 Fountain View Drive</td>\n",
       "    </tr>\n",
       "    <tr>\n",
       "      <th>8132</th>\n",
       "      <td>Mays Mission for the Handicapped</td>\n",
       "      <td>710445210</td>\n",
       "      <td>For over 35 years Mays Mission for the Handica...</td>\n",
       "      <td>It's ability, not disability, that counts</td>\n",
       "      <td>6</td>\n",
       "      <td>Human Services</td>\n",
       "      <td>29</td>\n",
       "      <td>Social Services</td>\n",
       "      <td>2.0</td>\n",
       "      <td>5.332913e+06</td>\n",
       "      <td>Charitable Organization</td>\n",
       "      <td>Contributions are deductible</td>\n",
       "      <td>1.0</td>\n",
       "      <td>4.420810e+05</td>\n",
       "      <td>Vocational Rehabilitation</td>\n",
       "      <td>Employment, Job-Related</td>\n",
       "      <td>Heber Springs</td>\n",
       "      <td>72543</td>\n",
       "      <td>AR</td>\n",
       "      <td>604 Colonial Drive</td>\n",
       "    </tr>\n",
       "    <tr>\n",
       "      <th>8444</th>\n",
       "      <td>National Coalition to Abolish the Death Penalty</td>\n",
       "      <td>232290483</td>\n",
       "      <td>The National Coalition to Abolish the Death Pe...</td>\n",
       "      <td>Devoted to abolishing capital punishment</td>\n",
       "      <td>8</td>\n",
       "      <td>Human and Civil Rights</td>\n",
       "      <td>21</td>\n",
       "      <td>Advocacy and Education</td>\n",
       "      <td>1.0</td>\n",
       "      <td>1.482210e+05</td>\n",
       "      <td>Charitable Organization</td>\n",
       "      <td>Contributions are deductible</td>\n",
       "      <td>1.0</td>\n",
       "      <td>3.754820e+05</td>\n",
       "      <td>Civil Liberties Advocacy</td>\n",
       "      <td>Civil Rights, Social Action, Advocacy</td>\n",
       "      <td>Washington</td>\n",
       "      <td>20003</td>\n",
       "      <td>DC</td>\n",
       "      <td>80 M Street, Southeast</td>\n",
       "    </tr>\n",
       "    <tr>\n",
       "      <th>8069</th>\n",
       "      <td>Lifeword Media Ministries</td>\n",
       "      <td>710394665</td>\n",
       "      <td>Founded in 1965, Lifeword Media Ministries is ...</td>\n",
       "      <td>Communicating the gospel of Jesus Christ</td>\n",
       "      <td>9</td>\n",
       "      <td>Religion</td>\n",
       "      <td>25</td>\n",
       "      <td>Religious Media and Broadcasting</td>\n",
       "      <td>2.0</td>\n",
       "      <td>3.624306e+06</td>\n",
       "      <td>Religious Organization</td>\n",
       "      <td>Contributions are deductible</td>\n",
       "      <td>1.0</td>\n",
       "      <td>3.694150e+05</td>\n",
       "      <td>NaN</td>\n",
       "      <td>NaN</td>\n",
       "      <td>Conway</td>\n",
       "      <td>72034</td>\n",
       "      <td>AR</td>\n",
       "      <td>611 Locust Avenue</td>\n",
       "    </tr>\n",
       "    <tr>\n",
       "      <th>8103</th>\n",
       "      <td>Earth Conservation Corps</td>\n",
       "      <td>521683270</td>\n",
       "      <td>The Earth Conservation Corps empowers our enda...</td>\n",
       "      <td>Empowering our endangered youth to reclaim the...</td>\n",
       "      <td>4</td>\n",
       "      <td>Environment</td>\n",
       "      <td>11</td>\n",
       "      <td>Environmental Protection and Conservation</td>\n",
       "      <td>2.0</td>\n",
       "      <td>8.690740e+05</td>\n",
       "      <td>Charitable Organization</td>\n",
       "      <td>Contributions are deductible</td>\n",
       "      <td>1.0</td>\n",
       "      <td>3.333600e+05</td>\n",
       "      <td>Natural Resources Conservation and Protection</td>\n",
       "      <td>Environmental Quality, Protection and Beautifi...</td>\n",
       "      <td>Washington</td>\n",
       "      <td>20024</td>\n",
       "      <td>DC</td>\n",
       "      <td>1520 First Street, SE</td>\n",
       "    </tr>\n",
       "    <tr>\n",
       "      <th>8591</th>\n",
       "      <td>Selous Foundation for Public Policy Research</td>\n",
       "      <td>521433476</td>\n",
       "      <td>The Selous Foundation - a think tank - founded...</td>\n",
       "      <td>Strengthening the freedom, security prosperity...</td>\n",
       "      <td>11</td>\n",
       "      <td>Research and Public Policy</td>\n",
       "      <td>24</td>\n",
       "      <td>Social and Public Policy Research</td>\n",
       "      <td>1.0</td>\n",
       "      <td>7.391000e+03</td>\n",
       "      <td>Charitable Organization</td>\n",
       "      <td>Contributions are deductible</td>\n",
       "      <td>1.0</td>\n",
       "      <td>2.606280e+05</td>\n",
       "      <td>International, Foreign Affairs, and National S...</td>\n",
       "      <td>International, Foreign Affairs and National Se...</td>\n",
       "      <td>Washington</td>\n",
       "      <td>20003</td>\n",
       "      <td>DC</td>\n",
       "      <td>325 Pennsylvania Avenue, SE</td>\n",
       "    </tr>\n",
       "    <tr>\n",
       "      <th>592</th>\n",
       "      <td>Advocates International</td>\n",
       "      <td>541646669</td>\n",
       "      <td>Advocates International (AI) is guided in its ...</td>\n",
       "      <td>Doing justice with compassion</td>\n",
       "      <td>8</td>\n",
       "      <td>Human and Civil Rights</td>\n",
       "      <td>21</td>\n",
       "      <td>Advocacy and Education</td>\n",
       "      <td>4.0</td>\n",
       "      <td>3.599610e+05</td>\n",
       "      <td>Charitable Organization</td>\n",
       "      <td>Contributions are deductible</td>\n",
       "      <td>1.0</td>\n",
       "      <td>2.596330e+05</td>\n",
       "      <td>International Human Rights</td>\n",
       "      <td>International, Foreign Affairs and National Se...</td>\n",
       "      <td>Alexandria</td>\n",
       "      <td>22302</td>\n",
       "      <td>VA</td>\n",
       "      <td>2920 King Street</td>\n",
       "    </tr>\n",
       "    <tr>\n",
       "      <th>8457</th>\n",
       "      <td>Black Student Fund</td>\n",
       "      <td>526053597</td>\n",
       "      <td>The Black Student Fund (BSF) is dedicated to b...</td>\n",
       "      <td>We build strong futures</td>\n",
       "      <td>3</td>\n",
       "      <td>Education</td>\n",
       "      <td>37</td>\n",
       "      <td>Scholarship and Financial Support</td>\n",
       "      <td>1.0</td>\n",
       "      <td>3.318500e+04</td>\n",
       "      <td>Charitable Organization</td>\n",
       "      <td>Contributions are deductible</td>\n",
       "      <td>1.0</td>\n",
       "      <td>2.491190e+05</td>\n",
       "      <td>NaN</td>\n",
       "      <td>NaN</td>\n",
       "      <td>Washington</td>\n",
       "      <td>20010</td>\n",
       "      <td>DC</td>\n",
       "      <td>3636 Sixteenth Street, NW</td>\n",
       "    </tr>\n",
       "    <tr>\n",
       "      <th>5101</th>\n",
       "      <td>OutServe-SLDN</td>\n",
       "      <td>521845000</td>\n",
       "      <td>OutServe-SLDN is the association of actively s...</td>\n",
       "      <td>Stronger. Together.</td>\n",
       "      <td>8</td>\n",
       "      <td>Human and Civil Rights</td>\n",
       "      <td>21</td>\n",
       "      <td>Advocacy and Education</td>\n",
       "      <td>4.0</td>\n",
       "      <td>6.302560e+05</td>\n",
       "      <td>Charitable Organization</td>\n",
       "      <td>Contributions are deductible</td>\n",
       "      <td>1.0</td>\n",
       "      <td>2.414340e+05</td>\n",
       "      <td>Legal Services</td>\n",
       "      <td>Crime, Legal-Related</td>\n",
       "      <td>Washington</td>\n",
       "      <td>20035</td>\n",
       "      <td>DC</td>\n",
       "      <td>P.O. Box 65301</td>\n",
       "    </tr>\n",
       "    <tr>\n",
       "      <th>7169</th>\n",
       "      <td>Holy Land Christian Ecumenical Foundation</td>\n",
       "      <td>522175622</td>\n",
       "      <td>The Holy Land Christian Ecumenical Foundation ...</td>\n",
       "      <td>Preserving the Christian presence in the Holy ...</td>\n",
       "      <td>9</td>\n",
       "      <td>Religion</td>\n",
       "      <td>26</td>\n",
       "      <td>Religious Activities</td>\n",
       "      <td>3.0</td>\n",
       "      <td>5.152300e+04</td>\n",
       "      <td>Educational Organization</td>\n",
       "      <td>Contributions are deductible</td>\n",
       "      <td>1.0</td>\n",
       "      <td>2.335370e+05</td>\n",
       "      <td>Protestant</td>\n",
       "      <td>Religion-Related, Spiritual Development</td>\n",
       "      <td>Bethesda</td>\n",
       "      <td>20815</td>\n",
       "      <td>MD</td>\n",
       "      <td>6935 Wisconsin Avenue</td>\n",
       "    </tr>\n",
       "    <tr>\n",
       "      <th>8200</th>\n",
       "      <td>Citizens for Global Solutions Education Fund</td>\n",
       "      <td>526081813</td>\n",
       "      <td>Citizens for Global Solutions Education Fund e...</td>\n",
       "      <td>Inspiring America to engage the world</td>\n",
       "      <td>7</td>\n",
       "      <td>International</td>\n",
       "      <td>19</td>\n",
       "      <td>International Peace, Security, and Affairs</td>\n",
       "      <td>2.0</td>\n",
       "      <td>8.221900e+04</td>\n",
       "      <td>Educational Organization</td>\n",
       "      <td>Contributions are deductible</td>\n",
       "      <td>1.0</td>\n",
       "      <td>1.861760e+05</td>\n",
       "      <td>Research Institutes and/or Public Policy Analy...</td>\n",
       "      <td>International, Foreign Affairs and National Se...</td>\n",
       "      <td>Washington</td>\n",
       "      <td>20005</td>\n",
       "      <td>DC</td>\n",
       "      <td>5 Thomas Circle NW</td>\n",
       "    </tr>\n",
       "    <tr>\n",
       "      <th>8493</th>\n",
       "      <td>Foundation for End-of-Life Care</td>\n",
       "      <td>650943337</td>\n",
       "      <td>The Foundation for End-of-Life Care serves as ...</td>\n",
       "      <td>Champions for improving end-of-life care</td>\n",
       "      <td>6</td>\n",
       "      <td>Human Services</td>\n",
       "      <td>29</td>\n",
       "      <td>Social Services</td>\n",
       "      <td>1.0</td>\n",
       "      <td>8.268100e+04</td>\n",
       "      <td>Charitable Organization</td>\n",
       "      <td>Contributions are deductible</td>\n",
       "      <td>1.0</td>\n",
       "      <td>8.643300e+04</td>\n",
       "      <td>Research Institutes and/or Public Policy Analy...</td>\n",
       "      <td>Health - General and Rehabilitative</td>\n",
       "      <td>Hollywood</td>\n",
       "      <td>33021</td>\n",
       "      <td>FL</td>\n",
       "      <td>3325 Hollywood Boulevard</td>\n",
       "    </tr>\n",
       "    <tr>\n",
       "      <th>8627</th>\n",
       "      <td>Organ Donation And Transplant Association Of A...</td>\n",
       "      <td>300339531</td>\n",
       "      <td>We are a small group of concerned individuals ...</td>\n",
       "      <td>Leave a legacy - share your life with others</td>\n",
       "      <td>5</td>\n",
       "      <td>Health</td>\n",
       "      <td>14</td>\n",
       "      <td>Medical Research</td>\n",
       "      <td>0.0</td>\n",
       "      <td>2.828900e+04</td>\n",
       "      <td>Charitable Organization</td>\n",
       "      <td>Contributions are deductible</td>\n",
       "      <td>1.0</td>\n",
       "      <td>7.165300e+04</td>\n",
       "      <td>Fund Raising and/or Fund Distribution</td>\n",
       "      <td>Health - General and Rehabilitative</td>\n",
       "      <td>North Palm Beach</td>\n",
       "      <td>33408</td>\n",
       "      <td>FL</td>\n",
       "      <td>108 Lakeshore Drive</td>\n",
       "    </tr>\n",
       "    <tr>\n",
       "      <th>5472</th>\n",
       "      <td>BBYO</td>\n",
       "      <td>311794932</td>\n",
       "      <td>BBYO is the leading pluralistic teen movement ...</td>\n",
       "      <td>More Jewish Teens, More Meaningful Jewish Expe...</td>\n",
       "      <td>9</td>\n",
       "      <td>Religion</td>\n",
       "      <td>26</td>\n",
       "      <td>Religious Activities</td>\n",
       "      <td>3.0</td>\n",
       "      <td>0.000000e+00</td>\n",
       "      <td>Charitable Organization</td>\n",
       "      <td>Contributions are deductible</td>\n",
       "      <td>1.0</td>\n",
       "      <td>0.000000e+00</td>\n",
       "      <td>Youth Development - Religious Leadership</td>\n",
       "      <td>Youth Development</td>\n",
       "      <td>Washington</td>\n",
       "      <td>20001</td>\n",
       "      <td>DC</td>\n",
       "      <td>800 Eigth Street, NW.</td>\n",
       "    </tr>\n",
       "    <tr>\n",
       "      <th>5399</th>\n",
       "      <td>Trout Unlimited, National Office</td>\n",
       "      <td>381612715</td>\n",
       "      <td>Trout Unlimited's (TU) mission is to conserve,...</td>\n",
       "      <td>Conserving, protecting, and restoring North Am...</td>\n",
       "      <td>1</td>\n",
       "      <td>Animals</td>\n",
       "      <td>1</td>\n",
       "      <td>Wildlife Conservation</td>\n",
       "      <td>3.0</td>\n",
       "      <td>0.000000e+00</td>\n",
       "      <td>Charitable Organization</td>\n",
       "      <td>Contributions are deductible</td>\n",
       "      <td>1.0</td>\n",
       "      <td>0.000000e+00</td>\n",
       "      <td>Fisheries Resources</td>\n",
       "      <td>Animal-Related</td>\n",
       "      <td>Arlington</td>\n",
       "      <td>22209</td>\n",
       "      <td>VA</td>\n",
       "      <td>1777 North Kent Street</td>\n",
       "    </tr>\n",
       "    <tr>\n",
       "      <th>1475</th>\n",
       "      <td>Dan Marino Foundation</td>\n",
       "      <td>650320556</td>\n",
       "      <td>The Dan Marino Foundation was established in 1...</td>\n",
       "      <td>opening doors</td>\n",
       "      <td>5</td>\n",
       "      <td>Health</td>\n",
       "      <td>13</td>\n",
       "      <td>Diseases, Disorders, and Disciplines</td>\n",
       "      <td>4.0</td>\n",
       "      <td>NaN</td>\n",
       "      <td>Charitable Organization</td>\n",
       "      <td>Contributions are deductible</td>\n",
       "      <td>1.0</td>\n",
       "      <td>NaN</td>\n",
       "      <td>Human Service Organizations - Multipurpose</td>\n",
       "      <td>Human Services - Multipurpose and Other</td>\n",
       "      <td>Ft. Lauderdale</td>\n",
       "      <td>33301</td>\n",
       "      <td>FL</td>\n",
       "      <td>400 North Andrews Avenue</td>\n",
       "    </tr>\n",
       "    <tr>\n",
       "      <th>2937</th>\n",
       "      <td>Catholic Relief Services</td>\n",
       "      <td>135563422</td>\n",
       "      <td>Catholic Relief Services was founded in 1943 b...</td>\n",
       "      <td>Faith. Action. Results.</td>\n",
       "      <td>7</td>\n",
       "      <td>International</td>\n",
       "      <td>20</td>\n",
       "      <td>Development and Relief Services</td>\n",
       "      <td>4.0</td>\n",
       "      <td>NaN</td>\n",
       "      <td>Charitable Organization</td>\n",
       "      <td>Contributions are deductible</td>\n",
       "      <td>1.0</td>\n",
       "      <td>NaN</td>\n",
       "      <td>NaN</td>\n",
       "      <td>NaN</td>\n",
       "      <td>Baltimore</td>\n",
       "      <td>21201</td>\n",
       "      <td>MD</td>\n",
       "      <td>228 West Lexington Street</td>\n",
       "    </tr>\n",
       "    <tr>\n",
       "      <th>3369</th>\n",
       "      <td>Education Writers Association</td>\n",
       "      <td>237439790</td>\n",
       "      <td>Founded in 1947, the Education Writers Associa...</td>\n",
       "      <td>Dedicated to improving the quality and quantit...</td>\n",
       "      <td>3</td>\n",
       "      <td>Education</td>\n",
       "      <td>41</td>\n",
       "      <td>Education Policy and Reform</td>\n",
       "      <td>4.0</td>\n",
       "      <td>NaN</td>\n",
       "      <td>Educational Organization</td>\n",
       "      <td>Contributions are deductible</td>\n",
       "      <td>1.0</td>\n",
       "      <td>NaN</td>\n",
       "      <td>NaN</td>\n",
       "      <td>NaN</td>\n",
       "      <td>Washington</td>\n",
       "      <td>20008</td>\n",
       "      <td>DC</td>\n",
       "      <td>3516 Connecticut Avenue, NW</td>\n",
       "    </tr>\n",
       "    <tr>\n",
       "      <th>3583</th>\n",
       "      <td>United Methodist Committee on Relief</td>\n",
       "      <td>135562279</td>\n",
       "      <td>Founded in 1940, the United Methodist Committe...</td>\n",
       "      <td>Be there. Be hope.</td>\n",
       "      <td>7</td>\n",
       "      <td>International</td>\n",
       "      <td>20</td>\n",
       "      <td>Development and Relief Services</td>\n",
       "      <td>3.0</td>\n",
       "      <td>NaN</td>\n",
       "      <td>Religious Organization</td>\n",
       "      <td>Contributions are deductible</td>\n",
       "      <td>1.0</td>\n",
       "      <td>NaN</td>\n",
       "      <td>NaN</td>\n",
       "      <td>NaN</td>\n",
       "      <td>Atlanta</td>\n",
       "      <td>30308</td>\n",
       "      <td>GA</td>\n",
       "      <td>458 Ponce De Leon Avenue</td>\n",
       "    </tr>\n",
       "    <tr>\n",
       "      <th>5007</th>\n",
       "      <td>Boys &amp; Girls Clubs of Bay County</td>\n",
       "      <td>591114292</td>\n",
       "      <td>The mission of the Boys &amp; Girls Clubs of Bay C...</td>\n",
       "      <td>The positive place for kids</td>\n",
       "      <td>6</td>\n",
       "      <td>Human Services</td>\n",
       "      <td>16</td>\n",
       "      <td>Youth Development, Shelter, and Crisis Services</td>\n",
       "      <td>3.0</td>\n",
       "      <td>NaN</td>\n",
       "      <td>Charitable Organization</td>\n",
       "      <td>Contributions are deductible</td>\n",
       "      <td>1.0</td>\n",
       "      <td>NaN</td>\n",
       "      <td>Boys Clubs</td>\n",
       "      <td>Youth Development</td>\n",
       "      <td>Panama City</td>\n",
       "      <td>32402</td>\n",
       "      <td>FL</td>\n",
       "      <td>P.O. Box 914</td>\n",
       "    </tr>\n",
       "    <tr>\n",
       "      <th>5823</th>\n",
       "      <td>National Cyber Security Alliance</td>\n",
       "      <td>20629238</td>\n",
       "      <td>The National Cyber Security Alliance's mission...</td>\n",
       "      <td>Stay safe online.</td>\n",
       "      <td>11</td>\n",
       "      <td>Research and Public Policy</td>\n",
       "      <td>24</td>\n",
       "      <td>Social and Public Policy Research</td>\n",
       "      <td>3.0</td>\n",
       "      <td>NaN</td>\n",
       "      <td>NaN</td>\n",
       "      <td>NaN</td>\n",
       "      <td>NaN</td>\n",
       "      <td>NaN</td>\n",
       "      <td>NaN</td>\n",
       "      <td>NaN</td>\n",
       "      <td>Washington</td>\n",
       "      <td>20005</td>\n",
       "      <td>DC</td>\n",
       "      <td>1010 Vermont Avenue, NW</td>\n",
       "    </tr>\n",
       "    <tr>\n",
       "      <th>6946</th>\n",
       "      <td>Washington Performing Arts Society</td>\n",
       "      <td>526062439</td>\n",
       "      <td>Washington Performing Arts Society (WPAS) is o...</td>\n",
       "      <td>Experience the best</td>\n",
       "      <td>2</td>\n",
       "      <td>Arts, Culture, Humanities</td>\n",
       "      <td>4</td>\n",
       "      <td>Performing Arts</td>\n",
       "      <td>3.0</td>\n",
       "      <td>NaN</td>\n",
       "      <td>Charitable Organization</td>\n",
       "      <td>Contributions are deductible</td>\n",
       "      <td>1.0</td>\n",
       "      <td>NaN</td>\n",
       "      <td>Performing Arts Centers</td>\n",
       "      <td>Arts, Culture and Humanities</td>\n",
       "      <td>Washington</td>\n",
       "      <td>20005</td>\n",
       "      <td>DC</td>\n",
       "      <td>1400 K Street NW</td>\n",
       "    </tr>\n",
       "    <tr>\n",
       "      <th>7913</th>\n",
       "      <td>National Kidney Foundation of Maryland</td>\n",
       "      <td>526069952</td>\n",
       "      <td>The National Kidney Foundation of Maryland is ...</td>\n",
       "      <td>Improving the health of individuals and families</td>\n",
       "      <td>5</td>\n",
       "      <td>Health</td>\n",
       "      <td>13</td>\n",
       "      <td>Diseases, Disorders, and Disciplines</td>\n",
       "      <td>2.0</td>\n",
       "      <td>NaN</td>\n",
       "      <td>NaN</td>\n",
       "      <td>NaN</td>\n",
       "      <td>NaN</td>\n",
       "      <td>NaN</td>\n",
       "      <td>NaN</td>\n",
       "      <td>NaN</td>\n",
       "      <td>Lutherville</td>\n",
       "      <td>21093</td>\n",
       "      <td>MD</td>\n",
       "      <td>1301 York Road</td>\n",
       "    </tr>\n",
       "    <tr>\n",
       "      <th>8373</th>\n",
       "      <td>Planned Parenthood of Tennessee and North Miss...</td>\n",
       "      <td>626050064</td>\n",
       "      <td>In response to growing awareness of the need f...</td>\n",
       "      <td>Providing educational and medical treatment op...</td>\n",
       "      <td>5</td>\n",
       "      <td>Health</td>\n",
       "      <td>12</td>\n",
       "      <td>Treatment and Prevention Services</td>\n",
       "      <td>1.0</td>\n",
       "      <td>NaN</td>\n",
       "      <td>NaN</td>\n",
       "      <td>NaN</td>\n",
       "      <td>NaN</td>\n",
       "      <td>NaN</td>\n",
       "      <td>NaN</td>\n",
       "      <td>NaN</td>\n",
       "      <td>Nashville</td>\n",
       "      <td>37228</td>\n",
       "      <td>TN</td>\n",
       "      <td>50 Vantage Way</td>\n",
       "    </tr>\n",
       "    <tr>\n",
       "      <th>8376</th>\n",
       "      <td>PearlPoint Cancer Support</td>\n",
       "      <td>581747771</td>\n",
       "      <td>PearlPoint Cancer Support provides personalize...</td>\n",
       "      <td>Creating a more confident cancer journey for a...</td>\n",
       "      <td>5</td>\n",
       "      <td>Health</td>\n",
       "      <td>34</td>\n",
       "      <td>Patient and Family Support</td>\n",
       "      <td>1.0</td>\n",
       "      <td>NaN</td>\n",
       "      <td>NaN</td>\n",
       "      <td>NaN</td>\n",
       "      <td>NaN</td>\n",
       "      <td>NaN</td>\n",
       "      <td>NaN</td>\n",
       "      <td>NaN</td>\n",
       "      <td>Nashville</td>\n",
       "      <td>37203</td>\n",
       "      <td>TN</td>\n",
       "      <td>2817 West End Avenue</td>\n",
       "    </tr>\n",
       "    <tr>\n",
       "      <th>8487</th>\n",
       "      <td>B'nai B'rith International</td>\n",
       "      <td>530179971</td>\n",
       "      <td>B'nai B'rith International (BBI), the global v...</td>\n",
       "      <td>The global voice of the Jewish community</td>\n",
       "      <td>7</td>\n",
       "      <td>International</td>\n",
       "      <td>19</td>\n",
       "      <td>International Peace, Security, and Affairs</td>\n",
       "      <td>1.0</td>\n",
       "      <td>NaN</td>\n",
       "      <td>Charitable Organization</td>\n",
       "      <td>Contributions are deductible</td>\n",
       "      <td>1.0</td>\n",
       "      <td>NaN</td>\n",
       "      <td>NaN</td>\n",
       "      <td>NaN</td>\n",
       "      <td>Washington</td>\n",
       "      <td>20036</td>\n",
       "      <td>DC</td>\n",
       "      <td>1120 20th Street, NW</td>\n",
       "    </tr>\n",
       "  </tbody>\n",
       "</table>\n",
       "<p>2960 rows × 20 columns</p>\n",
       "</div>"
      ],
      "text/plain": [
       "                                            charityName        ein  \\\n",
       "4188                                 American Red Cross  530196605   \n",
       "699                     Shriners Hospitals for Children  362193608   \n",
       "2847      ALSAC - St. Jude Children's Research Hospital  351044585   \n",
       "4415                                               UNCF  131624241   \n",
       "6105                             The Nature Conservancy  530242652   \n",
       "2383                            Smithsonian Institution  530206027   \n",
       "4457             Boy Scouts of America National Council  221576300   \n",
       "199                          Cystic Fibrosis Foundation  131930701   \n",
       "7340                            American Cancer Society  131788491   \n",
       "3191                         American Heart Association  135613797   \n",
       "4977                                  Food For The Poor  592174510   \n",
       "648                                   Samaritan's Purse  581437002   \n",
       "3881                                               CARE  131685039   \n",
       "445                                Step Up For Students  593649371   \n",
       "1113                       Foundation For The Carolinas  566047886   \n",
       "474                                   MAP International  362586390   \n",
       "2874       The Community Foundation for Greater Atlanta  581344646   \n",
       "4165                   Carnegie Institution for Science  530196523   \n",
       "6113                   Colonial Williamsburg Foundation  540505888   \n",
       "5250                            Wounded Warrior Project  202370934   \n",
       "2708                                    AARP Foundation  520794300   \n",
       "3253  The John F. Kennedy Center for the Performing ...  530245017   \n",
       "2918              National Fish and Wildlife Foundation  521384139   \n",
       "298                               HealthWell Foundation  200413676   \n",
       "419                         Patient Advocate Foundation  541806317   \n",
       "3940                                  Feed the Children  736108657   \n",
       "2521                                            Good360  541282616   \n",
       "6410                 Habitat for Humanity International  911914868   \n",
       "4265                            National Gallery of Art  536001666   \n",
       "4425                 The Christian Broadcasting Network  540678752   \n",
       "...                                                 ...        ...   \n",
       "8541                                  Center of Concern  520941367   \n",
       "8428                 Almost Heaven Habitat for Humanity  550685778   \n",
       "5206                       United Way of Cullman County  630416279   \n",
       "7488                                     Dance Exchange  521076232   \n",
       "8446                                      ChildBuilders  237442963   \n",
       "8132                   Mays Mission for the Handicapped  710445210   \n",
       "8444    National Coalition to Abolish the Death Penalty  232290483   \n",
       "8069                          Lifeword Media Ministries  710394665   \n",
       "8103                           Earth Conservation Corps  521683270   \n",
       "8591       Selous Foundation for Public Policy Research  521433476   \n",
       "592                             Advocates International  541646669   \n",
       "8457                                 Black Student Fund  526053597   \n",
       "5101                                      OutServe-SLDN  521845000   \n",
       "7169          Holy Land Christian Ecumenical Foundation  522175622   \n",
       "8200       Citizens for Global Solutions Education Fund  526081813   \n",
       "8493                    Foundation for End-of-Life Care  650943337   \n",
       "8627  Organ Donation And Transplant Association Of A...  300339531   \n",
       "5472                                               BBYO  311794932   \n",
       "5399                   Trout Unlimited, National Office  381612715   \n",
       "1475                              Dan Marino Foundation  650320556   \n",
       "2937                           Catholic Relief Services  135563422   \n",
       "3369                      Education Writers Association  237439790   \n",
       "3583               United Methodist Committee on Relief  135562279   \n",
       "5007                   Boys & Girls Clubs of Bay County  591114292   \n",
       "5823                   National Cyber Security Alliance   20629238   \n",
       "6946                 Washington Performing Arts Society  526062439   \n",
       "7913             National Kidney Foundation of Maryland  526069952   \n",
       "8373  Planned Parenthood of Tennessee and North Miss...  626050064   \n",
       "8376                          PearlPoint Cancer Support  581747771   \n",
       "8487                         B'nai B'rith International  530179971   \n",
       "\n",
       "                                                mission  \\\n",
       "4188  Since its founding in 1881 by visionary leader...   \n",
       "699   Shriners Hospitals for Children is a one-of-a-...   \n",
       "2847  ALSAC (American Lebanese Syrian Associated Cha...   \n",
       "4415  Since its inception in 1944, UNCF has grown to...   \n",
       "6105  The Nature Conservancy is a leading conservati...   \n",
       "2383  Our Mission is the increase and diffusion of k...   \n",
       "4457  The mission of the Boy Scouts of America (BSA)...   \n",
       "199   The Cystic Fibrosis Foundation (CFF) was estab...   \n",
       "7340  The American Cancer Society's mission is to sa...   \n",
       "3191  The American Heart Association is the nation's...   \n",
       "4977  Food For The Poor (FFP) ministers to spiritual...   \n",
       "648   Samaritan's Purse is a nondenominational evang...   \n",
       "3881  Founded in 1945, CARE is a leading humanitaria...   \n",
       "445   Step Up For Students empowers parents to pursu...   \n",
       "1113  Established in 1958, Foundation For The Caroli...   \n",
       "474   MAP International is a Christian organization ...   \n",
       "2874  Since 1951 The Community Foundation for Greate...   \n",
       "4165  Andrew Carnegie founded the Carnegie Instituti...   \n",
       "6113  The Colonial Williamsburg Foundation operates ...   \n",
       "5250  The mission of Wounded Warrior Project is to h...   \n",
       "2708  AARP Foundation is working to win back opportu...   \n",
       "3253  The John F. Kennedy Center for the Performing ...   \n",
       "2918  The National Fish and Wildlife Foundation was ...   \n",
       "298   The HealthWell Foundation provides financial a...   \n",
       "419   The mission of the Patient Advocate Foundation...   \n",
       "3940  At Feed the Children, we feed hungry kids. We ...   \n",
       "2521  Good360's mission is to transform lives by pro...   \n",
       "6410  Driven by the vision that everyone needs a dec...   \n",
       "4265  Established in 1941, the National Gallery of A...   \n",
       "4425  The mission of CBN and its affiliated organiza...   \n",
       "...                                                 ...   \n",
       "8541  Our Mission: The Center of Concern researches,...   \n",
       "8428  Almost Heaven Habitat for Humanity was organiz...   \n",
       "5206  United Way of Cullman County works to improve ...   \n",
       "7488  Founded in 1976, Liz Lerman Dance Exchange is ...   \n",
       "8446  As the only non-profit organization in Houston...   \n",
       "8132  For over 35 years Mays Mission for the Handica...   \n",
       "8444  The National Coalition to Abolish the Death Pe...   \n",
       "8069  Founded in 1965, Lifeword Media Ministries is ...   \n",
       "8103  The Earth Conservation Corps empowers our enda...   \n",
       "8591  The Selous Foundation - a think tank - founded...   \n",
       "592   Advocates International (AI) is guided in its ...   \n",
       "8457  The Black Student Fund (BSF) is dedicated to b...   \n",
       "5101  OutServe-SLDN is the association of actively s...   \n",
       "7169  The Holy Land Christian Ecumenical Foundation ...   \n",
       "8200  Citizens for Global Solutions Education Fund e...   \n",
       "8493  The Foundation for End-of-Life Care serves as ...   \n",
       "8627  We are a small group of concerned individuals ...   \n",
       "5472  BBYO is the leading pluralistic teen movement ...   \n",
       "5399  Trout Unlimited's (TU) mission is to conserve,...   \n",
       "1475  The Dan Marino Foundation was established in 1...   \n",
       "2937  Catholic Relief Services was founded in 1943 b...   \n",
       "3369  Founded in 1947, the Education Writers Associa...   \n",
       "3583  Founded in 1940, the United Methodist Committe...   \n",
       "5007  The mission of the Boys & Girls Clubs of Bay C...   \n",
       "5823  The National Cyber Security Alliance's mission...   \n",
       "6946  Washington Performing Arts Society (WPAS) is o...   \n",
       "7913  The National Kidney Foundation of Maryland is ...   \n",
       "8373  In response to growing awareness of the need f...   \n",
       "8376  PearlPoint Cancer Support provides personalize...   \n",
       "8487  B'nai B'rith International (BBI), the global v...   \n",
       "\n",
       "                                                tagLine  categoryID  \\\n",
       "4188  Helping prevent and alleviate human suffering ...           6   \n",
       "699                                 Love to the rescue.           5   \n",
       "2847  Fundraising for St. Jude Children's Research H...           5   \n",
       "4415                A mind is a terrible thing to waste           3   \n",
       "6105                Protecting nature. Preserving life.           4   \n",
       "2383                                  Seriously Amazing           2   \n",
       "4457                The nation's foremost youth program           6   \n",
       "199                          Adding tomorrows every day           5   \n",
       "7340  Save lives, celebrate lives, and lead the figh...           5   \n",
       "3191                       Live a Long and Healthy Life           5   \n",
       "4977                    Serving the poorest of the poor           7   \n",
       "648                                International relief           7   \n",
       "3881                Defending dignity, fighting poverty           7   \n",
       "445           Every child deserves a chance to succeed.           3   \n",
       "1113                             Inspiring philanthropy          10   \n",
       "474                              Medicine For The World           7   \n",
       "2874                    Connecting passion with purpose          10   \n",
       "4165  Supporting research in the Earth, space, and l...          11   \n",
       "6113  To feed the human spirit by sharing America's ...           2   \n",
       "5250           The greatest casualty is being forgotten           6   \n",
       "2708  AARP Foundation is working to win back opportu...           6   \n",
       "3253  Producing and presenting an unmatched variety ...           2   \n",
       "2918  Protecting and restoring our nation's fish, wi...           1   \n",
       "298                 When health insurance is not enough           5   \n",
       "419   Solving insurance and healthcare access proble...           5   \n",
       "3940  Create a world where no child goes to bed hungry.           7   \n",
       "2521                         Goods for the Greater Good           6   \n",
       "6410  Eliminating poverty housing and homelessness f...           6   \n",
       "4265  Preserving, collecting, exhibiting, and foster...           2   \n",
       "4425  Reaching the world with a message of hope from...           9   \n",
       "...                                                 ...         ...   \n",
       "8541       Sharing Your Voice for Global Social Justice           8   \n",
       "8428  Seeking to eliminate substandard housing in Ea...          10   \n",
       "5206                                        Live United          10   \n",
       "7488                         Gathering, moving, making.           2   \n",
       "8446                   Respected. Nurtured. Protected.            6   \n",
       "8132          It's ability, not disability, that counts           6   \n",
       "8444           Devoted to abolishing capital punishment           8   \n",
       "8069           Communicating the gospel of Jesus Christ           9   \n",
       "8103  Empowering our endangered youth to reclaim the...           4   \n",
       "8591  Strengthening the freedom, security prosperity...          11   \n",
       "592                       Doing justice with compassion           8   \n",
       "8457                            We build strong futures           3   \n",
       "5101                                Stronger. Together.           8   \n",
       "7169  Preserving the Christian presence in the Holy ...           9   \n",
       "8200              Inspiring America to engage the world           7   \n",
       "8493           Champions for improving end-of-life care           6   \n",
       "8627       Leave a legacy - share your life with others           5   \n",
       "5472  More Jewish Teens, More Meaningful Jewish Expe...           9   \n",
       "5399  Conserving, protecting, and restoring North Am...           1   \n",
       "1475                                      opening doors           5   \n",
       "2937                            Faith. Action. Results.           7   \n",
       "3369  Dedicated to improving the quality and quantit...           3   \n",
       "3583                                 Be there. Be hope.           7   \n",
       "5007                        The positive place for kids           6   \n",
       "5823                                  Stay safe online.          11   \n",
       "6946                                Experience the best           2   \n",
       "7913   Improving the health of individuals and families           5   \n",
       "8373  Providing educational and medical treatment op...           5   \n",
       "8376  Creating a more confident cancer journey for a...           5   \n",
       "8487           The global voice of the Jewish community           7   \n",
       "\n",
       "                    categoryName  causeID  \\\n",
       "4188              Human Services       15   \n",
       "699                       Health       12   \n",
       "2847                      Health       12   \n",
       "4415                   Education       37   \n",
       "6105                 Environment       11   \n",
       "2383   Arts, Culture, Humanities        3   \n",
       "4457              Human Services       16   \n",
       "199                       Health       13   \n",
       "7340                      Health       13   \n",
       "3191                      Health       13   \n",
       "4977               International       30   \n",
       "648                International       20   \n",
       "3881               International       20   \n",
       "445                    Education       37   \n",
       "1113       Community Development       22   \n",
       "474                International       30   \n",
       "2874       Community Development       22   \n",
       "4165  Research and Public Policy       35   \n",
       "6113   Arts, Culture, Humanities        3   \n",
       "5250              Human Services       29   \n",
       "2708              Human Services       29   \n",
       "3253   Arts, Culture, Humanities        4   \n",
       "2918                     Animals        1   \n",
       "298                       Health       34   \n",
       "419                       Health       34   \n",
       "3940               International       30   \n",
       "2521              Human Services       15   \n",
       "6410              Human Services       15   \n",
       "4265   Arts, Culture, Humanities        3   \n",
       "4425                    Religion       25   \n",
       "...                          ...      ...   \n",
       "8541      Human and Civil Rights       21   \n",
       "8428       Community Development       27   \n",
       "5206       Community Development       42   \n",
       "7488   Arts, Culture, Humanities        4   \n",
       "8446              Human Services       17   \n",
       "8132              Human Services       29   \n",
       "8444      Human and Civil Rights       21   \n",
       "8069                    Religion       25   \n",
       "8103                 Environment       11   \n",
       "8591  Research and Public Policy       24   \n",
       "592       Human and Civil Rights       21   \n",
       "8457                   Education       37   \n",
       "5101      Human and Civil Rights       21   \n",
       "7169                    Religion       26   \n",
       "8200               International       19   \n",
       "8493              Human Services       29   \n",
       "8627                      Health       14   \n",
       "5472                    Religion       26   \n",
       "5399                     Animals        1   \n",
       "1475                      Health       13   \n",
       "2937               International       20   \n",
       "3369                   Education       41   \n",
       "3583               International       20   \n",
       "5007              Human Services       16   \n",
       "5823  Research and Public Policy       24   \n",
       "6946   Arts, Culture, Humanities        4   \n",
       "7913                      Health       13   \n",
       "8373                      Health       12   \n",
       "8376                      Health       34   \n",
       "8487               International       19   \n",
       "\n",
       "                                            causeName  rating   assetAmount  \\\n",
       "4188         Multipurpose Human Service Organizations     3.0  3.240247e+09   \n",
       "699                 Treatment and Prevention Services     4.0  9.210344e+09   \n",
       "2847                Treatment and Prevention Services     4.0  4.780600e+09   \n",
       "4415                Scholarship and Financial Support     3.0  6.841648e+08   \n",
       "6105        Environmental Protection and Conservation     3.0  7.409865e+09   \n",
       "2383                                          Museums     4.0  4.889815e+09   \n",
       "4457  Youth Development, Shelter, and Crisis Services     4.0  1.386074e+09   \n",
       "199              Diseases, Disorders, and Disciplines     4.0  4.401078e+09   \n",
       "7340             Diseases, Disorders, and Disciplines     3.0  1.697658e+09   \n",
       "3191             Diseases, Disorders, and Disciplines     4.0  1.412916e+09   \n",
       "4977                     Humanitarian Relief Supplies     3.0  4.157769e+07   \n",
       "648                   Development and Relief Services     4.0  6.782103e+08   \n",
       "3881                  Development and Relief Services     3.0  5.175340e+08   \n",
       "445                 Scholarship and Financial Support     4.0  5.893943e+08   \n",
       "1113                            Community Foundations     4.0  1.905766e+09   \n",
       "474                      Humanitarian Relief Supplies     4.0  1.999107e+08   \n",
       "2874                            Community Foundations     4.0  8.864296e+08   \n",
       "4165        Non-Medical Science & Technology Research     3.0  1.239346e+09   \n",
       "6113                                          Museums     3.0  1.481139e+09   \n",
       "5250                                  Social Services     3.0  3.445558e+08   \n",
       "2708                                  Social Services     4.0  3.809178e+08   \n",
       "3253                                  Performing Arts     4.0  5.028848e+08   \n",
       "2918                            Wildlife Conservation     4.0  2.785913e+09   \n",
       "298                        Patient and Family Support     4.0  2.456862e+08   \n",
       "419                        Patient and Family Support     4.0  3.229826e+08   \n",
       "3940                     Humanitarian Relief Supplies     3.0  1.209297e+08   \n",
       "2521         Multipurpose Human Service Organizations     4.0  3.002617e+07   \n",
       "6410         Multipurpose Human Service Organizations     3.0  2.995660e+08   \n",
       "4265                                          Museums     3.0  1.363822e+09   \n",
       "4425                 Religious Media and Broadcasting     3.0  1.704695e+08   \n",
       "...                                               ...     ...           ...   \n",
       "8541                           Advocacy and Education     1.0  5.786360e+05   \n",
       "8428             Housing and Neighborhood Development     1.0  5.454666e+06   \n",
       "5206                                      United Ways     3.0  5.220990e+05   \n",
       "7488                                  Performing Arts     2.0  9.224330e+05   \n",
       "8446                   Children's and Family Services     1.0  3.352640e+05   \n",
       "8132                                  Social Services     2.0  5.332913e+06   \n",
       "8444                           Advocacy and Education     1.0  1.482210e+05   \n",
       "8069                 Religious Media and Broadcasting     2.0  3.624306e+06   \n",
       "8103        Environmental Protection and Conservation     2.0  8.690740e+05   \n",
       "8591                Social and Public Policy Research     1.0  7.391000e+03   \n",
       "592                            Advocacy and Education     4.0  3.599610e+05   \n",
       "8457                Scholarship and Financial Support     1.0  3.318500e+04   \n",
       "5101                           Advocacy and Education     4.0  6.302560e+05   \n",
       "7169                             Religious Activities     3.0  5.152300e+04   \n",
       "8200       International Peace, Security, and Affairs     2.0  8.221900e+04   \n",
       "8493                                  Social Services     1.0  8.268100e+04   \n",
       "8627                                 Medical Research     0.0  2.828900e+04   \n",
       "5472                             Religious Activities     3.0  0.000000e+00   \n",
       "5399                            Wildlife Conservation     3.0  0.000000e+00   \n",
       "1475             Diseases, Disorders, and Disciplines     4.0           NaN   \n",
       "2937                  Development and Relief Services     4.0           NaN   \n",
       "3369                      Education Policy and Reform     4.0           NaN   \n",
       "3583                  Development and Relief Services     3.0           NaN   \n",
       "5007  Youth Development, Shelter, and Crisis Services     3.0           NaN   \n",
       "5823                Social and Public Policy Research     3.0           NaN   \n",
       "6946                                  Performing Arts     3.0           NaN   \n",
       "7913             Diseases, Disorders, and Disciplines     2.0           NaN   \n",
       "8373                Treatment and Prevention Services     1.0           NaN   \n",
       "8376                       Patient and Family Support     1.0           NaN   \n",
       "8487       International Peace, Security, and Affairs     1.0           NaN   \n",
       "\n",
       "                                  classification  \\\n",
       "4188                     Charitable Organization   \n",
       "699   Organization to Prevent Cruelty to Animals   \n",
       "2847                     Charitable Organization   \n",
       "4415                    Educational Organization   \n",
       "6105                    Educational Organization   \n",
       "2383                    Educational Organization   \n",
       "4457                     Charitable Organization   \n",
       "199                      Charitable Organization   \n",
       "7340                    Educational Organization   \n",
       "3191                     Charitable Organization   \n",
       "4977                     Charitable Organization   \n",
       "648                       Religious Organization   \n",
       "3881                     Charitable Organization   \n",
       "445                     Educational Organization   \n",
       "1113                     Charitable Organization   \n",
       "474                      Charitable Organization   \n",
       "2874                     Charitable Organization   \n",
       "4165                     Scientific Organization   \n",
       "6113                     Charitable Organization   \n",
       "5250                     Charitable Organization   \n",
       "2708                     Charitable Organization   \n",
       "3253                     Charitable Organization   \n",
       "2918                     Charitable Organization   \n",
       "298                      Charitable Organization   \n",
       "419                     Educational Organization   \n",
       "3940                     Scientific Organization   \n",
       "2521                     Charitable Organization   \n",
       "6410                     Charitable Organization   \n",
       "4265                     Charitable Organization   \n",
       "4425                      Religious Organization   \n",
       "...                                          ...   \n",
       "8541                     Charitable Organization   \n",
       "8428                     Charitable Organization   \n",
       "5206                     Charitable Organization   \n",
       "7488                     Charitable Organization   \n",
       "8446                     Charitable Organization   \n",
       "8132                     Charitable Organization   \n",
       "8444                     Charitable Organization   \n",
       "8069                      Religious Organization   \n",
       "8103                     Charitable Organization   \n",
       "8591                     Charitable Organization   \n",
       "592                      Charitable Organization   \n",
       "8457                     Charitable Organization   \n",
       "5101                     Charitable Organization   \n",
       "7169                    Educational Organization   \n",
       "8200                    Educational Organization   \n",
       "8493                     Charitable Organization   \n",
       "8627                     Charitable Organization   \n",
       "5472                     Charitable Organization   \n",
       "5399                     Charitable Organization   \n",
       "1475                     Charitable Organization   \n",
       "2937                     Charitable Organization   \n",
       "3369                    Educational Organization   \n",
       "3583                      Religious Organization   \n",
       "5007                     Charitable Organization   \n",
       "5823                                         NaN   \n",
       "6946                     Charitable Organization   \n",
       "7913                                         NaN   \n",
       "8373                                         NaN   \n",
       "8376                                         NaN   \n",
       "8487                     Charitable Organization   \n",
       "\n",
       "                     deductibility  deductibilityCode  incomeAmount  \\\n",
       "4188  Contributions are deductible                1.0  3.948382e+09   \n",
       "699   Contributions are deductible                1.0  2.288068e+09   \n",
       "2847  Contributions are deductible                1.0  2.218193e+09   \n",
       "4415  Contributions are deductible                1.0  2.152270e+09   \n",
       "6105  Contributions are deductible                1.0  2.046553e+09   \n",
       "2383  Contributions are deductible                1.0  1.883676e+09   \n",
       "4457  Contributions are deductible                1.0  1.804120e+09   \n",
       "199   Contributions are deductible                1.0  1.393955e+09   \n",
       "7340  Contributions are deductible                1.0  1.258482e+09   \n",
       "3191  Contributions are deductible                1.0  1.125582e+09   \n",
       "4977  Contributions are deductible                1.0  9.504009e+08   \n",
       "648   Contributions are deductible                1.0  8.854806e+08   \n",
       "3881  Contributions are deductible                1.0  7.219915e+08   \n",
       "445   Contributions are deductible                1.0  7.076612e+08   \n",
       "1113  Contributions are deductible                1.0  6.625303e+08   \n",
       "474   Contributions are deductible                1.0  5.769381e+08   \n",
       "2874  Contributions are deductible                1.0  5.438112e+08   \n",
       "4165  Contributions are deductible                1.0  4.920396e+08   \n",
       "6113  Contributions are deductible                1.0  4.868086e+08   \n",
       "5250  Contributions are deductible                1.0  4.579905e+08   \n",
       "2708  Contributions are deductible                1.0  4.511246e+08   \n",
       "3253  Contributions are deductible                1.0  4.311002e+08   \n",
       "2918  Contributions are deductible                1.0  3.867499e+08   \n",
       "298   Contributions are deductible                1.0  3.821949e+08   \n",
       "419   Contributions are deductible                1.0  3.789293e+08   \n",
       "3940  Contributions are deductible                1.0  3.756495e+08   \n",
       "2521  Contributions are deductible                1.0  3.640865e+08   \n",
       "6410  Contributions are deductible                1.0  3.550336e+08   \n",
       "4265  Contributions are deductible                1.0  3.456984e+08   \n",
       "4425  Contributions are deductible                1.0  3.441658e+08   \n",
       "...                            ...                ...           ...   \n",
       "8541  Contributions are deductible                1.0  5.132200e+05   \n",
       "8428  Contributions are deductible                1.0  5.116620e+05   \n",
       "5206  Contributions are deductible                1.0  5.013120e+05   \n",
       "7488  Contributions are deductible                1.0  4.686540e+05   \n",
       "8446  Contributions are deductible                1.0  4.515990e+05   \n",
       "8132  Contributions are deductible                1.0  4.420810e+05   \n",
       "8444  Contributions are deductible                1.0  3.754820e+05   \n",
       "8069  Contributions are deductible                1.0  3.694150e+05   \n",
       "8103  Contributions are deductible                1.0  3.333600e+05   \n",
       "8591  Contributions are deductible                1.0  2.606280e+05   \n",
       "592   Contributions are deductible                1.0  2.596330e+05   \n",
       "8457  Contributions are deductible                1.0  2.491190e+05   \n",
       "5101  Contributions are deductible                1.0  2.414340e+05   \n",
       "7169  Contributions are deductible                1.0  2.335370e+05   \n",
       "8200  Contributions are deductible                1.0  1.861760e+05   \n",
       "8493  Contributions are deductible                1.0  8.643300e+04   \n",
       "8627  Contributions are deductible                1.0  7.165300e+04   \n",
       "5472  Contributions are deductible                1.0  0.000000e+00   \n",
       "5399  Contributions are deductible                1.0  0.000000e+00   \n",
       "1475  Contributions are deductible                1.0           NaN   \n",
       "2937  Contributions are deductible                1.0           NaN   \n",
       "3369  Contributions are deductible                1.0           NaN   \n",
       "3583  Contributions are deductible                1.0           NaN   \n",
       "5007  Contributions are deductible                1.0           NaN   \n",
       "5823                           NaN                NaN           NaN   \n",
       "6946  Contributions are deductible                1.0           NaN   \n",
       "7913                           NaN                NaN           NaN   \n",
       "8373                           NaN                NaN           NaN   \n",
       "8376                           NaN                NaN           NaN   \n",
       "8487  Contributions are deductible                1.0           NaN   \n",
       "\n",
       "                                     nteeClassification  \\\n",
       "4188                                 American Red Cross   \n",
       "699                                 Hospital, Specialty   \n",
       "2847             Fund Raising and/or Fund Distribution    \n",
       "4415  Scholarships, Student Financial Aid Services, ...   \n",
       "6105                                                NaN   \n",
       "2383                          Museum, Museum Activities   \n",
       "4457                              Boy Scouts of America   \n",
       "199                  Birth Defects and Genetic Diseases   \n",
       "7340                                             Cancer   \n",
       "3191   Heart and Circulatory System Diseases, Disorders   \n",
       "4977                               International Relief   \n",
       "648                                           Christian   \n",
       "3881         International Development, Relief Services   \n",
       "445              Fund Raising and/or Fund Distribution    \n",
       "1113                              Community Foundations   \n",
       "474                                International Relief   \n",
       "2874                              Community Foundations   \n",
       "4165                                          Astronomy   \n",
       "6113  Historical Societies, Related Historical Activ...   \n",
       "5250        Emergency Assistance (Food, Clothing, Cash)   \n",
       "2708                           Senior Centers, Services   \n",
       "3253                            Performing Arts Centers   \n",
       "2918                  Wildlife Preservation, Protection   \n",
       "298          Health - General and Rehabilitative N.E.C.   \n",
       "419            Educational Services and Schools - Other   \n",
       "3940                               International Relief   \n",
       "2521                         Nonmonetary Support N.E.C.   \n",
       "6410                               International Relief   \n",
       "4265                                        Art Museums   \n",
       "4425     Religious Media, Communications Organizations    \n",
       "...                                                 ...   \n",
       "8541                      Voter Education, Registration   \n",
       "8428      Housing Development, Construction, Management   \n",
       "5206   Fund Raising Organizations That Cross Categories   \n",
       "7488                                              Dance   \n",
       "8446            Mental Health Association, Multipurpose   \n",
       "8132                          Vocational Rehabilitation   \n",
       "8444                           Civil Liberties Advocacy   \n",
       "8069                                                NaN   \n",
       "8103      Natural Resources Conservation and Protection   \n",
       "8591  International, Foreign Affairs, and National S...   \n",
       "592                          International Human Rights   \n",
       "8457                                                NaN   \n",
       "5101                                     Legal Services   \n",
       "7169                                         Protestant   \n",
       "8200  Research Institutes and/or Public Policy Analy...   \n",
       "8493  Research Institutes and/or Public Policy Analy...   \n",
       "8627             Fund Raising and/or Fund Distribution    \n",
       "5472           Youth Development - Religious Leadership   \n",
       "5399                                Fisheries Resources   \n",
       "1475         Human Service Organizations - Multipurpose   \n",
       "2937                                                NaN   \n",
       "3369                                                NaN   \n",
       "3583                                                NaN   \n",
       "5007                                         Boys Clubs   \n",
       "5823                                                NaN   \n",
       "6946                            Performing Arts Centers   \n",
       "7913                                                NaN   \n",
       "8373                                                NaN   \n",
       "8376                                                NaN   \n",
       "8487                                                NaN   \n",
       "\n",
       "                                               nteeType              city  \\\n",
       "4188            Human Services - Multipurpose and Other        Washington   \n",
       "699                 Health - General and Rehabilitative             Tampa   \n",
       "2847            Religion-Related, Spiritual Development           Memphis   \n",
       "4415    Educational Institutions and Related Activities        Washington   \n",
       "6105                                                NaN         Arlington   \n",
       "2383                       Arts, Culture and Humanities        Washington   \n",
       "4457                                  Youth Development            Irving   \n",
       "199            Diseases, Disorders, Medical Disciplines          Bethesda   \n",
       "7340           Diseases, Disorders, Medical Disciplines           Atlanta   \n",
       "3191           Diseases, Disorders, Medical Disciplines            Dallas   \n",
       "4977  International, Foreign Affairs and National Se...     Coconut Creek   \n",
       "648             Religion-Related, Spiritual Development             Boone   \n",
       "3881  International, Foreign Affairs and National Se...           Atlanta   \n",
       "445     Educational Institutions and Related Activities      Jacksonville   \n",
       "1113  Philanthropy, Voluntarism and Grantmaking Foun...         Charlotte   \n",
       "474   International, Foreign Affairs and National Se...         Brunswick   \n",
       "2874  Philanthropy, Voluntarism and Grantmaking Foun...           Atlanta   \n",
       "4165  Science and Technology Research Institutes, Se...        Washington   \n",
       "6113                       Arts, Culture and Humanities      Williamsburg   \n",
       "5250            Human Services - Multipurpose and Other      Jacksonville   \n",
       "2708            Human Services - Multipurpose and Other        Washington   \n",
       "3253                       Arts, Culture and Humanities        Washington   \n",
       "2918                                     Animal-Related        Washington   \n",
       "298                 Health - General and Rehabilitative       Buckeystown   \n",
       "419     Educational Institutions and Related Activities           Hampton   \n",
       "3940  International, Foreign Affairs and National Se...     Oklahoma City   \n",
       "2521  International, Foreign Affairs and National Se...        Alexandria   \n",
       "6410  International, Foreign Affairs and National Se...           Atlanta   \n",
       "4265                       Arts, Culture and Humanities        Washington   \n",
       "4425            Religion-Related, Spiritual Development    Virginia Beach   \n",
       "...                                                 ...               ...   \n",
       "8541              Civil Rights, Social Action, Advocacy        Washington   \n",
       "8428                                   Housing, Shelter         Lewisburg   \n",
       "5206  Philanthropy, Voluntarism and Grantmaking Foun...           Cullman   \n",
       "7488                       Arts, Culture and Humanities       Takoma Park   \n",
       "8446                 Mental Health, Crisis Intervention           Houston   \n",
       "8132                            Employment, Job-Related     Heber Springs   \n",
       "8444              Civil Rights, Social Action, Advocacy        Washington   \n",
       "8069                                                NaN            Conway   \n",
       "8103  Environmental Quality, Protection and Beautifi...        Washington   \n",
       "8591  International, Foreign Affairs and National Se...        Washington   \n",
       "592   International, Foreign Affairs and National Se...        Alexandria   \n",
       "8457                                                NaN        Washington   \n",
       "5101                               Crime, Legal-Related        Washington   \n",
       "7169            Religion-Related, Spiritual Development          Bethesda   \n",
       "8200  International, Foreign Affairs and National Se...        Washington   \n",
       "8493                Health - General and Rehabilitative         Hollywood   \n",
       "8627                Health - General and Rehabilitative  North Palm Beach   \n",
       "5472                                  Youth Development        Washington   \n",
       "5399                                     Animal-Related         Arlington   \n",
       "1475            Human Services - Multipurpose and Other    Ft. Lauderdale   \n",
       "2937                                                NaN         Baltimore   \n",
       "3369                                                NaN        Washington   \n",
       "3583                                                NaN           Atlanta   \n",
       "5007                                  Youth Development       Panama City   \n",
       "5823                                                NaN        Washington   \n",
       "6946                       Arts, Culture and Humanities        Washington   \n",
       "7913                                                NaN       Lutherville   \n",
       "8373                                                NaN         Nashville   \n",
       "8376                                                NaN         Nashville   \n",
       "8487                                                NaN        Washington   \n",
       "\n",
       "      postalCode stateOrProvince                            streetAddress1  \n",
       "4188       20006              DC                       431 18th Street, NW  \n",
       "699        33607              FL                    2900 Rocky Point Drive  \n",
       "2847       38105              TN                    262 Danny Thomas Place  \n",
       "4415       20001              DC                       1805 7th Street, NW  \n",
       "6105       22203              VA                  4245 North Fairfax Drive  \n",
       "2383       20560              DC                     Office of Advancement  \n",
       "4457       75015              TX                1325 West Walnut Hill Lane  \n",
       "199        20814              MD                    4550 Montgomery Avenue  \n",
       "7340       30303              GA                   250 Williams Street, NW  \n",
       "3191       75231              TX                           National Center  \n",
       "4977       33073              FL                           6401 Lyons Road  \n",
       "648        28607              NC                             P.O. Box 3000  \n",
       "3881       30303              GA                      151 Ellis Street, NE  \n",
       "445        32245              FL                            P.O. Box 54429  \n",
       "1113       28202              NC                    220 North Tryon Street  \n",
       "474        31525              GA                       4700 Glynco Parkway  \n",
       "2874       30303              GA                  191 Peachtree Street, NE  \n",
       "4165       20005              DC                         1530 P Street, NW  \n",
       "6113       23187              VA                             P.O. Box 1776  \n",
       "5250       32256              FL                         4899 Belfort Road  \n",
       "2708       20049              DC                          601 E Street, NW  \n",
       "3253       20566              DC                         2700 F Street, NW  \n",
       "2918       20005              DC               1133 Fifteenth Street, N.W.  \n",
       "298        21717              MD                              P.O. Box 489  \n",
       "419        23666              VA                      421 Butler Farm Road  \n",
       "3940       73101              OK                 333 North Meridian Avenue  \n",
       "2521       22314              VA               675 North Washington Street  \n",
       "6410       30303              GA                   270 Peachtree Street NW  \n",
       "4265       20565              DC  Sixth Street and Constitution Avenue, NW  \n",
       "4425       23463              VA                  977 Centerville Turnpike  \n",
       "...          ...             ...                                       ...  \n",
       "8541       20006              DC                          1627 K Street NW  \n",
       "8428       24901              WV                                PO Box 889  \n",
       "5206       35056              AL                      304 First Avenue, NE  \n",
       "7488       20912              MD                         7117 Maple Avenue  \n",
       "8446       77057              TX                  2425 Fountain View Drive  \n",
       "8132       72543              AR                        604 Colonial Drive  \n",
       "8444       20003              DC                    80 M Street, Southeast  \n",
       "8069       72034              AR                         611 Locust Avenue  \n",
       "8103       20024              DC                     1520 First Street, SE  \n",
       "8591       20003              DC               325 Pennsylvania Avenue, SE  \n",
       "592        22302              VA                          2920 King Street  \n",
       "8457       20010              DC                 3636 Sixteenth Street, NW  \n",
       "5101       20035              DC                            P.O. Box 65301  \n",
       "7169       20815              MD                     6935 Wisconsin Avenue  \n",
       "8200       20005              DC                        5 Thomas Circle NW  \n",
       "8493       33021              FL                  3325 Hollywood Boulevard  \n",
       "8627       33408              FL                       108 Lakeshore Drive  \n",
       "5472       20001              DC                     800 Eigth Street, NW.  \n",
       "5399       22209              VA                    1777 North Kent Street  \n",
       "1475       33301              FL                  400 North Andrews Avenue  \n",
       "2937       21201              MD                 228 West Lexington Street  \n",
       "3369       20008              DC               3516 Connecticut Avenue, NW  \n",
       "3583       30308              GA                  458 Ponce De Leon Avenue  \n",
       "5007       32402              FL                              P.O. Box 914  \n",
       "5823       20005              DC                   1010 Vermont Avenue, NW  \n",
       "6946       20005              DC                          1400 K Street NW  \n",
       "7913       21093              MD                            1301 York Road  \n",
       "8373       37228              TN                            50 Vantage Way  \n",
       "8376       37203              TN                      2817 West End Avenue  \n",
       "8487       20036              DC                      1120 20th Street, NW  \n",
       "\n",
       "[2960 rows x 20 columns]"
      ]
     },
     "execution_count": 289,
     "metadata": {},
     "output_type": "execute_result"
    }
   ],
   "source": [
    "region3_south_df.sort_values(by=\"incomeAmount\",ascending = False)"
   ]
  },
  {
   "cell_type": "code",
   "execution_count": 283,
   "metadata": {},
   "outputs": [],
   "source": [
    "region1_charity_incomes = region1_northeast_df[\"incomeAmount\"]\n",
    "region2_charity_incomes = region2_midwest_df[\"incomeAmount\"]\n",
    "region3_charity_incomes = region3_south_df[\"incomeAmount\"]\n",
    "region4_charity_incomes = region4_west_df[\"incomeAmount\"]"
   ]
  },
  {
   "cell_type": "code",
   "execution_count": 242,
   "metadata": {},
   "outputs": [
    {
     "data": {
      "image/png": "[encoded data removed]",
      "text/plain": [
       "<Figure size 1152x216 with 1 Axes>"
      ]
     },
     "metadata": {},
     "output_type": "display_data"
    }
   ],
   "source": [
    "\n",
    "fig, ax = plt.subplots(1, figsize=(16, 3))\n",
    "\n",
    "ax.scatter(region1_charity_incomes, np.repeat(0, len(region1_charity_incomes)) + np.random.normal(0, 0.1, len(region1_charity_incomes)), s=45)\n",
    "ax.scatter(region2_charity_incomes, np.repeat(1, len(region2_charity_incomes)) + np.random.normal(0, 0.1, len(region2_charity_incomes)), s=45)\n",
    "ax.scatter(region3_charity_incomes, np.repeat(2, len(region3_charity_incomes)) + np.random.normal(0, 0.1, len(region3_charity_incomes)), s=45)\n",
    "ax.scatter(region4_charity_incomes, np.repeat(3, len(region4_charity_incomes)) + np.random.normal(0, 0.1, len(region4_charity_incomes)), s=45)\n",
    "\n",
    "ax.set_xticks(np.arange(0,np.max(region3_charity_incomes+1000000000), 1000000000))\n",
    "ax.set_xticklabels(([\"0\", \"1\", \"2\", \"3\", \"4\"]),fontsize = 20, weight = \"bold\")\n",
    "ax.set_xlabel(\"Dollar Amount (Billions $)\", fontsize = 25, weight = \"bold\")\n",
    "\n",
    "ax.set_yticks([0, 1, 2, 3])\n",
    "ax.set_yticklabels([\"NorthEast\", \"Midwest\", \"South\", \"West\"], fontsize = 20, weight = \"bold\") ;\n",
    "ax.set_ylabel(\"Region\", fontsize = 25, weight = \"bold\")\n",
    "\n",
    "ax.set_title(\"Charity Income Amounts by Region\", fontsize = 30, weight = \"bold\");\n",
    "\n",
    "plt.tight_layout()\n",
    "plt.savefig(\"Charity_Income_AMTs_Regional\")"
   ]
  },
  {
   "cell_type": "code",
   "execution_count": 234,
   "metadata": {},
   "outputs": [
    {
     "data": {
      "text/plain": [
       "3948381510.0"
      ]
     },
     "execution_count": 234,
     "metadata": {},
     "output_type": "execute_result"
    }
   ],
   "source": [
    "np.max(region3_charity_incomes)"
   ]
  },
  {
   "cell_type": "code",
   "execution_count": 243,
   "metadata": {},
   "outputs": [],
   "source": [
    "def count_winning_pairs(sample_1, sample_2):\n",
    "    sample_1, sample_2 = np.array(sample_1), np.array(sample_2)\n",
    "    n_total_wins = 0\n",
    "    for x in sample_1:\n",
    "        n_wins = np.sum(x > sample_2) + 0.5*np.sum(x == sample_2)\n",
    "        n_total_wins += n_wins\n",
    "    return n_total_wins"
   ]
  },
  {
   "cell_type": "code",
   "execution_count": 245,
   "metadata": {},
   "outputs": [
    {
     "name": "stdout",
     "output_type": "stream",
     "text": [
      "Number of NorthEast Wins: 1772979.0\n",
      "Number of MidWest Wins: 1547541.0\n"
     ]
    },
    {
     "name": "stderr",
     "output_type": "stream",
     "text": [
      "/anaconda3/lib/python3.7/site-packages/ipykernel_launcher.py:5: RuntimeWarning:\n",
      "\n",
      "invalid value encountered in greater\n",
      "\n"
     ]
    }
   ],
   "source": [
    "NorthEast_wins = count_winning_pairs(region1_charity_incomes, region2_charity_incomes)\n",
    "MidWest_wins = count_winning_pairs(region2_charity_incomes, region1_charity_incomes)\n",
    "print(\"Number of NorthEast Wins: {}\".format(NorthEast_wins))\n",
    "print(\"Number of MidWest Wins: {}\".format(MidWest_wins))\n"
   ]
  },
  {
   "cell_type": "code",
   "execution_count": 267,
   "metadata": {},
   "outputs": [
    {
     "name": "stdout",
     "output_type": "stream",
     "text": [
      "p-value for NorthEast <= MidWest: 0.00012\n",
      "p-value for NorthEast <= South  : 0.00110\n",
      "p-value for NorthEast <= West   : 0.00583\n"
     ]
    }
   ],
   "source": [
    "res = stats.mannwhitneyu(region1_charity_incomes, region2_charity_incomes, alternative=\"greater\")\n",
    "print(\"p-value for NorthEast <= MidWest: {:2.5f}\".format(res.pvalue))\n",
    "res = stats.mannwhitneyu(region1_charity_incomes, region3_charity_incomes, alternative=\"greater\")\n",
    "print(\"p-value for NorthEast <= South  : {:2.5f}\".format(res.pvalue))\n",
    "res = stats.mannwhitneyu(region1_charity_incomes, region4_charity_incomes, alternative=\"greater\")\n",
    "print(\"p-value for NorthEast <= West   : {:2.5f}\".format(res.pvalue))"
   ]
  },
  {
   "cell_type": "code",
   "execution_count": 268,
   "metadata": {},
   "outputs": [
    {
     "name": "stdout",
     "output_type": "stream",
     "text": [
      "p-value for MidWest <= NorthEast: 0.99988\n",
      "p-value for MidWest <= South    : 0.85053\n",
      "p-value for MidWest <= West     : 0.89534\n"
     ]
    }
   ],
   "source": [
    "res = stats.mannwhitneyu(region2_charity_incomes, region1_charity_incomes, alternative=\"greater\")\n",
    "print(\"p-value for MidWest <= NorthEast: {:2.5f}\".format(res.pvalue))\n",
    "res = stats.mannwhitneyu(region2_charity_incomes, region3_charity_incomes, alternative=\"greater\")\n",
    "print(\"p-value for MidWest <= South    : {:2.5f}\".format(res.pvalue))\n",
    "res = stats.mannwhitneyu(region2_charity_incomes, region4_charity_incomes, alternative=\"greater\")\n",
    "print(\"p-value for MidWest <= West     : {:2.5f}\".format(res.pvalue))"
   ]
  },
  {
   "cell_type": "code",
   "execution_count": 269,
   "metadata": {},
   "outputs": [
    {
     "name": "stdout",
     "output_type": "stream",
     "text": [
      "p-value for South <= NorthEast  : 0.99890\n",
      "p-value for South <= MidWest    : 0.14954\n",
      "p-value for South <= West       : 0.61975\n"
     ]
    }
   ],
   "source": [
    "res = stats.mannwhitneyu(region3_charity_incomes, region1_charity_incomes, alternative=\"greater\")\n",
    "print(\"p-value for South <= NorthEast  : {:2.5f}\".format(res.pvalue))\n",
    "res = stats.mannwhitneyu(region3_charity_incomes, region2_charity_incomes, alternative=\"greater\")\n",
    "print(\"p-value for South <= MidWest    : {:2.5f}\".format(res.pvalue))\n",
    "res = stats.mannwhitneyu(region3_charity_incomes, region4_charity_incomes, alternative=\"greater\")\n",
    "print(\"p-value for South <= West       : {:2.5f}\".format(res.pvalue))"
   ]
  },
  {
   "cell_type": "code",
   "execution_count": 270,
   "metadata": {},
   "outputs": [
    {
     "name": "stdout",
     "output_type": "stream",
     "text": [
      "p-value for West <= NorthEast   : 0.99416\n",
      "p-value for West <= MidWest     : 0.10458\n",
      "p-value for West <= South       : 0.38035\n"
     ]
    }
   ],
   "source": [
    "res = stats.mannwhitneyu(region4_charity_incomes, region1_charity_incomes, alternative=\"greater\")\n",
    "print(\"p-value for West <= NorthEast   : {:2.5f}\".format(res.pvalue))\n",
    "res = stats.mannwhitneyu(region4_charity_incomes, region2_charity_incomes, alternative=\"greater\")\n",
    "print(\"p-value for West <= MidWest     : {:2.5f}\".format(res.pvalue))\n",
    "res = stats.mannwhitneyu(region4_charity_incomes, region3_charity_incomes, alternative=\"greater\")\n",
    "print(\"p-value for West <= South       : {:2.5f}\".format(res.pvalue))"
   ]
  },
  {
   "cell_type": "code",
   "execution_count": 263,
   "metadata": {},
   "outputs": [],
   "source": [
    "a = len(region1_charity_incomes)\n",
    "b= len(region2_charity_incomes)\n",
    "c= len(region3_charity_incomes)\n",
    "d= len(region4_charity_incomes)"
   ]
  },
  {
   "cell_type": "code",
   "execution_count": 264,
   "metadata": {},
   "outputs": [
    {
     "data": {
      "text/plain": [
       "8642"
      ]
     },
     "execution_count": 264,
     "metadata": {},
     "output_type": "execute_result"
    }
   ],
   "source": [
    "a+b+c+d"
   ]
  },
  {
   "cell_type": "code",
   "execution_count": 266,
   "metadata": {},
   "outputs": [
    {
     "ename": "NameError",
     "evalue": "name 'df' is not defined",
     "output_type": "error",
     "traceback": [
      "\u001b[0;31m---------------------------------------------------------------------------\u001b[0m",
      "\u001b[0;31mNameError\u001b[0m                                 Traceback (most recent call last)",
      "\u001b[0;32m<ipython-input-266-55c137c1f63c>\u001b[0m in \u001b[0;36m<module>\u001b[0;34m\u001b[0m\n\u001b[1;32m      2\u001b[0m \u001b[0;34m\u001b[0m\u001b[0m\n\u001b[1;32m      3\u001b[0m \u001b[0mfig\u001b[0m\u001b[0;34m,\u001b[0m \u001b[0max\u001b[0m \u001b[0;34m=\u001b[0m \u001b[0mplt\u001b[0m\u001b[0;34m.\u001b[0m\u001b[0msubplots\u001b[0m\u001b[0;34m(\u001b[0m\u001b[0;36m1\u001b[0m\u001b[0;34m,\u001b[0m \u001b[0mfigsize\u001b[0m\u001b[0;34m=\u001b[0m\u001b[0;34m(\u001b[0m\u001b[0;36m16\u001b[0m\u001b[0;34m,\u001b[0m \u001b[0;36m3\u001b[0m\u001b[0;34m)\u001b[0m\u001b[0;34m)\u001b[0m\u001b[0;34m\u001b[0m\u001b[0;34m\u001b[0m\u001b[0m\n\u001b[0;32m----> 4\u001b[0;31m \u001b[0mstudents\u001b[0m \u001b[0;34m=\u001b[0m \u001b[0mstats\u001b[0m\u001b[0;34m.\u001b[0m\u001b[0mt\u001b[0m\u001b[0;34m(\u001b[0m\u001b[0mdf\u001b[0m\u001b[0;34m)\u001b[0m\u001b[0;34m\u001b[0m\u001b[0;34m\u001b[0m\u001b[0m\n\u001b[0m\u001b[1;32m      5\u001b[0m \u001b[0max\u001b[0m\u001b[0;34m.\u001b[0m\u001b[0mplot\u001b[0m\u001b[0;34m(\u001b[0m\u001b[0mx\u001b[0m\u001b[0;34m,\u001b[0m \u001b[0mstudents\u001b[0m\u001b[0;34m.\u001b[0m\u001b[0mpdf\u001b[0m\u001b[0;34m(\u001b[0m\u001b[0mx\u001b[0m\u001b[0;34m)\u001b[0m\u001b[0;34m,\u001b[0m \u001b[0mlinewidth\u001b[0m\u001b[0;34m=\u001b[0m\u001b[0;36m2\u001b[0m\u001b[0;34m,\u001b[0m \u001b[0mlabel\u001b[0m\u001b[0;34m=\u001b[0m\u001b[0;34m\"Degree of Freedom: {:2.2f}\"\u001b[0m\u001b[0;34m.\u001b[0m\u001b[0mformat\u001b[0m\u001b[0;34m(\u001b[0m\u001b[0mdf\u001b[0m\u001b[0;34m)\u001b[0m\u001b[0;34m)\u001b[0m\u001b[0;34m\u001b[0m\u001b[0;34m\u001b[0m\u001b[0m\n\u001b[1;32m      6\u001b[0m \u001b[0m_\u001b[0m \u001b[0;34m=\u001b[0m \u001b[0max\u001b[0m\u001b[0;34m.\u001b[0m\u001b[0mfill_between\u001b[0m\u001b[0;34m(\u001b[0m\u001b[0mx\u001b[0m\u001b[0;34m,\u001b[0m \u001b[0mstudents\u001b[0m\u001b[0;34m.\u001b[0m\u001b[0mpdf\u001b[0m\u001b[0;34m(\u001b[0m\u001b[0mx\u001b[0m\u001b[0;34m)\u001b[0m\u001b[0;34m,\u001b[0m \u001b[0mwhere\u001b[0m\u001b[0;34m=\u001b[0m\u001b[0;34m(\u001b[0m\u001b[0mx\u001b[0m \u001b[0;34m>=\u001b[0m \u001b[0;34m-\u001b[0m\u001b[0mtest_statistic\u001b[0m\u001b[0;34m)\u001b[0m\u001b[0;34m,\u001b[0m \u001b[0mcolor\u001b[0m\u001b[0;34m=\u001b[0m\u001b[0;34m\"red\"\u001b[0m\u001b[0;34m,\u001b[0m \u001b[0malpha\u001b[0m\u001b[0;34m=\u001b[0m\u001b[0;36m0.25\u001b[0m\u001b[0;34m)\u001b[0m\u001b[0;34m\u001b[0m\u001b[0;34m\u001b[0m\u001b[0m\n",
      "\u001b[0;31mNameError\u001b[0m: name 'df' is not defined"
     ]
    },
    {
     "data": {
      "image/png": "[encoded data removed]",
      "text/plain": [
       "<Figure size 1152x216 with 1 Axes>"
      ]
     },
     "metadata": {},
     "output_type": "display_data"
    }
   ],
   "source": [
    "x = np.linspace(-3, 3, num=250)\n",
    "\n",
    "fig, ax = plt.subplots(1, figsize=(16, 3))\n",
    "students = stats.t(df)\n",
    "ax.plot(x, students.pdf(x), linewidth=2, label=\"Degree of Freedom: {:2.2f}\".format(df))\n",
    "_ = ax.fill_between(x, students.pdf(x), where=(x >= -test_statistic), color=\"red\", alpha=0.25)\n",
    "_ = ax.fill_between(x, students.pdf(x), where=(x <= test_statistic), color=\"red\", alpha=0.25)\n",
    "ax.legend()\n",
    "ax.set_title(\"p-value Reigon\")"
   ]
  },
  {
   "cell_type": "code",
   "execution_count": 275,
   "metadata": {},
   "outputs": [
    {
     "data": {
      "text/plain": [
       "49.795087283"
      ]
     },
     "execution_count": 275,
     "metadata": {},
     "output_type": "execute_result"
    }
   ],
   "source": [
    "region1_charity_incomes.sum() / 10**9"
   ]
  },
  {
   "cell_type": "code",
   "execution_count": 276,
   "metadata": {},
   "outputs": [
    {
     "data": {
      "text/plain": [
       "38.665177864"
      ]
     },
     "execution_count": 276,
     "metadata": {},
     "output_type": "execute_result"
    }
   ],
   "source": [
    "region2_charity_incomes.sum() / 10**9"
   ]
  },
  {
   "cell_type": "code",
   "execution_count": 277,
   "metadata": {},
   "outputs": [
    {
     "data": {
      "text/plain": [
       "73.897616635"
      ]
     },
     "execution_count": 277,
     "metadata": {},
     "output_type": "execute_result"
    }
   ],
   "source": [
    "region3_charity_incomes.sum() / 10**9"
   ]
  },
  {
   "cell_type": "code",
   "execution_count": 278,
   "metadata": {},
   "outputs": [
    {
     "data": {
      "text/plain": [
       "41.499516288"
      ]
     },
     "execution_count": 278,
     "metadata": {},
     "output_type": "execute_result"
    }
   ],
   "source": [
    "region4_charity_incomes.sum() / 10**9"
   ]
  },
  {
   "cell_type": "code",
   "execution_count": 280,
   "metadata": {},
   "outputs": [
    {
     "data": {
      "text/plain": [
       "0.004166666666666667"
      ]
     },
     "execution_count": 280,
     "metadata": {},
     "output_type": "execute_result"
    }
   ],
   "source": [
    ".05/12"
   ]
  },
  {
   "cell_type": "code",
   "execution_count": null,
   "metadata": {},
   "outputs": [],
   "source": []
  }
 ],
 "metadata": {
  "kernelspec": {
   "display_name": "Python 3",
   "language": "python",
   "name": "python3"
  },
  "language_info": {
   "codemirror_mode": {
    "name": "ipython",
    "version": 3
   },
   "file_extension": ".py",
   "mimetype": "text/x-python",
   "name": "python",
   "nbconvert_exporter": "python",
   "pygments_lexer": "ipython3",
   "version": "3.7.3"
  }
 },
 "nbformat": 4,
 "nbformat_minor": 2
}
