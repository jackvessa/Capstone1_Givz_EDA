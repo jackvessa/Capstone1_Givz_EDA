{
 "cells": [
  {
   "cell_type": "code",
   "execution_count": 200,
   "metadata": {},
   "outputs": [],
   "source": [
    "# Imports\n",
    "import json\n",
    "from pandas.io.json import json_normalize\n",
    "import requests\n",
    "import pyspark as ps\n",
    "import pandas as pd\n",
    "import numpy as np\n",
    "import matplotlib.pyplot as plt\n",
    "plt.style.use(\"ggplot\")\n",
    "from textwrap import wrap\n",
    "import folium\n",
    "import plotly.graph_objects as go\n",
    "from os import path\n",
    "from PIL import Image\n",
    "from wordcloud import WordCloud, STOPWORDS, ImageColorGenerator\n",
    "STOPWORDS.add(\"br\")\n",
    "import scipy as sp\n",
    "import scipy.stats as stats"
   ]
  },
  {
   "cell_type": "code",
   "execution_count": 79,
   "metadata": {},
   "outputs": [],
   "source": [
    "# Methods\n",
    "def unpack_column(dataFrame,col_name):\n",
    "    newDf = dataFrame.from_records(dataFrame[col_name].dropna().tolist())\n",
    "    return newDf\n",
    "\n",
    "def unpack_and_destroy(dataFrame,column):\n",
    "    temp = unpack_column(dataFrame,column)\n",
    "    for col in temp.columns:\n",
    "        dataFrame[col] = temp[col]\n",
    "    #dataFrame = dataFrame.drop(columns=[column])\n",
    "    return dataFrame\n",
    "\n",
    "def sort_db_value(db,value,asc=False):\n",
    "    return db.sort_values(by = value, ascending = asc)\n",
    "\n",
    "def freq_array(freq_list):\n",
    "    freq = []\n",
    "    for i in freq_list:\n",
    "        freq.append(i)\n",
    "    return freq\n",
    "\n",
    "def set_labels(freq, ax,horz_shift=.2,vert_shift=1000,w=\"bold\",fsize=10,c=\"b\"):\n",
    "    for i, v in enumerate(freq):\n",
    "        ax.text(i-horz_shift,v+vert_shift, str(round(v,2)), weight = w,fontsize=fsize,color = c)\n",
    "        \n",
    "def wrap_axis_labels(labels_list,wrap_length=13):\n",
    "    labels_list = [ '\\n'.join(wrap(l, wrap_length)) for l in labels_list]\n",
    "    return labels_list\n"
   ]
  },
  {
   "cell_type": "code",
   "execution_count": 80,
   "metadata": {},
   "outputs": [],
   "source": [
    "API_df = pd.read_csv('Data/API_DF_CN.csv')"
   ]
  },
  {
   "cell_type": "code",
   "execution_count": 81,
   "metadata": {},
   "outputs": [
    {
     "data": {
      "text/html": [
       "<div>\n",
       "<style scoped>\n",
       "    .dataframe tbody tr th:only-of-type {\n",
       "        vertical-align: middle;\n",
       "    }\n",
       "\n",
       "    .dataframe tbody tr th {\n",
       "        vertical-align: top;\n",
       "    }\n",
       "\n",
       "    .dataframe thead th {\n",
       "        text-align: right;\n",
       "    }\n",
       "</style>\n",
       "<table border=\"1\" class=\"dataframe\">\n",
       "  <thead>\n",
       "    <tr style=\"text-align: right;\">\n",
       "      <th></th>\n",
       "      <th>charityName</th>\n",
       "      <th>ein</th>\n",
       "      <th>mission</th>\n",
       "      <th>tagLine</th>\n",
       "      <th>categoryID</th>\n",
       "      <th>categoryName</th>\n",
       "      <th>causeID</th>\n",
       "      <th>causeName</th>\n",
       "      <th>rating</th>\n",
       "      <th>assetAmount</th>\n",
       "      <th>classification</th>\n",
       "      <th>deductibility</th>\n",
       "      <th>deductibilityCode</th>\n",
       "      <th>incomeAmount</th>\n",
       "      <th>nteeClassification</th>\n",
       "      <th>nteeType</th>\n",
       "      <th>city</th>\n",
       "      <th>postalCode</th>\n",
       "      <th>stateOrProvince</th>\n",
       "      <th>streetAddress1</th>\n",
       "    </tr>\n",
       "  </thead>\n",
       "  <tbody>\n",
       "  </tbody>\n",
       "</table>\n",
       "</div>"
      ],
      "text/plain": [
       "Empty DataFrame\n",
       "Columns: [charityName, ein, mission, tagLine, categoryID, categoryName, causeID, causeName, rating, assetAmount, classification, deductibility, deductibilityCode, incomeAmount, nteeClassification, nteeType, city, postalCode, stateOrProvince, streetAddress1]\n",
       "Index: []"
      ]
     },
     "execution_count": 81,
     "metadata": {},
     "output_type": "execute_result"
    }
   ],
   "source": [
    "# pd.set_option('display.max_colwidth', -1)\n",
    "API_df.head(0)"
   ]
  },
  {
   "cell_type": "code",
   "execution_count": 82,
   "metadata": {},
   "outputs": [],
   "source": [
    "# # Charity Count Bar Graph Total - By State\n",
    "# category_count = API_df.groupby('stateOrProvince').size().sort_values(ascending=False)\n",
    "# category_count = category_count.iloc[0:10]\n",
    "# categories = list(category_count.index.values)\n",
    "# categories = wrap_axis_labels(categories,13)\n",
    "\n",
    "# freq = freq_array(category_count)\n",
    "    \n",
    "# fig,ax = plt.subplots(figsize = (20,10))\n",
    "# ax.bar(categories,freq, color = \"g\");\n",
    "# ax.set_xticklabels(categories, rotation=0, weight = \"bold\",fontsize=20)\n",
    "\n",
    "# # Needs Adjustment based on Data\n",
    "# ax.set_yticks(np.arange(0,np.max(freq)+200,200)) ;\n",
    "# ax.set_title(\"Charities Counts by State - Rated\", weight = \"bold\",fontsize=30);\n",
    "# ax.set_xlabel(\"State\", fontsize=25, weight = \"bold\");\n",
    "# ax.set_ylabel(\"Frequency\", fontsize=25, weight = \"bold\");\n",
    "# ax.set_yticklabels(np.arange(0,np.max(freq)+200,200), weight=\"bold\", fontsize =20) ;\n",
    "\n",
    "\n",
    "# set_labels(freq,ax,.20,(np.max(freq)/100),fsize=20,c=\"k\")\n",
    "# plt.savefig(\"Charities_by_state\")"
   ]
  },
  {
   "cell_type": "code",
   "execution_count": 83,
   "metadata": {},
   "outputs": [],
   "source": [
    "# # Charity Count Bar Graph Total - By Category\n",
    "# category_count = API_df.groupby('categoryName').size()\n",
    "# categories = list(category_count.index.values)\n",
    "# categories = wrap_axis_labels(categories,13)\n",
    "\n",
    "# freq = freq_array(category_count)\n",
    "    \n",
    "# fig,ax = plt.subplots(figsize = (20,10))\n",
    "# ax.bar(categories,freq, color = \"b\");\n",
    "# ax.set_xticklabels(categories, rotation=0, weight = \"bold\",fontsize=12)\n",
    "\n",
    "# # Needs Adjustment based on Data\n",
    "# ax.set_yticks(np.arange(0,np.max(freq)+200,200)) ;\n",
    "# ax.set_title(\"Charities by Category\", weight = \"bold\",fontsize=30);\n",
    "# ax.set_xlabel(\"Category\", fontsize=25, weight = \"bold\");\n",
    "# ax.set_ylabel(\"Frequency\", fontsize=25, weight = \"bold\");\n",
    "# ax.set_yticklabels(np.arange(0,np.max(freq)+200,200), weight=\"bold\", fontsize =15) ;\n",
    "\n",
    "\n",
    "# set_labels(freq,ax,.20,(np.max(freq)/100),fsize=15,c=\"k\")\n",
    "# plt.savefig(\"Charities_by_category\")"
   ]
  },
  {
   "cell_type": "code",
   "execution_count": 84,
   "metadata": {},
   "outputs": [],
   "source": [
    "# # 4 vs. 3 -Star Charities Count Bar Graph\n",
    "# Four_Star_Charities_Total = API_df[API_df['rating'] == 4.0]\n",
    "# Three_Star_Charities_Total = API_df[API_df['rating'] == 3.0]\n",
    "\n",
    "# #Four-Star\n",
    "# four_star_count = Four_Star_Charities_Total.groupby(\"categoryName\").size()\n",
    "# categories = list(four_star_count.index.values)\n",
    "# categories = wrap_axis_labels(categories,13)\n",
    "\n",
    "# ind = np.arange(len(categories)) \n",
    "\n",
    "# freq = freq_array(four_star_count)\n",
    "    \n",
    "# fig,ax = plt.subplots(figsize = (18,10),sharex=True,sharey=True)\n",
    "# ax.bar(ind,freq, color = \"b\",width=0.35,label=\"Four-Star Charities\");\n",
    "\n",
    "# # Needs Adjustment based on Data\n",
    "\n",
    "# ax.set_yticklabels(np.arange(0,np.max(freq)+200,100), weight=\"bold\", fontsize =12) ;\n",
    "# ax.set_title(\"Four-Star vs. Three-Star Charities by Category\", weight = \"bold\",fontsize=25);\n",
    "# ax.set_xlabel(\"Category\", fontsize=20, weight = \"bold\");\n",
    "# ax.set_ylabel(\"Frequency\", fontsize=20, weight = \"bold\");\n",
    "\n",
    "# set_labels(freq,ax,.2,(np.max(freq)/100),fsize=14,c=\"blue\")\n",
    "    \n",
    "# #Three-Star\n",
    "# three_star_count = Three_Star_Charities_Total.groupby(\"categoryName\").size()\n",
    "# categories_2 = list(three_star_count.index.values)\n",
    "\n",
    "# ind_2 = np.arange(len(categories_2)) \n",
    "\n",
    "# freq_2 = freq_array(three_star_count)\n",
    "    \n",
    "# ax.bar(ind_2+.35,freq_2, color = \"orange\",width=0.35,label=\"Three-Star Charities\");\n",
    "\n",
    "# # Needs Adjustment based on Data\n",
    "# # ax.set_yticks(np.arange(0,np.max(freq)+200,200)) ;\n",
    "# # ax.set_title(\"Four-Star Charities by Category\", weight = \"bold\",fontsize=19);\n",
    "# # ax.set_xlabel(\"Category\", fontsize=15, weight = \"bold\");\n",
    "# # ax.set_ylabel(\"Frequency\", fontsize=15, weight = \"bold\");\n",
    "\n",
    "# set_labels(freq_2,ax,-.2,(np.max(freq)/100),fsize=14,c='black')\n",
    "\n",
    "# ax.set_yticks(np.arange(0,(np.max(freq)+100),100)) ;\n",
    "# ax.set_xticks(ind + .35 / 2)\n",
    "# ax.set_xticklabels(categories, weight=\"bold\",fontsize=11);\n",
    "# ax.legend(prop={'size': 20});\n",
    "\n",
    "# # plt.savefig(\"Four_Star_vs_Three_Star_Categories\")"
   ]
  },
  {
   "cell_type": "code",
   "execution_count": 85,
   "metadata": {},
   "outputs": [],
   "source": [
    "# state_df = API_df.groupby(\"stateOrProvince\").size().reset_index(name=\"Count\")\n",
    "# fig = go.Figure(data=go.Choropleth(\n",
    "#     locations = state_df['stateOrProvince'],\n",
    "#     z=state_df['Count'],\n",
    "#     locationmode='USA-states',\n",
    "#     colorscale='Greens',\n",
    "#     autocolorscale=False,\n",
    "#     text=state_df['stateOrProvince'], # hover text\n",
    "#     marker_line_color='black', # line markers between states\n",
    "#     colorbar_title=\"Number of Charities\"\n",
    "# ))\n",
    "\n",
    "# fig.update_layout(\n",
    "#     title_text='Number of US Charitable Organizations by State - Rated<br>(Hover for breakdown)',\n",
    "#     geo = dict(\n",
    "#         scope='usa',\n",
    "#         projection=go.layout.geo.Projection(type = 'albers usa'),\n",
    "#         showlakes=True, # lakes\n",
    "#         lakecolor='rgb(255, 255, 255)'),\n",
    "# )\n",
    "\n",
    "# fig.show()"
   ]
  },
  {
   "cell_type": "code",
   "execution_count": 86,
   "metadata": {
    "scrolled": true
   },
   "outputs": [
    {
     "data": {
      "text/html": [
       "<div>\n",
       "<style scoped>\n",
       "    .dataframe tbody tr th:only-of-type {\n",
       "        vertical-align: middle;\n",
       "    }\n",
       "\n",
       "    .dataframe tbody tr th {\n",
       "        vertical-align: top;\n",
       "    }\n",
       "\n",
       "    .dataframe thead th {\n",
       "        text-align: right;\n",
       "    }\n",
       "</style>\n",
       "<table border=\"1\" class=\"dataframe\">\n",
       "  <thead>\n",
       "    <tr style=\"text-align: right;\">\n",
       "      <th></th>\n",
       "      <th>charityName</th>\n",
       "      <th>ein</th>\n",
       "      <th>mission</th>\n",
       "      <th>tagLine</th>\n",
       "      <th>categoryID</th>\n",
       "      <th>categoryName</th>\n",
       "      <th>causeID</th>\n",
       "      <th>causeName</th>\n",
       "      <th>rating</th>\n",
       "      <th>assetAmount</th>\n",
       "      <th>classification</th>\n",
       "      <th>deductibility</th>\n",
       "      <th>deductibilityCode</th>\n",
       "      <th>incomeAmount</th>\n",
       "      <th>nteeClassification</th>\n",
       "      <th>nteeType</th>\n",
       "      <th>city</th>\n",
       "      <th>postalCode</th>\n",
       "      <th>stateOrProvince</th>\n",
       "      <th>streetAddress1</th>\n",
       "    </tr>\n",
       "  </thead>\n",
       "  <tbody>\n",
       "  </tbody>\n",
       "</table>\n",
       "</div>"
      ],
      "text/plain": [
       "Empty DataFrame\n",
       "Columns: [charityName, ein, mission, tagLine, categoryID, categoryName, causeID, causeName, rating, assetAmount, classification, deductibility, deductibilityCode, incomeAmount, nteeClassification, nteeType, city, postalCode, stateOrProvince, streetAddress1]\n",
       "Index: []"
      ]
     },
     "execution_count": 86,
     "metadata": {},
     "output_type": "execute_result"
    }
   ],
   "source": [
    "API_df.head(0)"
   ]
  },
  {
   "cell_type": "code",
   "execution_count": 87,
   "metadata": {},
   "outputs": [],
   "source": [
    "# text = API_df.mission.values\n",
    "# wordcloud = WordCloud(\n",
    "#     width = 3000,\n",
    "#     height = 2000,\n",
    "#     background_color = 'white',\n",
    "# #     color_func = 'grey',\n",
    "#     stopwords = STOPWORDS).generate(' '.join(text))\n",
    "# fig = plt.figure(\n",
    "#     figsize = (20, 15),\n",
    "#     facecolor = 'k',\n",
    "#     edgecolor = 'k')\n",
    "# plt.imshow(wordcloud, interpolation = 'bilinear')\n",
    "# plt.axis('off')\n",
    "# plt.tight_layout(pad=0)\n",
    "# plt.savefig(\"Mission_Wordmap\")\n",
    "# plt.show()"
   ]
  },
  {
   "cell_type": "code",
   "execution_count": 88,
   "metadata": {},
   "outputs": [],
   "source": [
    "# pop_data = pd.read_csv('Data/acs2017_census_tract_data.csv')\n",
    "# pop_data = pop_data.groupby(\"State\")[\"TotalPop\"].sum().reset_index(name=\"Population\")\n",
    "# pop_abbrv = pd.read_csv('Data/states.csv')\n",
    "# pop_df = pd.merge(pop_data, pop_abbrv, on='State')\n",
    "# pop_df[\"stateOrProvince\"] = pop_df[\"Abbreviation\"]\n",
    "# pop_df = pop_df.drop(columns=[\"Abbreviation\"])"
   ]
  },
  {
   "cell_type": "code",
   "execution_count": 89,
   "metadata": {},
   "outputs": [],
   "source": [
    "# category_count = API_df.groupby('stateOrProvince').size().sort_values(ascending=False).reset_index(name=\"count\")\n",
    "# category_count.head()"
   ]
  },
  {
   "cell_type": "code",
   "execution_count": 90,
   "metadata": {},
   "outputs": [],
   "source": [
    "# income_df = API_df.groupby(\"stateOrProvince\")[\"incomeAmount\"].sum().reset_index(name=\"Sum_Income\")"
   ]
  },
  {
   "cell_type": "code",
   "execution_count": 91,
   "metadata": {},
   "outputs": [],
   "source": [
    "# income_df.head()"
   ]
  },
  {
   "cell_type": "code",
   "execution_count": 92,
   "metadata": {},
   "outputs": [],
   "source": [
    "# add_pop = pd.merge(pop_df, category_count, on = \"stateOrProvince\")\n",
    "# add_pop[\"Num_Charities_Per_Capita\"] = (add_pop[\"count\"] / add_pop[\"Population\"])\n",
    "# add_pop = pd.merge(add_pop, income_df, on = \"stateOrProvince\")\n",
    "# add_pop[\"Income_Per_Capita\"] = add_pop[\"Sum_Income\"] / add_pop[\"Population\"]\n",
    "##Dropping District of Colombia\n",
    "# add_pop = add_pop.drop(add_pop.index[8])"
   ]
  },
  {
   "cell_type": "code",
   "execution_count": 93,
   "metadata": {},
   "outputs": [],
   "source": [
    "# fig = go.Figure(data=go.Choropleth(\n",
    "#     locations = add_pop['stateOrProvince'],\n",
    "#     z=add_pop['Income_Per_Capita'],\n",
    "#     locationmode='USA-states',\n",
    "#     colorscale='Greens',\n",
    "#     autocolorscale=False,\n",
    "#     text=add_pop['stateOrProvince'], # hover text\n",
    "#     marker_line_color='black', # line markers between states\n",
    "#     colorbar_title=\"Income Per Capita\"\n",
    "# ))\n",
    "\n",
    "# fig.update_layout(\n",
    "#     title_text='Charity Income Per Capita by State - Rated Charities<br>(Hover for breakdown)',\n",
    "#     geo = dict(\n",
    "#         scope='usa',\n",
    "#         projection=go.layout.geo.Projection(type = 'albers usa'),\n",
    "#         showlakes=True, # lakes\n",
    "#         lakecolor='rgb(255, 255, 255)'),\n",
    "# )\n",
    "\n",
    "# fig.show()"
   ]
  },
  {
   "cell_type": "code",
   "execution_count": 94,
   "metadata": {},
   "outputs": [],
   "source": [
    "category_df_income = API_df.groupby('categoryName')['incomeAmount'].sum().reset_index(name=\"IncomeSum\").sort_values(by = 'IncomeSum', ascending=False)"
   ]
  },
  {
   "cell_type": "code",
   "execution_count": 95,
   "metadata": {},
   "outputs": [],
   "source": [
    "category_df_income['IncomeAdjusted'] = category_df_income['IncomeSum'] / 1000000000"
   ]
  },
  {
   "cell_type": "code",
   "execution_count": 96,
   "metadata": {},
   "outputs": [
    {
     "data": {
      "text/html": [
       "<div>\n",
       "<style scoped>\n",
       "    .dataframe tbody tr th:only-of-type {\n",
       "        vertical-align: middle;\n",
       "    }\n",
       "\n",
       "    .dataframe tbody tr th {\n",
       "        vertical-align: top;\n",
       "    }\n",
       "\n",
       "    .dataframe thead th {\n",
       "        text-align: right;\n",
       "    }\n",
       "</style>\n",
       "<table border=\"1\" class=\"dataframe\">\n",
       "  <thead>\n",
       "    <tr style=\"text-align: right;\">\n",
       "      <th></th>\n",
       "      <th>categoryName</th>\n",
       "      <th>IncomeSum</th>\n",
       "      <th>IncomeAdjusted</th>\n",
       "    </tr>\n",
       "  </thead>\n",
       "  <tbody>\n",
       "    <tr>\n",
       "      <th>6</th>\n",
       "      <td>Human Services</td>\n",
       "      <td>4.615947e+10</td>\n",
       "      <td>46.159465</td>\n",
       "    </tr>\n",
       "    <tr>\n",
       "      <th>1</th>\n",
       "      <td>Arts, Culture, Humanities</td>\n",
       "      <td>2.945553e+10</td>\n",
       "      <td>29.455535</td>\n",
       "    </tr>\n",
       "    <tr>\n",
       "      <th>2</th>\n",
       "      <td>Community Development</td>\n",
       "      <td>2.927567e+10</td>\n",
       "      <td>29.275670</td>\n",
       "    </tr>\n",
       "    <tr>\n",
       "      <th>5</th>\n",
       "      <td>Health</td>\n",
       "      <td>2.895878e+10</td>\n",
       "      <td>28.958775</td>\n",
       "    </tr>\n",
       "    <tr>\n",
       "      <th>8</th>\n",
       "      <td>International</td>\n",
       "      <td>2.749592e+10</td>\n",
       "      <td>27.495921</td>\n",
       "    </tr>\n",
       "  </tbody>\n",
       "</table>\n",
       "</div>"
      ],
      "text/plain": [
       "                categoryName     IncomeSum  IncomeAdjusted\n",
       "6             Human Services  4.615947e+10       46.159465\n",
       "1  Arts, Culture, Humanities  2.945553e+10       29.455535\n",
       "2      Community Development  2.927567e+10       29.275670\n",
       "5                     Health  2.895878e+10       28.958775\n",
       "8              International  2.749592e+10       27.495921"
      ]
     },
     "execution_count": 96,
     "metadata": {},
     "output_type": "execute_result"
    }
   ],
   "source": [
    "category_df_income.head()"
   ]
  },
  {
   "cell_type": "code",
   "execution_count": 97,
   "metadata": {
    "scrolled": false
   },
   "outputs": [],
   "source": [
    "# # # Category Income Bar Graph (Top 10)\n",
    "# #state_df_count = all_regions_df.groupby(\"STATE\").size().reset_index(name=\"Frequency\").sort_values(by=\"Frequency\",ascending=False)\n",
    "# # category_df_income = API_df.groupby('categoryName')['incomeAmount'].sum().reset_index(name=\"IncomeSum\").sort_values(by = 'IncomeSum', ascending=False)\n",
    "# category_df_income = category_df_income.iloc[:10]\n",
    "\n",
    "# categories = category_df_income['categoryName']\n",
    "# categories = wrap_axis_labels(categories,13)\n",
    "\n",
    "\n",
    "# freq = freq_array(category_df_income['IncomeAdjusted'])\n",
    "# fig,ax = plt.subplots(figsize = (20,10))\n",
    "# ax.bar(categories,freq, color = \"g\");\n",
    "\n",
    "# ax.set_yticks(np.arange(0,51,10));\n",
    "# ax.set_title(\"Total Income by Category (Top 10)\", weight = \"bold\", fontsize = 30);\n",
    "# ax.set_xlabel(\"Category\", fontsize=25, weight = \"bold\");\n",
    "# ax.set_ylabel(\"Income (Billions $)\", fontsize=25, weight = \"bold\");\n",
    "# ax.set_yticklabels(np.arange(0,51,10), weight=\"bold\", fontsize =20) ;\n",
    "# ax.set_xticklabels(categories, weight=\"bold\",fontsize=14);\n",
    "\n",
    "# set_labels(freq,ax,.3,0.5,c=\"k\",fsize=20);\n",
    "\n",
    "# plt.savefig(\"Total_Income_By_Category\")"
   ]
  },
  {
   "cell_type": "markdown",
   "metadata": {},
   "source": [
    "## Next Step: Top Category By Income For Each State"
   ]
  },
  {
   "cell_type": "code",
   "execution_count": 180,
   "metadata": {},
   "outputs": [],
   "source": [
    "# state_category_count_df = API_df.groupby([\"stateOrProvince\",\"categoryName\"]).size().reset_index(name=\"count\")\n",
    "# state_category_count_df.head()"
   ]
  },
  {
   "cell_type": "code",
   "execution_count": 178,
   "metadata": {},
   "outputs": [],
   "source": [
    "# idx = state_category_count_df.groupby(['stateOrProvince'])['count'].transform(max) == state_category_count_df['count']\n",
    "\n",
    "# state_category_max = state_category_count_df[idx]"
   ]
  },
  {
   "cell_type": "code",
   "execution_count": 179,
   "metadata": {},
   "outputs": [],
   "source": [
    "# state_category_max.head(50)"
   ]
  },
  {
   "cell_type": "code",
   "execution_count": 177,
   "metadata": {},
   "outputs": [],
   "source": [
    "# fig = go.Figure(data=go.Choropleth(\n",
    "#     locations = state_category_max['stateOrProvince'],\n",
    "#     z=state_category_max['count'],\n",
    "#     locationmode='USA-states',\n",
    "#     colorscale='Greens',\n",
    "#     autocolorscale=False,\n",
    "#     text=state_category_max['stateOrProvince'] + \"<br>\" + state_category_max[\"categoryName\"], # hover text\n",
    "#     marker_line_color='black', # line markers between states\n",
    "#     colorbar_title=\"Income Per Capita\"\n",
    "# ))\n",
    "\n",
    "# fig.update_layout(\n",
    "#     title_text='Charity Income Per Capita by State - Rated Charities<br>(Hover for breakdown)',\n",
    "#     geo = dict(\n",
    "#         scope='usa',\n",
    "#         projection=go.layout.geo.Projection(type = 'albers usa'),\n",
    "#         showlakes=True, # lakes\n",
    "#         lakecolor='rgb(255, 255, 255)'),\n",
    "# )\n",
    "\n",
    "# fig.show()"
   ]
  },
  {
   "cell_type": "code",
   "execution_count": 176,
   "metadata": {},
   "outputs": [],
   "source": [
    "# state_category_income_df = API_df.groupby([\"stateOrProvince\",\"categoryName\"])[\"incomeAmount\"].sum().reset_index(name=\"IncomeSum\")\n",
    "# state_category_income_df.head(5)"
   ]
  },
  {
   "cell_type": "code",
   "execution_count": 175,
   "metadata": {},
   "outputs": [],
   "source": [
    "# idx_income = state_category_income_df.groupby(['stateOrProvince'])['IncomeSum'].transform(max) == state_category_income_df['IncomeSum']\n",
    "\n",
    "# state_category_income_max = state_category_income_df[idx_income]"
   ]
  },
  {
   "cell_type": "code",
   "execution_count": 173,
   "metadata": {},
   "outputs": [],
   "source": [
    "# #state_category_income_max[\"cat_num\"] = 0\n",
    "# mask = (state_category_income_max['categoryName'] == \"Education\")\n",
    "# z_valid = state_category_income_max[mask]\n",
    "\n",
    "# state_category_income_max.loc[mask, 'cat_num'] = 4"
   ]
  },
  {
   "cell_type": "code",
   "execution_count": 183,
   "metadata": {},
   "outputs": [],
   "source": [
    "# state_category_income_max"
   ]
  },
  {
   "cell_type": "code",
   "execution_count": 172,
   "metadata": {},
   "outputs": [],
   "source": [
    "# fig = go.Figure(data=go.Choropleth(\n",
    "#     locations = state_category_income_max['stateOrProvince'],\n",
    "#     z=state_category_income_max['cat_num'],\n",
    "#     locationmode='USA-states',\n",
    "#     colorscale='Spectral',\n",
    "#     autocolorscale=False,\n",
    "#     text=state_category_income_max['stateOrProvince'] + \"<br>\" + state_category_income_max[\"categoryName\"], # hover text\n",
    "#     marker_line_color='black', # line markers between states\n",
    "#     colorbar_title=\"Income Per Capita\"\n",
    "# ))\n",
    "\n",
    "# fig.update_layout(\n",
    "#     title_text='Charity Income Per Capita by State - Rated Charities<br>(Hover for breakdown)',\n",
    "#     geo = dict(\n",
    "#         scope='usa',\n",
    "#         projection=go.layout.geo.Projection(type = 'albers usa'),\n",
    "#         showlakes=True, # lakes\n",
    "#         lakecolor='rgb(255, 255, 255)'),\n",
    "# )\n",
    "\n",
    "# fig.show()"
   ]
  },
  {
   "cell_type": "code",
   "execution_count": 188,
   "metadata": {},
   "outputs": [],
   "source": [
    "region1_northeast_list = [\"ME\", \"NH\", \"VT\", \"MA\", \"RI\", \"CT\", \"NY\", \"NJ\", \"PA\"]"
   ]
  },
  {
   "cell_type": "code",
   "execution_count": 189,
   "metadata": {},
   "outputs": [],
   "source": [
    "region2_midwest_list = [\"ND\", \"SD\", \"NE\", \"KS\", \"MN\", \"IA\", \"MO\", \"WI\", \"IL\", \"IN\", \"MI\", \"OH\"]"
   ]
  },
  {
   "cell_type": "code",
   "execution_count": 190,
   "metadata": {},
   "outputs": [],
   "source": [
    "region3_south_list = [\"TX\", \"OK\", \"AR\", \"LA\", \"MS\", \"AL\", \"FL\", \"GA\", \"SC\", \"NC\", \"VA\", \"TN\", \"KY\", \"WV\", \"DC\", \"MD\", \"DE\"]"
   ]
  },
  {
   "cell_type": "code",
   "execution_count": 191,
   "metadata": {},
   "outputs": [],
   "source": [
    "region4_west_list = [\"MT\", \"ID\", \"WY\", \"CO\", \"NM\", \"AZ\", \"UT\", \"NV\", \"CA\", \"OR\", \"WA\", \"AK\", \"HI\"]"
   ]
  },
  {
   "cell_type": "code",
   "execution_count": 194,
   "metadata": {},
   "outputs": [],
   "source": [
    "region1_northeast_df = API_df[API_df[\"stateOrProvince\"].isin(region1_northeast_list)]"
   ]
  },
  {
   "cell_type": "code",
   "execution_count": 197,
   "metadata": {},
   "outputs": [],
   "source": [
    "region2_midwest_df = API_df[API_df[\"stateOrProvince\"].isin(region2_midwest_list)]"
   ]
  },
  {
   "cell_type": "code",
   "execution_count": 198,
   "metadata": {},
   "outputs": [],
   "source": [
    "region3_south_df = API_df[API_df[\"stateOrProvince\"].isin(region3_south_list)]"
   ]
  },
  {
   "cell_type": "code",
   "execution_count": 199,
   "metadata": {},
   "outputs": [],
   "source": [
    "region4_west_df = API_df[API_df[\"stateOrProvince\"].isin(region4_west_list)]"
   ]
  },
  {
   "cell_type": "code",
   "execution_count": 201,
   "metadata": {},
   "outputs": [],
   "source": [
    "region1_charity_incomes = region1_northeast_df[\"incomeAmount\"]"
   ]
  },
  {
   "cell_type": "code",
   "execution_count": 202,
   "metadata": {},
   "outputs": [],
   "source": [
    "region2_charity_incomes = region2_midwest_df[\"incomeAmount\"]"
   ]
  },
  {
   "cell_type": "code",
   "execution_count": 203,
   "metadata": {},
   "outputs": [],
   "source": [
    "region3_charity_incomes = region3_south_df[\"incomeAmount\"]"
   ]
  },
  {
   "cell_type": "code",
   "execution_count": 204,
   "metadata": {},
   "outputs": [],
   "source": [
    "region4_charity_incomes = region4_west_df[\"incomeAmount\"]"
   ]
  },
  {
   "cell_type": "code",
   "execution_count": 242,
   "metadata": {},
   "outputs": [
    {
     "data": {
      "image/png": "[encoded data removed]",
      "text/plain": [
       "<Figure size 1152x216 with 1 Axes>"
      ]
     },
     "metadata": {},
     "output_type": "display_data"
    }
   ],
   "source": [
    "\n",
    "fig, ax = plt.subplots(1, figsize=(16, 3))\n",
    "\n",
    "ax.scatter(region1_charity_incomes, np.repeat(0, len(region1_charity_incomes)) + np.random.normal(0, 0.1, len(region1_charity_incomes)), s=45)\n",
    "ax.scatter(region2_charity_incomes, np.repeat(1, len(region2_charity_incomes)) + np.random.normal(0, 0.1, len(region2_charity_incomes)), s=45)\n",
    "ax.scatter(region3_charity_incomes, np.repeat(2, len(region3_charity_incomes)) + np.random.normal(0, 0.1, len(region3_charity_incomes)), s=45)\n",
    "ax.scatter(region4_charity_incomes, np.repeat(3, len(region4_charity_incomes)) + np.random.normal(0, 0.1, len(region4_charity_incomes)), s=45)\n",
    "\n",
    "ax.set_xticks(np.arange(0,np.max(region3_charity_incomes+1000000000), 1000000000))\n",
    "ax.set_xticklabels(([\"0\", \"1\", \"2\", \"3\", \"4\"]),fontsize = 20, weight = \"bold\")\n",
    "ax.set_xlabel(\"Dollar Amount (Billions $)\", fontsize = 25, weight = \"bold\")\n",
    "\n",
    "ax.set_yticks([0, 1, 2, 3])\n",
    "ax.set_yticklabels([\"NorthEast\", \"Midwest\", \"South\", \"West\"], fontsize = 20, weight = \"bold\") ;\n",
    "ax.set_ylabel(\"Region\", fontsize = 25, weight = \"bold\")\n",
    "\n",
    "ax.set_title(\"Charity Income Amounts by Region\", fontsize = 30, weight = \"bold\");\n",
    "\n",
    "plt.tight_layout()\n",
    "plt.savefig(\"Charity_Income_AMTs_Regional\")"
   ]
  },
  {
   "cell_type": "code",
   "execution_count": 234,
   "metadata": {},
   "outputs": [
    {
     "data": {
      "text/plain": [
       "3948381510.0"
      ]
     },
     "execution_count": 234,
     "metadata": {},
     "output_type": "execute_result"
    }
   ],
   "source": [
    "np.max(region3_charity_incomes)"
   ]
  },
  {
   "cell_type": "code",
   "execution_count": 243,
   "metadata": {},
   "outputs": [],
   "source": [
    "def count_winning_pairs(sample_1, sample_2):\n",
    "    sample_1, sample_2 = np.array(sample_1), np.array(sample_2)\n",
    "    n_total_wins = 0\n",
    "    for x in sample_1:\n",
    "        n_wins = np.sum(x > sample_2) + 0.5*np.sum(x == sample_2)\n",
    "        n_total_wins += n_wins\n",
    "    return n_total_wins"
   ]
  },
  {
   "cell_type": "code",
   "execution_count": 245,
   "metadata": {},
   "outputs": [
    {
     "name": "stdout",
     "output_type": "stream",
     "text": [
      "Number of NorthEast Wins: 1772979.0\n",
      "Number of MidWest Wins: 1547541.0\n"
     ]
    },
    {
     "name": "stderr",
     "output_type": "stream",
     "text": [
      "/anaconda3/lib/python3.7/site-packages/ipykernel_launcher.py:5: RuntimeWarning:\n",
      "\n",
      "invalid value encountered in greater\n",
      "\n"
     ]
    }
   ],
   "source": [
    "NorthEast_wins = count_winning_pairs(region1_charity_incomes, region2_charity_incomes)\n",
    "MidWest_wins = count_winning_pairs(region2_charity_incomes, region1_charity_incomes)\n",
    "print(\"Number of NorthEast Wins: {}\".format(NorthEast_wins))\n",
    "print(\"Number of MidWest Wins: {}\".format(MidWest_wins))\n"
   ]
  },
  {
   "cell_type": "code",
   "execution_count": 255,
   "metadata": {},
   "outputs": [
    {
     "name": "stdout",
     "output_type": "stream",
     "text": [
      "p-value for NorthEast > MidWest: 0.00012\n",
      "p-value for NorthEast > South  : 0.00110\n",
      "p-value for NorthEast > West   : 0.00583\n"
     ]
    }
   ],
   "source": [
    "res = stats.mannwhitneyu(region1_charity_incomes, region2_charity_incomes, alternative=\"greater\")\n",
    "print(\"p-value for NorthEast > MidWest: {:2.5f}\".format(res.pvalue))\n",
    "res = stats.mannwhitneyu(region1_charity_incomes, region3_charity_incomes, alternative=\"greater\")\n",
    "print(\"p-value for NorthEast > South  : {:2.5f}\".format(res.pvalue))\n",
    "res = stats.mannwhitneyu(region1_charity_incomes, region4_charity_incomes, alternative=\"greater\")\n",
    "print(\"p-value for NorthEast > West   : {:2.5f}\".format(res.pvalue))"
   ]
  },
  {
   "cell_type": "code",
   "execution_count": 251,
   "metadata": {},
   "outputs": [
    {
     "name": "stdout",
     "output_type": "stream",
     "text": [
      "p-value for MidWest > NorthEast: 0.9998830512\n",
      "p-value for MidWest > South: 0.8505302516\n",
      "p-value for MidWest > West: 0.8953428510\n"
     ]
    }
   ],
   "source": [
    "res = stats.mannwhitneyu(region2_charity_incomes, region1_charity_incomes, alternative=\"greater\")\n",
    "print(\"p-value for MidWest > NorthEast: {:2.10f}\".format(res.pvalue))\n",
    "res = stats.mannwhitneyu(region2_charity_incomes, region3_charity_incomes, alternative=\"greater\")\n",
    "print(\"p-value for MidWest > South: {:2.10f}\".format(res.pvalue))\n",
    "res = stats.mannwhitneyu(region2_charity_incomes, region4_charity_incomes, alternative=\"greater\")\n",
    "print(\"p-value for MidWest > West: {:2.10f}\".format(res.pvalue))"
   ]
  },
  {
   "cell_type": "code",
   "execution_count": 256,
   "metadata": {},
   "outputs": [
    {
     "name": "stdout",
     "output_type": "stream",
     "text": [
      "p-value for South > NorthEast: 0.9989021586\n",
      "p-value for South > MidWest  : 0.14954\n",
      "p-value for South > West: 0.6197537605\n"
     ]
    }
   ],
   "source": [
    "res = stats.mannwhitneyu(region3_charity_incomes, region1_charity_incomes, alternative=\"greater\")\n",
    "print(\"p-value for South > NorthEast: {:2.10f}\".format(res.pvalue))\n",
    "res = stats.mannwhitneyu(region3_charity_incomes, region2_charity_incomes, alternative=\"greater\")\n",
    "print(\"p-value for South > MidWest  : {:2.5f}\".format(res.pvalue))\n",
    "res = stats.mannwhitneyu(region3_charity_incomes, region4_charity_incomes, alternative=\"greater\")\n",
    "print(\"p-value for South > West: {:2.10f}\".format(res.pvalue))"
   ]
  },
  {
   "cell_type": "code",
   "execution_count": 257,
   "metadata": {},
   "outputs": [
    {
     "name": "stdout",
     "output_type": "stream",
     "text": [
      "p-value for West > NorthEast: 0.99416\n",
      "p-value for West > MidWest  : 0.10458\n",
      "p-value for West > South    : 0.38035\n"
     ]
    }
   ],
   "source": [
    "res = stats.mannwhitneyu(region4_charity_incomes, region1_charity_incomes, alternative=\"greater\")\n",
    "print(\"p-value for West > NorthEast: {:2.5f}\".format(res.pvalue))\n",
    "res = stats.mannwhitneyu(region4_charity_incomes, region2_charity_incomes, alternative=\"greater\")\n",
    "print(\"p-value for West > MidWest  : {:2.5f}\".format(res.pvalue))\n",
    "res = stats.mannwhitneyu(region4_charity_incomes, region3_charity_incomes, alternative=\"greater\")\n",
    "print(\"p-value for West > South    : {:2.5f}\".format(res.pvalue))"
   ]
  },
  {
   "cell_type": "code",
   "execution_count": 263,
   "metadata": {},
   "outputs": [],
   "source": [
    "a = len(region1_charity_incomes)\n",
    "b= len(region2_charity_incomes)\n",
    "c= len(region3_charity_incomes)\n",
    "d= len(region4_charity_incomes)"
   ]
  },
  {
   "cell_type": "code",
   "execution_count": 264,
   "metadata": {},
   "outputs": [
    {
     "data": {
      "text/plain": [
       "8642"
      ]
     },
     "execution_count": 264,
     "metadata": {},
     "output_type": "execute_result"
    }
   ],
   "source": [
    "a+b+c+d"
   ]
  },
  {
   "cell_type": "code",
   "execution_count": 266,
   "metadata": {},
   "outputs": [
    {
     "ename": "NameError",
     "evalue": "name 'df' is not defined",
     "output_type": "error",
     "traceback": [
      "\u001b[0;31m---------------------------------------------------------------------------\u001b[0m",
      "\u001b[0;31mNameError\u001b[0m                                 Traceback (most recent call last)",
      "\u001b[0;32m<ipython-input-266-55c137c1f63c>\u001b[0m in \u001b[0;36m<module>\u001b[0;34m\u001b[0m\n\u001b[1;32m      2\u001b[0m \u001b[0;34m\u001b[0m\u001b[0m\n\u001b[1;32m      3\u001b[0m \u001b[0mfig\u001b[0m\u001b[0;34m,\u001b[0m \u001b[0max\u001b[0m \u001b[0;34m=\u001b[0m \u001b[0mplt\u001b[0m\u001b[0;34m.\u001b[0m\u001b[0msubplots\u001b[0m\u001b[0;34m(\u001b[0m\u001b[0;36m1\u001b[0m\u001b[0;34m,\u001b[0m \u001b[0mfigsize\u001b[0m\u001b[0;34m=\u001b[0m\u001b[0;34m(\u001b[0m\u001b[0;36m16\u001b[0m\u001b[0;34m,\u001b[0m \u001b[0;36m3\u001b[0m\u001b[0;34m)\u001b[0m\u001b[0;34m)\u001b[0m\u001b[0;34m\u001b[0m\u001b[0;34m\u001b[0m\u001b[0m\n\u001b[0;32m----> 4\u001b[0;31m \u001b[0mstudents\u001b[0m \u001b[0;34m=\u001b[0m \u001b[0mstats\u001b[0m\u001b[0;34m.\u001b[0m\u001b[0mt\u001b[0m\u001b[0;34m(\u001b[0m\u001b[0mdf\u001b[0m\u001b[0;34m)\u001b[0m\u001b[0;34m\u001b[0m\u001b[0;34m\u001b[0m\u001b[0m\n\u001b[0m\u001b[1;32m      5\u001b[0m \u001b[0max\u001b[0m\u001b[0;34m.\u001b[0m\u001b[0mplot\u001b[0m\u001b[0;34m(\u001b[0m\u001b[0mx\u001b[0m\u001b[0;34m,\u001b[0m \u001b[0mstudents\u001b[0m\u001b[0;34m.\u001b[0m\u001b[0mpdf\u001b[0m\u001b[0;34m(\u001b[0m\u001b[0mx\u001b[0m\u001b[0;34m)\u001b[0m\u001b[0;34m,\u001b[0m \u001b[0mlinewidth\u001b[0m\u001b[0;34m=\u001b[0m\u001b[0;36m2\u001b[0m\u001b[0;34m,\u001b[0m \u001b[0mlabel\u001b[0m\u001b[0;34m=\u001b[0m\u001b[0;34m\"Degree of Freedom: {:2.2f}\"\u001b[0m\u001b[0;34m.\u001b[0m\u001b[0mformat\u001b[0m\u001b[0;34m(\u001b[0m\u001b[0mdf\u001b[0m\u001b[0;34m)\u001b[0m\u001b[0;34m)\u001b[0m\u001b[0;34m\u001b[0m\u001b[0;34m\u001b[0m\u001b[0m\n\u001b[1;32m      6\u001b[0m \u001b[0m_\u001b[0m \u001b[0;34m=\u001b[0m \u001b[0max\u001b[0m\u001b[0;34m.\u001b[0m\u001b[0mfill_between\u001b[0m\u001b[0;34m(\u001b[0m\u001b[0mx\u001b[0m\u001b[0;34m,\u001b[0m \u001b[0mstudents\u001b[0m\u001b[0;34m.\u001b[0m\u001b[0mpdf\u001b[0m\u001b[0;34m(\u001b[0m\u001b[0mx\u001b[0m\u001b[0;34m)\u001b[0m\u001b[0;34m,\u001b[0m \u001b[0mwhere\u001b[0m\u001b[0;34m=\u001b[0m\u001b[0;34m(\u001b[0m\u001b[0mx\u001b[0m \u001b[0;34m>=\u001b[0m \u001b[0;34m-\u001b[0m\u001b[0mtest_statistic\u001b[0m\u001b[0;34m)\u001b[0m\u001b[0;34m,\u001b[0m \u001b[0mcolor\u001b[0m\u001b[0;34m=\u001b[0m\u001b[0;34m\"red\"\u001b[0m\u001b[0;34m,\u001b[0m \u001b[0malpha\u001b[0m\u001b[0;34m=\u001b[0m\u001b[0;36m0.25\u001b[0m\u001b[0;34m)\u001b[0m\u001b[0;34m\u001b[0m\u001b[0;34m\u001b[0m\u001b[0m\n",
      "\u001b[0;31mNameError\u001b[0m: name 'df' is not defined"
     ]
    },
    {
     "data": {
      "image/png": "[encoded data removed]",
      "text/plain": [
       "<Figure size 1152x216 with 1 Axes>"
      ]
     },
     "metadata": {},
     "output_type": "display_data"
    }
   ],
   "source": [
    "x = np.linspace(-3, 3, num=250)\n",
    "\n",
    "fig, ax = plt.subplots(1, figsize=(16, 3))\n",
    "students = stats.t(df)\n",
    "ax.plot(x, students.pdf(x), linewidth=2, label=\"Degree of Freedom: {:2.2f}\".format(df))\n",
    "_ = ax.fill_between(x, students.pdf(x), where=(x >= -test_statistic), color=\"red\", alpha=0.25)\n",
    "_ = ax.fill_between(x, students.pdf(x), where=(x <= test_statistic), color=\"red\", alpha=0.25)\n",
    "ax.legend()\n",
    "ax.set_title(\"p-value Reigon\")"
   ]
  },
  {
   "cell_type": "code",
   "execution_count": null,
   "metadata": {},
   "outputs": [],
   "source": []
  }
 ],
 "metadata": {
  "kernelspec": {
   "display_name": "Python 3",
   "language": "python",
   "name": "python3"
  },
  "language_info": {
   "codemirror_mode": {
    "name": "ipython",
    "version": 3
   },
   "file_extension": ".py",
   "mimetype": "text/x-python",
   "name": "python",
   "nbconvert_exporter": "python",
   "pygments_lexer": "ipython3",
   "version": "3.7.3"
  }
 },
 "nbformat": 4,
 "nbformat_minor": 2
}
