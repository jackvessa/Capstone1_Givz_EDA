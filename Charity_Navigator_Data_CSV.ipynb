{
 "cells": [
  {
   "cell_type": "code",
   "execution_count": 2,
   "metadata": {},
   "outputs": [],
   "source": [
    "# Imports\n",
    "import json\n",
    "from pandas.io.json import json_normalize\n",
    "import requests\n",
    "import pyspark as ps\n",
    "import pandas as pd\n",
    "import numpy as np\n",
    "import matplotlib.pyplot as plt\n",
    "plt.style.use(\"ggplot\")\n",
    "from textwrap import wrap\n",
    "import folium\n",
    "import plotly.graph_objects as go\n",
    "from os import path\n",
    "from PIL import Image\n",
    "from wordcloud import WordCloud, STOPWORDS, ImageColorGenerator\n",
    "STOPWORDS.add(\"br\")"
   ]
  },
  {
   "cell_type": "code",
   "execution_count": 3,
   "metadata": {},
   "outputs": [],
   "source": [
    "# Methods\n",
    "def unpack_column(dataFrame,col_name):\n",
    "    newDf = dataFrame.from_records(dataFrame[col_name].dropna().tolist())\n",
    "    return newDf\n",
    "\n",
    "def unpack_and_destroy(dataFrame,column):\n",
    "    temp = unpack_column(dataFrame,column)\n",
    "    for col in temp.columns:\n",
    "        dataFrame[col] = temp[col]\n",
    "    #dataFrame = dataFrame.drop(columns=[column])\n",
    "    return dataFrame\n",
    "\n",
    "def sort_db_value(db,value,asc=False):\n",
    "    return db.sort_values(by = value, ascending = asc)\n",
    "\n",
    "def freq_array(freq_list):\n",
    "    freq = []\n",
    "    for i in freq_list:\n",
    "        freq.append(i)\n",
    "    return freq\n",
    "\n",
    "def set_labels(freq, ax,horz_shift=.2,vert_shift=1000,w=\"bold\",fsize=10,c=\"b\"):\n",
    "    for i, v in enumerate(freq):\n",
    "        ax.text(i-horz_shift,v+vert_shift, str(round(v,2)), weight = w,fontsize=fsize,color = c)\n",
    "        \n",
    "def wrap_axis_labels(labels_list,wrap_length=13):\n",
    "    labels_list = [ '\\n'.join(wrap(l, wrap_length)) for l in labels_list]\n",
    "    return labels_list\n"
   ]
  },
  {
   "cell_type": "code",
   "execution_count": 4,
   "metadata": {},
   "outputs": [],
   "source": [
    "API_df = pd.read_csv('Data/API_DF_CN.csv')"
   ]
  },
  {
   "cell_type": "code",
   "execution_count": 5,
   "metadata": {},
   "outputs": [
    {
     "data": {
      "text/html": [
       "<div>\n",
       "<style scoped>\n",
       "    .dataframe tbody tr th:only-of-type {\n",
       "        vertical-align: middle;\n",
       "    }\n",
       "\n",
       "    .dataframe tbody tr th {\n",
       "        vertical-align: top;\n",
       "    }\n",
       "\n",
       "    .dataframe thead th {\n",
       "        text-align: right;\n",
       "    }\n",
       "</style>\n",
       "<table border=\"1\" class=\"dataframe\">\n",
       "  <thead>\n",
       "    <tr style=\"text-align: right;\">\n",
       "      <th></th>\n",
       "      <th>charityName</th>\n",
       "      <th>ein</th>\n",
       "      <th>mission</th>\n",
       "      <th>tagLine</th>\n",
       "      <th>categoryID</th>\n",
       "      <th>categoryName</th>\n",
       "      <th>causeID</th>\n",
       "      <th>causeName</th>\n",
       "      <th>rating</th>\n",
       "      <th>assetAmount</th>\n",
       "      <th>classification</th>\n",
       "      <th>deductibility</th>\n",
       "      <th>deductibilityCode</th>\n",
       "      <th>incomeAmount</th>\n",
       "      <th>nteeClassification</th>\n",
       "      <th>nteeType</th>\n",
       "      <th>city</th>\n",
       "      <th>postalCode</th>\n",
       "      <th>stateOrProvince</th>\n",
       "      <th>streetAddress1</th>\n",
       "    </tr>\n",
       "  </thead>\n",
       "  <tbody>\n",
       "  </tbody>\n",
       "</table>\n",
       "</div>"
      ],
      "text/plain": [
       "Empty DataFrame\n",
       "Columns: [charityName, ein, mission, tagLine, categoryID, categoryName, causeID, causeName, rating, assetAmount, classification, deductibility, deductibilityCode, incomeAmount, nteeClassification, nteeType, city, postalCode, stateOrProvince, streetAddress1]\n",
       "Index: []"
      ]
     },
     "execution_count": 5,
     "metadata": {},
     "output_type": "execute_result"
    }
   ],
   "source": [
    "# pd.set_option('display.max_colwidth', -1)\n",
    "API_df.head(0)"
   ]
  },
  {
   "cell_type": "code",
   "execution_count": 6,
   "metadata": {},
   "outputs": [],
   "source": [
    "# # Charity Count Bar Graph Total - By State\n",
    "# category_count = API_df.groupby('stateOrProvince').size().sort_values(ascending=False)\n",
    "# category_count = category_count.iloc[0:10]\n",
    "# categories = list(category_count.index.values)\n",
    "# categories = wrap_axis_labels(categories,13)\n",
    "\n",
    "# freq = freq_array(category_count)\n",
    "    \n",
    "# fig,ax = plt.subplots(figsize = (20,10))\n",
    "# ax.bar(categories,freq, color = \"g\");\n",
    "# ax.set_xticklabels(categories, rotation=0, weight = \"bold\",fontsize=20)\n",
    "\n",
    "# # Needs Adjustment based on Data\n",
    "# ax.set_yticks(np.arange(0,np.max(freq)+200,200)) ;\n",
    "# ax.set_title(\"Charities Counts by State - Rated\", weight = \"bold\",fontsize=30);\n",
    "# ax.set_xlabel(\"State\", fontsize=25, weight = \"bold\");\n",
    "# ax.set_ylabel(\"Frequency\", fontsize=25, weight = \"bold\");\n",
    "# ax.set_yticklabels(np.arange(0,np.max(freq)+200,200), weight=\"bold\", fontsize =20) ;\n",
    "\n",
    "\n",
    "# set_labels(freq,ax,.20,(np.max(freq)/100),fsize=20,c=\"k\")\n",
    "# plt.savefig(\"Charities_by_state\")"
   ]
  },
  {
   "cell_type": "code",
   "execution_count": 7,
   "metadata": {},
   "outputs": [],
   "source": [
    "# # Charity Count Bar Graph Total - By Category\n",
    "# category_count = API_df.groupby('categoryName').size()\n",
    "# categories = list(category_count.index.values)\n",
    "# categories = wrap_axis_labels(categories,13)\n",
    "\n",
    "# freq = freq_array(category_count)\n",
    "    \n",
    "# fig,ax = plt.subplots(figsize = (20,10))\n",
    "# ax.bar(categories,freq, color = \"b\");\n",
    "# ax.set_xticklabels(categories, rotation=0, weight = \"bold\",fontsize=12)\n",
    "\n",
    "# # Needs Adjustment based on Data\n",
    "# ax.set_yticks(np.arange(0,np.max(freq)+200,200)) ;\n",
    "# ax.set_title(\"Charities by Category\", weight = \"bold\",fontsize=30);\n",
    "# ax.set_xlabel(\"Category\", fontsize=25, weight = \"bold\");\n",
    "# ax.set_ylabel(\"Frequency\", fontsize=25, weight = \"bold\");\n",
    "# ax.set_yticklabels(np.arange(0,np.max(freq)+200,200), weight=\"bold\", fontsize =15) ;\n",
    "\n",
    "\n",
    "# set_labels(freq,ax,.20,(np.max(freq)/100),fsize=15,c=\"k\")\n",
    "# plt.savefig(\"Charities_by_category\")"
   ]
  },
  {
   "cell_type": "code",
   "execution_count": 8,
   "metadata": {},
   "outputs": [],
   "source": [
    "# # 4 vs. 3 -Star Charities Count Bar Graph\n",
    "# Four_Star_Charities_Total = API_df[API_df['rating'] == 4.0]\n",
    "# Three_Star_Charities_Total = API_df[API_df['rating'] == 3.0]\n",
    "\n",
    "# #Four-Star\n",
    "# four_star_count = Four_Star_Charities_Total.groupby(\"categoryName\").size()\n",
    "# categories = list(four_star_count.index.values)\n",
    "# categories = wrap_axis_labels(categories,13)\n",
    "\n",
    "# ind = np.arange(len(categories)) \n",
    "\n",
    "# freq = freq_array(four_star_count)\n",
    "    \n",
    "# fig,ax = plt.subplots(figsize = (18,10),sharex=True,sharey=True)\n",
    "# ax.bar(ind,freq, color = \"b\",width=0.35,label=\"Four-Star Charities\");\n",
    "\n",
    "# # Needs Adjustment based on Data\n",
    "\n",
    "# ax.set_yticklabels(np.arange(0,np.max(freq)+200,100), weight=\"bold\", fontsize =12) ;\n",
    "# ax.set_title(\"Four-Star vs. Three-Star Charities by Category\", weight = \"bold\",fontsize=25);\n",
    "# ax.set_xlabel(\"Category\", fontsize=20, weight = \"bold\");\n",
    "# ax.set_ylabel(\"Frequency\", fontsize=20, weight = \"bold\");\n",
    "\n",
    "# set_labels(freq,ax,.2,(np.max(freq)/100),fsize=14,c=\"blue\")\n",
    "    \n",
    "# #Three-Star\n",
    "# three_star_count = Three_Star_Charities_Total.groupby(\"categoryName\").size()\n",
    "# categories_2 = list(three_star_count.index.values)\n",
    "\n",
    "# ind_2 = np.arange(len(categories_2)) \n",
    "\n",
    "# freq_2 = freq_array(three_star_count)\n",
    "    \n",
    "# ax.bar(ind_2+.35,freq_2, color = \"orange\",width=0.35,label=\"Three-Star Charities\");\n",
    "\n",
    "# # Needs Adjustment based on Data\n",
    "# # ax.set_yticks(np.arange(0,np.max(freq)+200,200)) ;\n",
    "# # ax.set_title(\"Four-Star Charities by Category\", weight = \"bold\",fontsize=19);\n",
    "# # ax.set_xlabel(\"Category\", fontsize=15, weight = \"bold\");\n",
    "# # ax.set_ylabel(\"Frequency\", fontsize=15, weight = \"bold\");\n",
    "\n",
    "# set_labels(freq_2,ax,-.2,(np.max(freq)/100),fsize=14,c='black')\n",
    "\n",
    "# ax.set_yticks(np.arange(0,(np.max(freq)+100),100)) ;\n",
    "# ax.set_xticks(ind + .35 / 2)\n",
    "# ax.set_xticklabels(categories, weight=\"bold\",fontsize=11);\n",
    "# ax.legend(prop={'size': 20});\n",
    "\n",
    "# # plt.savefig(\"Four_Star_vs_Three_Star_Categories\")"
   ]
  },
  {
   "cell_type": "code",
   "execution_count": 9,
   "metadata": {},
   "outputs": [],
   "source": [
    "# state_df = API_df.groupby(\"stateOrProvince\").size().reset_index(name=\"Count\")\n",
    "# fig = go.Figure(data=go.Choropleth(\n",
    "#     locations = state_df['stateOrProvince'],\n",
    "#     z=state_df['Count'],\n",
    "#     locationmode='USA-states',\n",
    "#     colorscale='Greens',\n",
    "#     autocolorscale=False,\n",
    "#     text=state_df['stateOrProvince'], # hover text\n",
    "#     marker_line_color='black', # line markers between states\n",
    "#     colorbar_title=\"Number of Charities\"\n",
    "# ))\n",
    "\n",
    "# fig.update_layout(\n",
    "#     title_text='Number of US Charitable Organizations by State - Rated<br>(Hover for breakdown)',\n",
    "#     geo = dict(\n",
    "#         scope='usa',\n",
    "#         projection=go.layout.geo.Projection(type = 'albers usa'),\n",
    "#         showlakes=True, # lakes\n",
    "#         lakecolor='rgb(255, 255, 255)'),\n",
    "# )\n",
    "\n",
    "# fig.show()"
   ]
  },
  {
   "cell_type": "code",
   "execution_count": 10,
   "metadata": {
    "scrolled": true
   },
   "outputs": [
    {
     "data": {
      "text/html": [
       "<div>\n",
       "<style scoped>\n",
       "    .dataframe tbody tr th:only-of-type {\n",
       "        vertical-align: middle;\n",
       "    }\n",
       "\n",
       "    .dataframe tbody tr th {\n",
       "        vertical-align: top;\n",
       "    }\n",
       "\n",
       "    .dataframe thead th {\n",
       "        text-align: right;\n",
       "    }\n",
       "</style>\n",
       "<table border=\"1\" class=\"dataframe\">\n",
       "  <thead>\n",
       "    <tr style=\"text-align: right;\">\n",
       "      <th></th>\n",
       "      <th>charityName</th>\n",
       "      <th>ein</th>\n",
       "      <th>mission</th>\n",
       "      <th>tagLine</th>\n",
       "      <th>categoryID</th>\n",
       "      <th>categoryName</th>\n",
       "      <th>causeID</th>\n",
       "      <th>causeName</th>\n",
       "      <th>rating</th>\n",
       "      <th>assetAmount</th>\n",
       "      <th>classification</th>\n",
       "      <th>deductibility</th>\n",
       "      <th>deductibilityCode</th>\n",
       "      <th>incomeAmount</th>\n",
       "      <th>nteeClassification</th>\n",
       "      <th>nteeType</th>\n",
       "      <th>city</th>\n",
       "      <th>postalCode</th>\n",
       "      <th>stateOrProvince</th>\n",
       "      <th>streetAddress1</th>\n",
       "    </tr>\n",
       "  </thead>\n",
       "  <tbody>\n",
       "  </tbody>\n",
       "</table>\n",
       "</div>"
      ],
      "text/plain": [
       "Empty DataFrame\n",
       "Columns: [charityName, ein, mission, tagLine, categoryID, categoryName, causeID, causeName, rating, assetAmount, classification, deductibility, deductibilityCode, incomeAmount, nteeClassification, nteeType, city, postalCode, stateOrProvince, streetAddress1]\n",
       "Index: []"
      ]
     },
     "execution_count": 10,
     "metadata": {},
     "output_type": "execute_result"
    }
   ],
   "source": [
    "API_df.head(0)"
   ]
  },
  {
   "cell_type": "code",
   "execution_count": 11,
   "metadata": {},
   "outputs": [],
   "source": [
    "# text = API_df.mission.values\n",
    "# wordcloud = WordCloud(\n",
    "#     width = 3000,\n",
    "#     height = 2000,\n",
    "#     background_color = 'white',\n",
    "# #     color_func = 'grey',\n",
    "#     stopwords = STOPWORDS).generate(' '.join(text))\n",
    "# fig = plt.figure(\n",
    "#     figsize = (20, 15),\n",
    "#     facecolor = 'k',\n",
    "#     edgecolor = 'k')\n",
    "# plt.imshow(wordcloud, interpolation = 'bilinear')\n",
    "# plt.axis('off')\n",
    "# plt.tight_layout(pad=0)\n",
    "# plt.savefig(\"Mission_Wordmap\")\n",
    "# plt.show()"
   ]
  },
  {
   "cell_type": "code",
   "execution_count": 12,
   "metadata": {},
   "outputs": [],
   "source": [
    "# pop_data = pd.read_csv('Data/acs2017_census_tract_data.csv')\n",
    "# pop_data = pop_data.groupby(\"State\")[\"TotalPop\"].sum().reset_index(name=\"Population\")\n",
    "# pop_abbrv = pd.read_csv('Data/states.csv')\n",
    "# pop_df = pd.merge(pop_data, pop_abbrv, on='State')\n",
    "# pop_df[\"stateOrProvince\"] = pop_df[\"Abbreviation\"]\n",
    "# pop_df = pop_df.drop(columns=[\"Abbreviation\"])"
   ]
  },
  {
   "cell_type": "code",
   "execution_count": 13,
   "metadata": {},
   "outputs": [],
   "source": [
    "# category_count = API_df.groupby('stateOrProvince').size().sort_values(ascending=False).reset_index(name=\"count\")\n",
    "# category_count.head()"
   ]
  },
  {
   "cell_type": "code",
   "execution_count": 14,
   "metadata": {},
   "outputs": [],
   "source": [
    "# income_df = API_df.groupby(\"stateOrProvince\")[\"incomeAmount\"].sum().reset_index(name=\"Sum_Income\")"
   ]
  },
  {
   "cell_type": "code",
   "execution_count": 15,
   "metadata": {},
   "outputs": [],
   "source": [
    "# income_df.head()"
   ]
  },
  {
   "cell_type": "code",
   "execution_count": 16,
   "metadata": {},
   "outputs": [],
   "source": [
    "# add_pop = pd.merge(pop_df, category_count, on = \"stateOrProvince\")\n",
    "# add_pop[\"Num_Charities_Per_Capita\"] = (add_pop[\"count\"] / add_pop[\"Population\"])\n",
    "# add_pop = pd.merge(add_pop, income_df, on = \"stateOrProvince\")\n",
    "# add_pop[\"Income_Per_Capita\"] = add_pop[\"Sum_Income\"] / add_pop[\"Population\"]\n",
    "##Dropping District of Colombia\n",
    "# add_pop = add_pop.drop(add_pop.index[8])"
   ]
  },
  {
   "cell_type": "code",
   "execution_count": 17,
   "metadata": {},
   "outputs": [],
   "source": [
    "# fig = go.Figure(data=go.Choropleth(\n",
    "#     locations = add_pop['stateOrProvince'],\n",
    "#     z=add_pop['Income_Per_Capita'],\n",
    "#     locationmode='USA-states',\n",
    "#     colorscale='Greens',\n",
    "#     autocolorscale=False,\n",
    "#     text=add_pop['stateOrProvince'], # hover text\n",
    "#     marker_line_color='black', # line markers between states\n",
    "#     colorbar_title=\"Income Per Capita\"\n",
    "# ))\n",
    "\n",
    "# fig.update_layout(\n",
    "#     title_text='Charity Income Per Capita by State - Rated Charities<br>(Hover for breakdown)',\n",
    "#     geo = dict(\n",
    "#         scope='usa',\n",
    "#         projection=go.layout.geo.Projection(type = 'albers usa'),\n",
    "#         showlakes=True, # lakes\n",
    "#         lakecolor='rgb(255, 255, 255)'),\n",
    "# )\n",
    "\n",
    "# fig.show()"
   ]
  },
  {
   "cell_type": "code",
   "execution_count": 55,
   "metadata": {},
   "outputs": [],
   "source": [
    "category_df_income = API_df.groupby('categoryName')['incomeAmount'].sum().reset_index(name=\"IncomeSum\").sort_values(by = 'IncomeSum', ascending=False)"
   ]
  },
  {
   "cell_type": "code",
   "execution_count": 63,
   "metadata": {},
   "outputs": [],
   "source": [
    "category_df_income['IncomeAdjusted'] = category_df_income['IncomeSum'] / 1000000000"
   ]
  },
  {
   "cell_type": "code",
   "execution_count": 64,
   "metadata": {},
   "outputs": [
    {
     "data": {
      "text/html": [
       "<div>\n",
       "<style scoped>\n",
       "    .dataframe tbody tr th:only-of-type {\n",
       "        vertical-align: middle;\n",
       "    }\n",
       "\n",
       "    .dataframe tbody tr th {\n",
       "        vertical-align: top;\n",
       "    }\n",
       "\n",
       "    .dataframe thead th {\n",
       "        text-align: right;\n",
       "    }\n",
       "</style>\n",
       "<table border=\"1\" class=\"dataframe\">\n",
       "  <thead>\n",
       "    <tr style=\"text-align: right;\">\n",
       "      <th></th>\n",
       "      <th>categoryName</th>\n",
       "      <th>IncomeSum</th>\n",
       "      <th>IncomeAdjusted</th>\n",
       "    </tr>\n",
       "  </thead>\n",
       "  <tbody>\n",
       "    <tr>\n",
       "      <th>6</th>\n",
       "      <td>Human Services</td>\n",
       "      <td>4.615947e+10</td>\n",
       "      <td>46.159465</td>\n",
       "    </tr>\n",
       "    <tr>\n",
       "      <th>1</th>\n",
       "      <td>Arts, Culture, Humanities</td>\n",
       "      <td>2.945553e+10</td>\n",
       "      <td>29.455535</td>\n",
       "    </tr>\n",
       "    <tr>\n",
       "      <th>2</th>\n",
       "      <td>Community Development</td>\n",
       "      <td>2.927567e+10</td>\n",
       "      <td>29.275670</td>\n",
       "    </tr>\n",
       "    <tr>\n",
       "      <th>5</th>\n",
       "      <td>Health</td>\n",
       "      <td>2.895878e+10</td>\n",
       "      <td>28.958775</td>\n",
       "    </tr>\n",
       "    <tr>\n",
       "      <th>8</th>\n",
       "      <td>International</td>\n",
       "      <td>2.749592e+10</td>\n",
       "      <td>27.495921</td>\n",
       "    </tr>\n",
       "  </tbody>\n",
       "</table>\n",
       "</div>"
      ],
      "text/plain": [
       "                categoryName     IncomeSum  IncomeAdjusted\n",
       "6             Human Services  4.615947e+10       46.159465\n",
       "1  Arts, Culture, Humanities  2.945553e+10       29.455535\n",
       "2      Community Development  2.927567e+10       29.275670\n",
       "5                     Health  2.895878e+10       28.958775\n",
       "8              International  2.749592e+10       27.495921"
      ]
     },
     "execution_count": 64,
     "metadata": {},
     "output_type": "execute_result"
    }
   ],
   "source": [
    "category_df_income.head()"
   ]
  },
  {
   "cell_type": "code",
   "execution_count": 76,
   "metadata": {
    "scrolled": false
   },
   "outputs": [],
   "source": [
    "# # # Category Income Bar Graph (Top 10)\n",
    "# #state_df_count = all_regions_df.groupby(\"STATE\").size().reset_index(name=\"Frequency\").sort_values(by=\"Frequency\",ascending=False)\n",
    "# # category_df_income = API_df.groupby('categoryName')['incomeAmount'].sum().reset_index(name=\"IncomeSum\").sort_values(by = 'IncomeSum', ascending=False)\n",
    "# category_df_income = category_df_income.iloc[:10]\n",
    "\n",
    "# categories = category_df_income['categoryName']\n",
    "# categories = wrap_axis_labels(categories,13)\n",
    "\n",
    "\n",
    "# freq = freq_array(category_df_income['IncomeAdjusted'])\n",
    "# fig,ax = plt.subplots(figsize = (20,10))\n",
    "# ax.bar(categories,freq, color = \"g\");\n",
    "\n",
    "# ax.set_yticks(np.arange(0,51,10));\n",
    "# ax.set_title(\"Total Income by Category (Top 10)\", weight = \"bold\", fontsize = 30);\n",
    "# ax.set_xlabel(\"Category\", fontsize=25, weight = \"bold\");\n",
    "# ax.set_ylabel(\"Income (Billions $)\", fontsize=25, weight = \"bold\");\n",
    "# ax.set_yticklabels(np.arange(0,51,10), weight=\"bold\", fontsize =20) ;\n",
    "# ax.set_xticklabels(categories, weight=\"bold\",fontsize=14);\n",
    "\n",
    "# set_labels(freq,ax,.3,0.5,c=\"k\",fsize=20);\n",
    "\n",
    "# plt.savefig(\"Total_Income_By_Category\")"
   ]
  },
  {
   "cell_type": "markdown",
   "metadata": {},
   "source": [
    "## Next Step: Top Category By Income For Each State"
   ]
  },
  {
   "cell_type": "code",
   "execution_count": null,
   "metadata": {},
   "outputs": [],
   "source": []
  }
 ],
 "metadata": {
  "kernelspec": {
   "display_name": "Python 3",
   "language": "python",
   "name": "python3"
  },
  "language_info": {
   "codemirror_mode": {
    "name": "ipython",
    "version": 3
   },
   "file_extension": ".py",
   "mimetype": "text/x-python",
   "name": "python",
   "nbconvert_exporter": "python",
   "pygments_lexer": "ipython3",
   "version": "3.7.3"
  }
 },
 "nbformat": 4,
 "nbformat_minor": 2
}
