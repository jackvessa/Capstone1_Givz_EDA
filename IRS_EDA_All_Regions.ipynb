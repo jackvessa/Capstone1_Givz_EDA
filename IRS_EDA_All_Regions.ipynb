{
 "cells": [
  {
   "cell_type": "code",
   "execution_count": 4,
   "metadata": {},
   "outputs": [],
   "source": [
    "# Imports\n",
    "import json\n",
    "from pandas.io.json import json_normalize\n",
    "import requests\n",
    "import pyspark as ps\n",
    "import pandas as pd\n",
    "import numpy as np\n",
    "import matplotlib.pyplot as plt\n",
    "plt.style.use(\"ggplot\")\n",
    "from textwrap import wrap\n",
    "import folium\n",
    "import plotly.graph_objects as go\n"
   ]
  },
  {
   "cell_type": "code",
   "execution_count": 5,
   "metadata": {},
   "outputs": [],
   "source": [
    "# Methods\n",
    "def unpack_column(dataFrame,col_name):\n",
    "    newDf = dataFrame.from_records(dataFrame[col_name].dropna().tolist())\n",
    "    return newDf\n",
    "\n",
    "def unpack_and_destroy(dataFrame,column):\n",
    "    temp = unpack_column(dataFrame,column)\n",
    "    for col in temp.columns:\n",
    "        dataFrame[col] = temp[col]\n",
    "    #dataFrame = dataFrame.drop(columns=[column])\n",
    "    return dataFrame\n",
    "\n",
    "def sort_db_value(db,value,asc=False):\n",
    "    return db.sort_values(by = value, ascending = asc)\n",
    "\n",
    "def freq_array(freq_list):\n",
    "    freq = []\n",
    "    for i in freq_list:\n",
    "        freq.append(i)\n",
    "    return freq\n",
    "\n",
    "def set_labels(freq, ax,horz_shift=.2,vert_shift=1000,w=\"bold\",fsize=10,c=\"b\"):\n",
    "    for i, v in enumerate(freq):\n",
    "        ax.text(i-horz_shift,v+vert_shift, str(round(v,2)), weight = w,fontsize=fsize,color = c)\n",
    "        \n",
    "def wrap_axis_labels(labels_list,wrap_length=13):\n",
    "    labels_list = [ '\\n'.join(wrap(l, wrap_length)) for l in labels_list]\n",
    "    return labels_list"
   ]
  },
  {
   "cell_type": "code",
   "execution_count": 6,
   "metadata": {},
   "outputs": [],
   "source": [
    "region1_df = pd.read_csv('Data/eo1.csv')\n",
    "region2_df = pd.read_csv('Data/eo2.csv')\n",
    "region3_df = pd.read_csv('Data/eo3.csv')"
   ]
  },
  {
   "cell_type": "code",
   "execution_count": 7,
   "metadata": {},
   "outputs": [],
   "source": [
    "all_regions_df = pd.concat([region1_df,region2_df,region3_df])"
   ]
  },
  {
   "cell_type": "code",
   "execution_count": 8,
   "metadata": {},
   "outputs": [
    {
     "data": {
      "text/plain": [
       "(1711634, 28)"
      ]
     },
     "execution_count": 8,
     "metadata": {},
     "output_type": "execute_result"
    }
   ],
   "source": [
    "all_regions_df.shape"
   ]
  },
  {
   "cell_type": "code",
   "execution_count": 9,
   "metadata": {},
   "outputs": [
    {
     "data": {
      "text/plain": [
       "(1418907, 28)"
      ]
     },
     "execution_count": 9,
     "metadata": {},
     "output_type": "execute_result"
    }
   ],
   "source": [
    "all_regions_df = all_regions_df[all_regions_df[\"DEDUCTIBILITY\"] == 1]\n",
    "all_regions_df.shape"
   ]
  },
  {
   "cell_type": "code",
   "execution_count": 10,
   "metadata": {},
   "outputs": [],
   "source": [
    "# all_regions_df = all_regions_df.drop(\\\n",
    "#     columns=['FILING_REQ_CD',\"PF_FILING_REQ_CD\",\"STATUS\",\"NTEE_CD\"])"
   ]
  },
  {
   "cell_type": "code",
   "execution_count": 11,
   "metadata": {
    "scrolled": false
   },
   "outputs": [],
   "source": [
    "# # State Count Bar Graph\n",
    "# state_df_count = all_regions_df.groupby(\"STATE\").size()\n",
    "# states = list(state_df_count.index.values)\n",
    "# freq = freq_array(state_df_count)\n",
    "\n",
    "# fig,ax = plt.subplots(figsize = (40,20))\n",
    "# ax.bar(states,freq, color = \"b\");\n",
    "# ax.set_yticks(np.arange(0,np.max(state_df_count)+10000,10000));\n",
    "# ax.set_title(\"Number of Organizations by State\", weight = \"bold\", fontsize = 40);\n",
    "# ax.set_xlabel(\"State\", fontsize=30, weight = \"bold\");\n",
    "# ax.set_ylabel(\"Frequency\", fontsize=30, weight = \"bold\");\n",
    "\n",
    "# set_labels(state_df_count,ax,.4,1500,c=\"k\");"
   ]
  },
  {
   "cell_type": "code",
   "execution_count": 12,
   "metadata": {},
   "outputs": [],
   "source": [
    "# state_df_count = all_regions_df.groupby(\"STATE\").size().reset_index(name=\"Frequency\").sort_values(by=\"Frequency\",ascending=False)\n",
    "# state_df_count.iloc[:10]"
   ]
  },
  {
   "cell_type": "code",
   "execution_count": 13,
   "metadata": {},
   "outputs": [],
   "source": [
    "# # State Count Bar Graph (Top 10)\n",
    "# state_df_count = all_regions_df.groupby(\"STATE\").size().reset_index(name=\"Frequency\").sort_values(by=\"Frequency\",ascending=False)\n",
    "# state_df_count = state_df_count.iloc[:10]\n",
    "\n",
    "# states = state_df_count['STATE']\n",
    "# freq = freq_array(state_df_count['Frequency'])\n",
    "# fig,ax = plt.subplots(figsize = (20,10))\n",
    "# ax.bar(states,freq, color = \"b\");\n",
    "\n",
    "# ax.set_yticks(np.arange(0,np.max(freq)+20000,20000));\n",
    "# ax.set_title(\"Number of Organizations by State (Top 10)\", weight = \"bold\", fontsize = 30);\n",
    "# ax.set_xlabel(\"State\", fontsize=25, weight = \"bold\");\n",
    "# ax.set_ylabel(\"Frequency\", fontsize=25, weight = \"bold\");\n",
    "# ax.set_yticklabels(np.arange(0,np.max(freq)+20000,20000), weight=\"bold\", fontsize =20) ;\n",
    "# ax.set_xticklabels(states, weight=\"bold\",fontsize=20);\n",
    "\n",
    "# set_labels(freq,ax,.3,1500,c=\"k\",fsize=20);\n",
    "\n",
    "# plt.savefig(\"Num_Orgs_Top_10_States\")"
   ]
  },
  {
   "cell_type": "code",
   "execution_count": 14,
   "metadata": {},
   "outputs": [],
   "source": [
    "# my_USA_map = \"Data/us-states.json\"\n",
    "# map = folium.Map(location=[40, -100], zoom_start=4)"
   ]
  },
  {
   "cell_type": "code",
   "execution_count": 15,
   "metadata": {},
   "outputs": [],
   "source": [
    "# state_df = all_regions_df.groupby(\"STATE\").size().reset_index(name=\"Count\")"
   ]
  },
  {
   "cell_type": "code",
   "execution_count": 16,
   "metadata": {},
   "outputs": [],
   "source": [
    "# map.choropleth(geo_data=my_USA_map, data=state_df,\n",
    "#              columns=['STATE', 'Count'],\n",
    "#              key_on='feature.id',\n",
    "#              fill_color='YlGn', fill_opacity=0.8, line_opacity=0.2,\n",
    "#              legend_name='Charity Count', hover_text=state_df[\"STATE\"])\n",
    "# map"
   ]
  },
  {
   "cell_type": "code",
   "execution_count": 17,
   "metadata": {},
   "outputs": [],
   "source": [
    "## Adding in Population Data\n",
    "# pop_data = pd.read_csv('Data/acs2017_census_tract_data.csv')\n",
    "# pop_data = pop_data.groupby(\"State\")[\"TotalPop\"].sum().reset_index(name=\"Population\")\n",
    "# pop_abbrv = pd.read_csv('Data/states.csv')\n",
    "# pop_df = pd.merge(pop_data, pop_abbrv, on='State')\n",
    "# pop_df[\"STATE\"] = pop_df[\"Abbreviation\"]\n",
    "# pop_df = pop_df.drop(columns=[\"Abbreviation\"])"
   ]
  },
  {
   "cell_type": "code",
   "execution_count": 18,
   "metadata": {},
   "outputs": [],
   "source": [
    "# income_df = all_regions_df.groupby(\"STATE\")[\"INCOME_AMT\"].sum().reset_index(name=\"Sum_Income\")"
   ]
  },
  {
   "cell_type": "code",
   "execution_count": 19,
   "metadata": {},
   "outputs": [],
   "source": [
    "# add_pop = pd.merge(pop_df, income_df, on = \"STATE\")\n",
    "# add_pop[\"Income_Per_Capita\"] = add_pop[\"Sum_Income\"] / add_pop[\"Population\"]"
   ]
  },
  {
   "cell_type": "code",
   "execution_count": 21,
   "metadata": {},
   "outputs": [],
   "source": [
    "# # Dropping District of Colombia\n",
    "# add_pop = add_pop.drop(add_pop.index[8])\n",
    "#Dropping Deleware\n",
    "# add_pop = add_pop.drop(add_pop.index[7])\n",
    "# add_pop.head(5)"
   ]
  },
  {
   "cell_type": "code",
   "execution_count": 22,
   "metadata": {},
   "outputs": [],
   "source": [
    "# # state_df = add_pop.groupby(\"STATE\")[\"INCOME_AMT\"].sum().reset_index(name=\"Sum\")\n",
    "# fig = go.Figure(data=go.Choropleth(\n",
    "#     locations = add_pop['STATE'],\n",
    "#     z=add_pop['Income_Per_Capita'],\n",
    "#     locationmode='USA-states',\n",
    "#     colorscale='Blues',\n",
    "#     autocolorscale=False,\n",
    "#     text=add_pop['STATE'], # hover text\n",
    "#     marker_line_color='black', # line markers between states\n",
    "#     colorbar_title=\"Income Per Capita\"\n",
    "# ))\n",
    "\n",
    "# fig.update_layout(\n",
    "#     title_text='Charity Income Per Capita by State - IRS<br>(Hover for breakdown)',\n",
    "#     geo = dict(\n",
    "#         scope='usa',\n",
    "#         projection=go.layout.geo.Projection(type = 'albers usa'),\n",
    "#         showlakes=True, # lakes\n",
    "#         lakecolor='rgb(255, 255, 255)'),\n",
    "# )\n",
    "\n",
    "# fig.show()"
   ]
  },
  {
   "cell_type": "code",
   "execution_count": 23,
   "metadata": {},
   "outputs": [],
   "source": [
    "# # State Per Capita Bar Graph\n",
    "# state_df_count = add_pop.groupby(\"STATE\")['Income_Per_Capita'].sum()\n",
    "# state_df_count = state_df_count.sort_values(ascending=False).iloc[:10]\n",
    "\n",
    "# states = list(state_df_count.index.values)\n",
    "# freq = freq_array(state_df_count)\n",
    "\n",
    "# fig,ax = plt.subplots(figsize = (20,10))\n",
    "# ax.bar(states,freq, color = \"b\");\n",
    "\n",
    "# ax.set_yticks(np.arange(0,np.max(freq)+20000,20000));\n",
    "# ax.set_title(\"Charity Income Per Capita by State (Top 10)\", weight = \"bold\", fontsize = 30);\n",
    "# ax.set_xlabel(\"State\", fontsize=25, weight = \"bold\");\n",
    "# ax.set_ylabel(\"Income Per Capita ($)\", fontsize=25, weight = \"bold\");\n",
    "# ax.set_yticklabels(np.arange(0,np.max(freq)+20000,20000), weight=\"bold\", fontsize =20) ;\n",
    "# ax.set_xticklabels(states, weight=\"bold\",fontsize=20);\n",
    "\n",
    "# set_labels(freq,ax,.4,1500,c=\"k\",fsize=17);\n",
    "\n",
    "# plt.savefig(\"Inc_Per_Cap_Orgs_Top_10_States\")"
   ]
  },
  {
   "cell_type": "code",
   "execution_count": 24,
   "metadata": {},
   "outputs": [],
   "source": [
    "# all_regions_df.sort_values(by=\"INCOME_AMT\",ascending=False).head()"
   ]
  },
  {
   "cell_type": "code",
   "execution_count": 25,
   "metadata": {},
   "outputs": [],
   "source": [
    "# total_assets = all_regions_df.groupby(\"STATE\")[\"ASSET_AMT\"].agg(\"sum\").reset_index(name=\"Sum\")\n",
    "# total_assets.head()"
   ]
  },
  {
   "cell_type": "code",
   "execution_count": 26,
   "metadata": {},
   "outputs": [],
   "source": [
    "# fig = go.Figure(data=go.Choropleth(\n",
    "#     locations = total_assets['STATE'],\n",
    "#     z=total_assets['Sum'],\n",
    "#     locationmode='USA-states',\n",
    "#     colorscale='Reds',\n",
    "#     autocolorscale=False,\n",
    "#     text=total_assets['STATE'], # hover text\n",
    "#     marker_line_color='black', # line markers between states\n",
    "#     colorbar_title=\"Sum of Assets\"\n",
    "# ))\n",
    "\n",
    "# fig.update_layout(\n",
    "#     title_text='Sum of US Charitable Organizations Assets by State<br>(Hover for breakdown)',\n",
    "#     geo = dict(\n",
    "#         scope='usa',\n",
    "#         projection=go.layout.geo.Projection(type = 'albers usa'),\n",
    "#         showlakes=True, # lakes\n",
    "#         lakecolor='rgb(255, 255, 255)'),\n",
    "# )\n",
    "\n",
    "# fig.show()"
   ]
  },
  {
   "cell_type": "code",
   "execution_count": 27,
   "metadata": {},
   "outputs": [],
   "source": [
    "# def heatmap_USA_by_state(dataFrame,state_col_name,zoom_col_name,title,bar_title,action=\"sum\"):\n",
    "#     temp_df = dataFrame.groupby(state_col_name)[zoom_col_name].agg(action).reset_index(name=action)\n",
    "    \n",
    "#     fig = go.Figure(data=go.Choropleth(\n",
    "#     locations = temp_df[state_col_name],\n",
    "#     z=temp_df[action],\n",
    "#     locationmode='USA-states',\n",
    "#     colorscale='Reds',\n",
    "#     autocolorscale=False,\n",
    "\n",
    "#     text = temp_df[state_col_name],\n",
    "\n",
    "#     marker_line_color='black', # line markers between states\n",
    "#     colorbar_title=bar_title\n",
    "#     ))\n",
    "\n",
    "#     fig.update_layout(\n",
    "#         title_text=title+'<br>(Hover for breakdown)',\n",
    "#         geo = dict(\n",
    "#             scope='usa',\n",
    "#             projection=go.layout.geo.Projection(type = 'albers usa'),\n",
    "#             showlakes=True, # lakes\n",
    "#             lakecolor='rgb(255, 255, 255)'),\n",
    "#     )\n",
    "\n",
    "#     fig.show()\n"
   ]
  },
  {
   "cell_type": "code",
   "execution_count": 28,
   "metadata": {},
   "outputs": [],
   "source": [
    "# fig = go.Figure(data=go.Choropleth(\n",
    "#     locations = add_pop['STATE'],\n",
    "#     z=add_pop['Income_Per_Capita'],\n",
    "#     locationmxode='USA-states',\n",
    "#     colorscale='Blues',\n",
    "#     autocolorscale=False,\n",
    "#     text=add_pop['STATE'], # hover text\n",
    "#     marker_line_color='black', # line markers between states\n",
    "#     colorbar_title=\"Income Per Capita\"\n",
    "# ))\n",
    "\n",
    "# fig.update_layout(\n",
    "#     title_text='Charity Income Per Capita by State - IRS<br>(Hover for breakdown)',\n",
    "#     geo = dict(\n",
    "#         scope='usa',\n",
    "#         projection=go.layout.geo.Projection(type = 'albers usa'),\n",
    "#         showlakes=True, # lakes\n",
    "#         lakecolor='rgb(255, 255, 255)'),\n",
    "# )\n",
    "\n",
    "# fig.show()"
   ]
  },
  {
   "cell_type": "code",
   "execution_count": 29,
   "metadata": {},
   "outputs": [],
   "source": [
    "# ## GDP Per Capita DataFrame\n",
    "# gdp_df = pd.read_csv('Data/bea-gdp-by-state.csv')\n",
    "# gdp_df_2017 = gdp_df[['Area','2017']]\n",
    "# gdp_df_2017 = gdp_df_2017.drop(gdp_df_2017.index[0])\n",
    "# gdp_df_2017[\"State\"] = gdp_df_2017[\"Area\"]"
   ]
  },
  {
   "cell_type": "code",
   "execution_count": 30,
   "metadata": {},
   "outputs": [],
   "source": [
    "# ## Merge GDP Per Capita\n",
    "# pop_abbrv = pd.read_csv('Data/states.csv')\n",
    "# GDP_pop_df = pd.merge(gdp_df_2017, pop_abbrv, on='State')\n",
    "# GDP_pop_df[\"STATE\"] = GDP_pop_df[\"Abbreviation\"]\n",
    "# GDP_pop_df = GDP_pop_df.drop(columns=[\"Abbreviation\"])"
   ]
  },
  {
   "cell_type": "code",
   "execution_count": 31,
   "metadata": {},
   "outputs": [],
   "source": [
    "# ## GDP Per Capita DataFrame\n",
    "# gdp_df = pd.read_csv('Data/bea-gdp-by-state.csv')\n",
    "# gdp_df_2017 = gdp_df[['Area','2017']]\n",
    "# gdp_df_2017 = gdp_df_2017.drop(gdp_df_2017.index[0])\n",
    "# gdp_df_2017[\"State\"] = gdp_df_2017[\"Area\"]"
   ]
  },
  {
   "cell_type": "code",
   "execution_count": 32,
   "metadata": {},
   "outputs": [],
   "source": [
    "# ## Merge GDP Per Capita\n",
    "# pop_abbrv = pd.read_csv('Data/states.csv')\n",
    "# GDP_pop_df = pd.merge(gdp_df_2017, pop_abbrv, on='State')\n",
    "# GDP_pop_df[\"STATE\"] = GDP_pop_df[\"Abbreviation\"]\n",
    "# GDP_pop_df = GDP_pop_df.drop(columns=[\"Abbreviation\"])"
   ]
  },
  {
   "cell_type": "code",
   "execution_count": 33,
   "metadata": {},
   "outputs": [],
   "source": [
    "# GDP_pop_df = pd.merge(GDP_pop_df, pop_df, on = \"STATE\")"
   ]
  },
  {
   "cell_type": "code",
   "execution_count": 34,
   "metadata": {},
   "outputs": [],
   "source": [
    "# GDP_pop_df['GDP'] = GDP_pop_df[\"2017\"] * GDP_pop_df['Population']"
   ]
  },
  {
   "cell_type": "code",
   "execution_count": 35,
   "metadata": {},
   "outputs": [],
   "source": [
    "# GDP_pop_df.head()"
   ]
  },
  {
   "cell_type": "code",
   "execution_count": 36,
   "metadata": {},
   "outputs": [],
   "source": [
    "# ##Merge GDP Per Capita with Income\n",
    "# income_df = all_regions_df.groupby(\"STATE\")[\"INCOME_AMT\"].sum().reset_index(name=\"Sum_Income\")\n",
    "# GDP_Income_df = pd.merge(GDP_pop_df, income_df, on = \"STATE\")"
   ]
  },
  {
   "cell_type": "code",
   "execution_count": 37,
   "metadata": {},
   "outputs": [],
   "source": [
    "# ## Adding New Columns of Interest\n",
    "# GDP_Income_df[\"Income_Per_State_GDP\"] = round((GDP_Income_df['Sum_Income'] / GDP_Income_df['GDP']),2)"
   ]
  },
  {
   "cell_type": "code",
   "execution_count": 38,
   "metadata": {},
   "outputs": [],
   "source": [
    "# fig = go.Figure(data=go.Choropleth(\n",
    "#     locations = GDP_Income_df['STATE'],\n",
    "#     z=GDP_Income_df['Income_Per_State_GDP'],\n",
    "#     locationmode='USA-states',\n",
    "#     colorscale='Blues',\n",
    "#     autocolorscale=False,\n",
    "#     text=GDP_Income_df['STATE'], # hover text\n",
    "#     marker_line_color='black', # line markers between states\n",
    "#     colorbar_title=\"Income / State GDP\"\n",
    "# ))\n",
    "\n",
    "# fig.update_layout(\n",
    "#     title_text='Charity Income / State GDP - IRS<br>(Hover for breakdown)',\n",
    "#     geo = dict(\n",
    "#         scope='usa',\n",
    "#         projection=go.layout.geo.Projection(type = 'albers usa'),\n",
    "#         showlakes=True, # lakes\n",
    "#         lakecolor='rgb(255, 255, 255)'),\n",
    "# )\n",
    "\n",
    "# fig.show()"
   ]
  },
  {
   "cell_type": "code",
   "execution_count": 39,
   "metadata": {},
   "outputs": [],
   "source": [
    "# # State Per Capita Bar Graph\n",
    "# state_df_count = GDP_Income_df.groupby(\"STATE\")['Income_Per_State_GDP'].sum()\n",
    "# state_df_count = state_df_count.sort_values(ascending=False).iloc[:10]\n",
    "\n",
    "# states = list(state_df_count.index.values)\n",
    "# freq = freq_array(state_df_count)\n",
    "\n",
    "# fig,ax = plt.subplots(figsize = (20,10))\n",
    "# ax.bar(states,freq, color = \"b\");\n",
    "\n",
    "# ax.set_yticks(np.arange(0,1.01,1));\n",
    "# ax.set_title(\"Charity Income / State GDP (Top 10)\", weight = \"bold\", fontsize = 30);\n",
    "# ax.set_xlabel(\"State\", fontsize=25, weight = \"bold\");\n",
    "# ax.set_ylabel(\"Charity Income / State GDP \", fontsize=25, weight = \"bold\");\n",
    "# ax.set_yticklabels(np.arange(0,1.01,1), weight=\"bold\", fontsize =20) ;\n",
    "# ax.set_xticklabels(states, weight=\"bold\",fontsize=20);\n",
    "\n",
    "# set_labels(freq,ax,.2,.01,c=\"k\",fsize=17);\n",
    "\n",
    "# plt.savefig(\"Inc_Per_Cap_Orgs_Top_10_States\")"
   ]
  },
  {
   "cell_type": "code",
   "execution_count": 40,
   "metadata": {
    "scrolled": true
   },
   "outputs": [],
   "source": [
    "# GDP_Income_df.head()"
   ]
  },
  {
   "cell_type": "code",
   "execution_count": 41,
   "metadata": {},
   "outputs": [],
   "source": [
    "# GDP_pop_df.head()"
   ]
  },
  {
   "cell_type": "code",
   "execution_count": 42,
   "metadata": {},
   "outputs": [],
   "source": [
    "# ##Merge GDP Per Capita with Income\n",
    "# income_df = all_regions_df.groupby(\"STATE\")[\"INCOME_AMT\"].sum().reset_index(name=\"Sum_Income\")\n",
    "# GDP_Income_df = pd.merge(GDP_pop_df, income_df, on = \"STATE\")"
   ]
  },
  {
   "cell_type": "code",
   "execution_count": 43,
   "metadata": {},
   "outputs": [],
   "source": [
    "# ## Adding New Columns of Interest\n",
    "# GDP_Income_df[\"Income_Per_GDP\"] = round((GDP_Income_df['Sum_Income'] / GDP_Income_df['2017']),2)"
   ]
  },
  {
   "cell_type": "code",
   "execution_count": 44,
   "metadata": {
    "scrolled": true
   },
   "outputs": [],
   "source": [
    "# GDP_Income_df.head()"
   ]
  },
  {
   "cell_type": "code",
   "execution_count": 45,
   "metadata": {},
   "outputs": [],
   "source": [
    "# #Consider Adding Charity Names in Hover\n",
    "# heatmap_USA_by_state(\n",
    "#     all_regions_df,'STATE',\"INCOME_AMT\",\"Max Income Charities By State\",\"Max Income\",\"max\"\n",
    "# )"
   ]
  },
  {
   "cell_type": "markdown",
   "metadata": {},
   "source": [
    "# Hypothesis 1: Comparing Regions"
   ]
  },
  {
   "cell_type": "code",
   "execution_count": 46,
   "metadata": {},
   "outputs": [
    {
     "data": {
      "text/html": [
       "<div>\n",
       "<style scoped>\n",
       "    .dataframe tbody tr th:only-of-type {\n",
       "        vertical-align: middle;\n",
       "    }\n",
       "\n",
       "    .dataframe tbody tr th {\n",
       "        vertical-align: top;\n",
       "    }\n",
       "\n",
       "    .dataframe thead th {\n",
       "        text-align: right;\n",
       "    }\n",
       "</style>\n",
       "<table border=\"1\" class=\"dataframe\">\n",
       "  <thead>\n",
       "    <tr style=\"text-align: right;\">\n",
       "      <th></th>\n",
       "      <th>EIN</th>\n",
       "      <th>NAME</th>\n",
       "      <th>ICO</th>\n",
       "      <th>STREET</th>\n",
       "      <th>CITY</th>\n",
       "      <th>STATE</th>\n",
       "      <th>ZIP</th>\n",
       "      <th>GROUP</th>\n",
       "      <th>SUBSECTION</th>\n",
       "      <th>AFFILIATION</th>\n",
       "      <th>...</th>\n",
       "      <th>ASSET_CD</th>\n",
       "      <th>INCOME_CD</th>\n",
       "      <th>FILING_REQ_CD</th>\n",
       "      <th>PF_FILING_REQ_CD</th>\n",
       "      <th>ACCT_PD</th>\n",
       "      <th>ASSET_AMT</th>\n",
       "      <th>INCOME_AMT</th>\n",
       "      <th>REVENUE_AMT</th>\n",
       "      <th>NTEE_CD</th>\n",
       "      <th>SORT_NAME</th>\n",
       "    </tr>\n",
       "  </thead>\n",
       "  <tbody>\n",
       "    <tr>\n",
       "      <th>0</th>\n",
       "      <td>19818</td>\n",
       "      <td>PALMER SECOND BAPTIST CHURCH</td>\n",
       "      <td>NaN</td>\n",
       "      <td>1050 THORNDIKE ST</td>\n",
       "      <td>PALMER</td>\n",
       "      <td>MA</td>\n",
       "      <td>01069-1507</td>\n",
       "      <td>3125</td>\n",
       "      <td>3</td>\n",
       "      <td>9</td>\n",
       "      <td>...</td>\n",
       "      <td>0</td>\n",
       "      <td>0</td>\n",
       "      <td>6</td>\n",
       "      <td>0</td>\n",
       "      <td>12</td>\n",
       "      <td>NaN</td>\n",
       "      <td>NaN</td>\n",
       "      <td>NaN</td>\n",
       "      <td>NaN</td>\n",
       "      <td>3514</td>\n",
       "    </tr>\n",
       "    <tr>\n",
       "      <th>1</th>\n",
       "      <td>29215</td>\n",
       "      <td>ST GEORGE CATHEDRAL</td>\n",
       "      <td>NaN</td>\n",
       "      <td>523 E BROADWAY</td>\n",
       "      <td>SOUTH BOSTON</td>\n",
       "      <td>MA</td>\n",
       "      <td>02127-4415</td>\n",
       "      <td>2365</td>\n",
       "      <td>3</td>\n",
       "      <td>9</td>\n",
       "      <td>...</td>\n",
       "      <td>0</td>\n",
       "      <td>0</td>\n",
       "      <td>6</td>\n",
       "      <td>0</td>\n",
       "      <td>12</td>\n",
       "      <td>NaN</td>\n",
       "      <td>NaN</td>\n",
       "      <td>NaN</td>\n",
       "      <td>NaN</td>\n",
       "      <td>NaN</td>\n",
       "    </tr>\n",
       "    <tr>\n",
       "      <th>2</th>\n",
       "      <td>587764</td>\n",
       "      <td>IGLESIA BETHESDA INC</td>\n",
       "      <td>NaN</td>\n",
       "      <td>157 ANDOVER ST</td>\n",
       "      <td>LOWELL</td>\n",
       "      <td>MA</td>\n",
       "      <td>01852-2348</td>\n",
       "      <td>0</td>\n",
       "      <td>3</td>\n",
       "      <td>3</td>\n",
       "      <td>...</td>\n",
       "      <td>0</td>\n",
       "      <td>0</td>\n",
       "      <td>6</td>\n",
       "      <td>0</td>\n",
       "      <td>12</td>\n",
       "      <td>NaN</td>\n",
       "      <td>NaN</td>\n",
       "      <td>NaN</td>\n",
       "      <td>X21</td>\n",
       "      <td>NaN</td>\n",
       "    </tr>\n",
       "    <tr>\n",
       "      <th>3</th>\n",
       "      <td>635913</td>\n",
       "      <td>MINISTERIO APOSTOLICO JESUCRISTO ES EL SENOR INC</td>\n",
       "      <td>NaN</td>\n",
       "      <td>454 ESSEX ST</td>\n",
       "      <td>LAWRENCE</td>\n",
       "      <td>MA</td>\n",
       "      <td>01840-1242</td>\n",
       "      <td>0</td>\n",
       "      <td>3</td>\n",
       "      <td>3</td>\n",
       "      <td>...</td>\n",
       "      <td>0</td>\n",
       "      <td>0</td>\n",
       "      <td>6</td>\n",
       "      <td>0</td>\n",
       "      <td>12</td>\n",
       "      <td>NaN</td>\n",
       "      <td>NaN</td>\n",
       "      <td>NaN</td>\n",
       "      <td>X21</td>\n",
       "      <td>NaN</td>\n",
       "    </tr>\n",
       "    <tr>\n",
       "      <th>4</th>\n",
       "      <td>765634</td>\n",
       "      <td>MERCY CHAPEL INTERNATIONAL</td>\n",
       "      <td>NaN</td>\n",
       "      <td>75 MORTON VILLAGE DR APT 408</td>\n",
       "      <td>MATTAPAN</td>\n",
       "      <td>MA</td>\n",
       "      <td>02126-2433</td>\n",
       "      <td>0</td>\n",
       "      <td>3</td>\n",
       "      <td>3</td>\n",
       "      <td>...</td>\n",
       "      <td>0</td>\n",
       "      <td>0</td>\n",
       "      <td>6</td>\n",
       "      <td>0</td>\n",
       "      <td>12</td>\n",
       "      <td>NaN</td>\n",
       "      <td>NaN</td>\n",
       "      <td>NaN</td>\n",
       "      <td>X20</td>\n",
       "      <td>NaN</td>\n",
       "    </tr>\n",
       "  </tbody>\n",
       "</table>\n",
       "<p>5 rows × 28 columns</p>\n",
       "</div>"
      ],
      "text/plain": [
       "      EIN                                              NAME  ICO  \\\n",
       "0   19818                      PALMER SECOND BAPTIST CHURCH  NaN   \n",
       "1   29215                               ST GEORGE CATHEDRAL  NaN   \n",
       "2  587764                              IGLESIA BETHESDA INC  NaN   \n",
       "3  635913  MINISTERIO APOSTOLICO JESUCRISTO ES EL SENOR INC  NaN   \n",
       "4  765634                        MERCY CHAPEL INTERNATIONAL  NaN   \n",
       "\n",
       "                         STREET          CITY STATE         ZIP  GROUP  \\\n",
       "0             1050 THORNDIKE ST        PALMER    MA  01069-1507   3125   \n",
       "1                523 E BROADWAY  SOUTH BOSTON    MA  02127-4415   2365   \n",
       "2                157 ANDOVER ST        LOWELL    MA  01852-2348      0   \n",
       "3                  454 ESSEX ST      LAWRENCE    MA  01840-1242      0   \n",
       "4  75 MORTON VILLAGE DR APT 408      MATTAPAN    MA  02126-2433      0   \n",
       "\n",
       "   SUBSECTION  AFFILIATION  ...  ASSET_CD  INCOME_CD  FILING_REQ_CD  \\\n",
       "0           3            9  ...         0          0              6   \n",
       "1           3            9  ...         0          0              6   \n",
       "2           3            3  ...         0          0              6   \n",
       "3           3            3  ...         0          0              6   \n",
       "4           3            3  ...         0          0              6   \n",
       "\n",
       "   PF_FILING_REQ_CD  ACCT_PD  ASSET_AMT  INCOME_AMT  REVENUE_AMT  NTEE_CD  \\\n",
       "0                 0       12        NaN         NaN          NaN      NaN   \n",
       "1                 0       12        NaN         NaN          NaN      NaN   \n",
       "2                 0       12        NaN         NaN          NaN      X21   \n",
       "3                 0       12        NaN         NaN          NaN      X21   \n",
       "4                 0       12        NaN         NaN          NaN      X20   \n",
       "\n",
       "   SORT_NAME  \n",
       "0       3514  \n",
       "1        NaN  \n",
       "2        NaN  \n",
       "3        NaN  \n",
       "4        NaN  \n",
       "\n",
       "[5 rows x 28 columns]"
      ]
     },
     "execution_count": 46,
     "metadata": {},
     "output_type": "execute_result"
    }
   ],
   "source": [
    "region1_df.head()\n"
   ]
  },
  {
   "cell_type": "code",
   "execution_count": 47,
   "metadata": {},
   "outputs": [
    {
     "data": {
      "text/html": [
       "<div>\n",
       "<style scoped>\n",
       "    .dataframe tbody tr th:only-of-type {\n",
       "        vertical-align: middle;\n",
       "    }\n",
       "\n",
       "    .dataframe tbody tr th {\n",
       "        vertical-align: top;\n",
       "    }\n",
       "\n",
       "    .dataframe thead th {\n",
       "        text-align: right;\n",
       "    }\n",
       "</style>\n",
       "<table border=\"1\" class=\"dataframe\">\n",
       "  <thead>\n",
       "    <tr style=\"text-align: right;\">\n",
       "      <th></th>\n",
       "      <th>EIN</th>\n",
       "      <th>NAME</th>\n",
       "      <th>ICO</th>\n",
       "      <th>STREET</th>\n",
       "      <th>CITY</th>\n",
       "      <th>STATE</th>\n",
       "      <th>ZIP</th>\n",
       "      <th>GROUP</th>\n",
       "      <th>SUBSECTION</th>\n",
       "      <th>AFFILIATION</th>\n",
       "      <th>...</th>\n",
       "      <th>ASSET_CD</th>\n",
       "      <th>INCOME_CD</th>\n",
       "      <th>FILING_REQ_CD</th>\n",
       "      <th>PF_FILING_REQ_CD</th>\n",
       "      <th>ACCT_PD</th>\n",
       "      <th>ASSET_AMT</th>\n",
       "      <th>INCOME_AMT</th>\n",
       "      <th>REVENUE_AMT</th>\n",
       "      <th>NTEE_CD</th>\n",
       "      <th>SORT_NAME</th>\n",
       "    </tr>\n",
       "  </thead>\n",
       "  <tbody>\n",
       "    <tr>\n",
       "      <th>0</th>\n",
       "      <td>2120849</td>\n",
       "      <td>ANCILLA DOMINI SISTERS INC</td>\n",
       "      <td>NaN</td>\n",
       "      <td>LOCAL</td>\n",
       "      <td>DONALDSON</td>\n",
       "      <td>IN</td>\n",
       "      <td>46513-0000</td>\n",
       "      <td>928</td>\n",
       "      <td>3</td>\n",
       "      <td>9</td>\n",
       "      <td>...</td>\n",
       "      <td>0</td>\n",
       "      <td>0</td>\n",
       "      <td>6</td>\n",
       "      <td>0</td>\n",
       "      <td>12</td>\n",
       "      <td>NaN</td>\n",
       "      <td>NaN</td>\n",
       "      <td>NaN</td>\n",
       "      <td>NaN</td>\n",
       "      <td>NaN</td>\n",
       "    </tr>\n",
       "    <tr>\n",
       "      <th>1</th>\n",
       "      <td>10036381</td>\n",
       "      <td>DISABLED AMERICAN VETERANS</td>\n",
       "      <td>% BILLIENITA CARDONA</td>\n",
       "      <td>15623 S CENTERLINE RD</td>\n",
       "      <td>RUDYARD</td>\n",
       "      <td>MI</td>\n",
       "      <td>49780-9349</td>\n",
       "      <td>557</td>\n",
       "      <td>4</td>\n",
       "      <td>9</td>\n",
       "      <td>...</td>\n",
       "      <td>0</td>\n",
       "      <td>0</td>\n",
       "      <td>2</td>\n",
       "      <td>0</td>\n",
       "      <td>6</td>\n",
       "      <td>0.0</td>\n",
       "      <td>0.0</td>\n",
       "      <td>0.0</td>\n",
       "      <td>NaN</td>\n",
       "      <td>93 STRAITS</td>\n",
       "    </tr>\n",
       "    <tr>\n",
       "      <th>2</th>\n",
       "      <td>10060379</td>\n",
       "      <td>HEALING AND DELIVERANCE MINISTRY INC</td>\n",
       "      <td>NaN</td>\n",
       "      <td>14103 BYRNE PARK DR</td>\n",
       "      <td>CLARKSBURG</td>\n",
       "      <td>MD</td>\n",
       "      <td>20871-6337</td>\n",
       "      <td>0</td>\n",
       "      <td>3</td>\n",
       "      <td>3</td>\n",
       "      <td>...</td>\n",
       "      <td>0</td>\n",
       "      <td>0</td>\n",
       "      <td>6</td>\n",
       "      <td>0</td>\n",
       "      <td>12</td>\n",
       "      <td>NaN</td>\n",
       "      <td>NaN</td>\n",
       "      <td>NaN</td>\n",
       "      <td>X20</td>\n",
       "      <td>NaN</td>\n",
       "    </tr>\n",
       "    <tr>\n",
       "      <th>3</th>\n",
       "      <td>10123106</td>\n",
       "      <td>MORNING STAR BAPTIST CHURCH</td>\n",
       "      <td>NaN</td>\n",
       "      <td>3204 BROTHERS PL SE</td>\n",
       "      <td>WASHINGTON</td>\n",
       "      <td>DC</td>\n",
       "      <td>20032-1501</td>\n",
       "      <td>1961</td>\n",
       "      <td>3</td>\n",
       "      <td>9</td>\n",
       "      <td>...</td>\n",
       "      <td>0</td>\n",
       "      <td>0</td>\n",
       "      <td>6</td>\n",
       "      <td>0</td>\n",
       "      <td>12</td>\n",
       "      <td>NaN</td>\n",
       "      <td>NaN</td>\n",
       "      <td>NaN</td>\n",
       "      <td>NaN</td>\n",
       "      <td>NaN</td>\n",
       "    </tr>\n",
       "    <tr>\n",
       "      <th>4</th>\n",
       "      <td>10158948</td>\n",
       "      <td>SIGMA KAPPA SORORITY</td>\n",
       "      <td>% NATIONAL HEADQUARTERS</td>\n",
       "      <td>695 PRO-MED LN STE 300</td>\n",
       "      <td>CARMEL</td>\n",
       "      <td>IN</td>\n",
       "      <td>46032-5331</td>\n",
       "      <td>594</td>\n",
       "      <td>7</td>\n",
       "      <td>6</td>\n",
       "      <td>...</td>\n",
       "      <td>8</td>\n",
       "      <td>7</td>\n",
       "      <td>1</td>\n",
       "      <td>0</td>\n",
       "      <td>5</td>\n",
       "      <td>10360714.0</td>\n",
       "      <td>6808224.0</td>\n",
       "      <td>4862977.0</td>\n",
       "      <td>NaN</td>\n",
       "      <td>NaN</td>\n",
       "    </tr>\n",
       "  </tbody>\n",
       "</table>\n",
       "<p>5 rows × 28 columns</p>\n",
       "</div>"
      ],
      "text/plain": [
       "        EIN                                  NAME                      ICO  \\\n",
       "0   2120849            ANCILLA DOMINI SISTERS INC                      NaN   \n",
       "1  10036381            DISABLED AMERICAN VETERANS     % BILLIENITA CARDONA   \n",
       "2  10060379  HEALING AND DELIVERANCE MINISTRY INC                      NaN   \n",
       "3  10123106           MORNING STAR BAPTIST CHURCH                      NaN   \n",
       "4  10158948                  SIGMA KAPPA SORORITY  % NATIONAL HEADQUARTERS   \n",
       "\n",
       "                   STREET        CITY STATE         ZIP  GROUP  SUBSECTION  \\\n",
       "0                   LOCAL   DONALDSON    IN  46513-0000    928           3   \n",
       "1   15623 S CENTERLINE RD     RUDYARD    MI  49780-9349    557           4   \n",
       "2     14103 BYRNE PARK DR  CLARKSBURG    MD  20871-6337      0           3   \n",
       "3     3204 BROTHERS PL SE  WASHINGTON    DC  20032-1501   1961           3   \n",
       "4  695 PRO-MED LN STE 300      CARMEL    IN  46032-5331    594           7   \n",
       "\n",
       "   AFFILIATION  ...  ASSET_CD  INCOME_CD  FILING_REQ_CD  PF_FILING_REQ_CD  \\\n",
       "0            9  ...         0          0              6                 0   \n",
       "1            9  ...         0          0              2                 0   \n",
       "2            3  ...         0          0              6                 0   \n",
       "3            9  ...         0          0              6                 0   \n",
       "4            6  ...         8          7              1                 0   \n",
       "\n",
       "   ACCT_PD   ASSET_AMT  INCOME_AMT  REVENUE_AMT  NTEE_CD   SORT_NAME  \n",
       "0       12         NaN         NaN          NaN      NaN         NaN  \n",
       "1        6         0.0         0.0          0.0      NaN  93 STRAITS  \n",
       "2       12         NaN         NaN          NaN      X20         NaN  \n",
       "3       12         NaN         NaN          NaN      NaN         NaN  \n",
       "4        5  10360714.0   6808224.0    4862977.0      NaN         NaN  \n",
       "\n",
       "[5 rows x 28 columns]"
      ]
     },
     "execution_count": 47,
     "metadata": {},
     "output_type": "execute_result"
    }
   ],
   "source": [
    "region2_df.head()\n"
   ]
  },
  {
   "cell_type": "code",
   "execution_count": 48,
   "metadata": {},
   "outputs": [
    {
     "data": {
      "text/html": [
       "<div>\n",
       "<style scoped>\n",
       "    .dataframe tbody tr th:only-of-type {\n",
       "        vertical-align: middle;\n",
       "    }\n",
       "\n",
       "    .dataframe tbody tr th {\n",
       "        vertical-align: top;\n",
       "    }\n",
       "\n",
       "    .dataframe thead th {\n",
       "        text-align: right;\n",
       "    }\n",
       "</style>\n",
       "<table border=\"1\" class=\"dataframe\">\n",
       "  <thead>\n",
       "    <tr style=\"text-align: right;\">\n",
       "      <th></th>\n",
       "      <th>EIN</th>\n",
       "      <th>NAME</th>\n",
       "      <th>ICO</th>\n",
       "      <th>STREET</th>\n",
       "      <th>CITY</th>\n",
       "      <th>STATE</th>\n",
       "      <th>ZIP</th>\n",
       "      <th>GROUP</th>\n",
       "      <th>SUBSECTION</th>\n",
       "      <th>AFFILIATION</th>\n",
       "      <th>...</th>\n",
       "      <th>ASSET_CD</th>\n",
       "      <th>INCOME_CD</th>\n",
       "      <th>FILING_REQ_CD</th>\n",
       "      <th>PF_FILING_REQ_CD</th>\n",
       "      <th>ACCT_PD</th>\n",
       "      <th>ASSET_AMT</th>\n",
       "      <th>INCOME_AMT</th>\n",
       "      <th>REVENUE_AMT</th>\n",
       "      <th>NTEE_CD</th>\n",
       "      <th>SORT_NAME</th>\n",
       "    </tr>\n",
       "  </thead>\n",
       "  <tbody>\n",
       "    <tr>\n",
       "      <th>0</th>\n",
       "      <td>260049</td>\n",
       "      <td>CORINTH BAPTIST CHURCH</td>\n",
       "      <td>NaN</td>\n",
       "      <td>PO BOX 92</td>\n",
       "      <td>HOSFORD</td>\n",
       "      <td>FL</td>\n",
       "      <td>32334-0092</td>\n",
       "      <td>2024</td>\n",
       "      <td>3</td>\n",
       "      <td>9</td>\n",
       "      <td>...</td>\n",
       "      <td>0</td>\n",
       "      <td>0</td>\n",
       "      <td>6</td>\n",
       "      <td>0</td>\n",
       "      <td>12</td>\n",
       "      <td>NaN</td>\n",
       "      <td>NaN</td>\n",
       "      <td>NaN</td>\n",
       "      <td>NaN</td>\n",
       "      <td>NaN</td>\n",
       "    </tr>\n",
       "    <tr>\n",
       "      <th>1</th>\n",
       "      <td>360268</td>\n",
       "      <td>IGLESIA VICTORIA</td>\n",
       "      <td>NaN</td>\n",
       "      <td>1445 N BOONVILLE AVE</td>\n",
       "      <td>SPRINGFIELD</td>\n",
       "      <td>MO</td>\n",
       "      <td>65802-1894</td>\n",
       "      <td>1678</td>\n",
       "      <td>3</td>\n",
       "      <td>9</td>\n",
       "      <td>...</td>\n",
       "      <td>0</td>\n",
       "      <td>0</td>\n",
       "      <td>6</td>\n",
       "      <td>0</td>\n",
       "      <td>12</td>\n",
       "      <td>NaN</td>\n",
       "      <td>NaN</td>\n",
       "      <td>NaN</td>\n",
       "      <td>NaN</td>\n",
       "      <td>NaN</td>\n",
       "    </tr>\n",
       "    <tr>\n",
       "      <th>2</th>\n",
       "      <td>490336</td>\n",
       "      <td>EASTSIDE BAPTIST CHURCH</td>\n",
       "      <td>NaN</td>\n",
       "      <td>PO BOX 296</td>\n",
       "      <td>LABELLE</td>\n",
       "      <td>FL</td>\n",
       "      <td>33975-0296</td>\n",
       "      <td>2024</td>\n",
       "      <td>3</td>\n",
       "      <td>9</td>\n",
       "      <td>...</td>\n",
       "      <td>0</td>\n",
       "      <td>0</td>\n",
       "      <td>6</td>\n",
       "      <td>0</td>\n",
       "      <td>12</td>\n",
       "      <td>NaN</td>\n",
       "      <td>NaN</td>\n",
       "      <td>NaN</td>\n",
       "      <td>NaN</td>\n",
       "      <td>NaN</td>\n",
       "    </tr>\n",
       "    <tr>\n",
       "      <th>3</th>\n",
       "      <td>2296179</td>\n",
       "      <td>RELIGIOUS SCIENCE CHURCH CENTER OF SAN DIEGO</td>\n",
       "      <td>NaN</td>\n",
       "      <td>4102 MARLBOROUGH</td>\n",
       "      <td>SAN DIEGO</td>\n",
       "      <td>CA</td>\n",
       "      <td>92105-1462</td>\n",
       "      <td>0</td>\n",
       "      <td>3</td>\n",
       "      <td>3</td>\n",
       "      <td>...</td>\n",
       "      <td>0</td>\n",
       "      <td>0</td>\n",
       "      <td>6</td>\n",
       "      <td>0</td>\n",
       "      <td>3</td>\n",
       "      <td>NaN</td>\n",
       "      <td>NaN</td>\n",
       "      <td>NaN</td>\n",
       "      <td>NaN</td>\n",
       "      <td>NaN</td>\n",
       "    </tr>\n",
       "    <tr>\n",
       "      <th>4</th>\n",
       "      <td>3140260</td>\n",
       "      <td>PILGRIM BAPTIST CHURCH</td>\n",
       "      <td>NaN</td>\n",
       "      <td>31123 MISSION BLVD STE 205</td>\n",
       "      <td>HAYWARD</td>\n",
       "      <td>CA</td>\n",
       "      <td>94544-7617</td>\n",
       "      <td>3125</td>\n",
       "      <td>3</td>\n",
       "      <td>9</td>\n",
       "      <td>...</td>\n",
       "      <td>0</td>\n",
       "      <td>0</td>\n",
       "      <td>6</td>\n",
       "      <td>0</td>\n",
       "      <td>12</td>\n",
       "      <td>NaN</td>\n",
       "      <td>NaN</td>\n",
       "      <td>NaN</td>\n",
       "      <td>NaN</td>\n",
       "      <td>1910</td>\n",
       "    </tr>\n",
       "  </tbody>\n",
       "</table>\n",
       "<p>5 rows × 28 columns</p>\n",
       "</div>"
      ],
      "text/plain": [
       "       EIN                                          NAME  ICO  \\\n",
       "0   260049                        CORINTH BAPTIST CHURCH  NaN   \n",
       "1   360268                              IGLESIA VICTORIA  NaN   \n",
       "2   490336                       EASTSIDE BAPTIST CHURCH  NaN   \n",
       "3  2296179  RELIGIOUS SCIENCE CHURCH CENTER OF SAN DIEGO  NaN   \n",
       "4  3140260                        PILGRIM BAPTIST CHURCH  NaN   \n",
       "\n",
       "                       STREET         CITY STATE         ZIP  GROUP  \\\n",
       "0                   PO BOX 92      HOSFORD    FL  32334-0092   2024   \n",
       "1        1445 N BOONVILLE AVE  SPRINGFIELD    MO  65802-1894   1678   \n",
       "2                  PO BOX 296      LABELLE    FL  33975-0296   2024   \n",
       "3            4102 MARLBOROUGH    SAN DIEGO    CA  92105-1462      0   \n",
       "4  31123 MISSION BLVD STE 205      HAYWARD    CA  94544-7617   3125   \n",
       "\n",
       "   SUBSECTION  AFFILIATION  ...  ASSET_CD  INCOME_CD  FILING_REQ_CD  \\\n",
       "0           3            9  ...         0          0              6   \n",
       "1           3            9  ...         0          0              6   \n",
       "2           3            9  ...         0          0              6   \n",
       "3           3            3  ...         0          0              6   \n",
       "4           3            9  ...         0          0              6   \n",
       "\n",
       "   PF_FILING_REQ_CD  ACCT_PD  ASSET_AMT  INCOME_AMT  REVENUE_AMT  NTEE_CD  \\\n",
       "0                 0       12        NaN         NaN          NaN      NaN   \n",
       "1                 0       12        NaN         NaN          NaN      NaN   \n",
       "2                 0       12        NaN         NaN          NaN      NaN   \n",
       "3                 0        3        NaN         NaN          NaN      NaN   \n",
       "4                 0       12        NaN         NaN          NaN      NaN   \n",
       "\n",
       "   SORT_NAME  \n",
       "0        NaN  \n",
       "1        NaN  \n",
       "2        NaN  \n",
       "3        NaN  \n",
       "4       1910  \n",
       "\n",
       "[5 rows x 28 columns]"
      ]
     },
     "execution_count": 48,
     "metadata": {},
     "output_type": "execute_result"
    }
   ],
   "source": [
    "region3_df.head()"
   ]
  },
  {
   "cell_type": "code",
   "execution_count": 49,
   "metadata": {},
   "outputs": [
    {
     "data": {
      "text/plain": [
       "902730096889.0"
      ]
     },
     "execution_count": 49,
     "metadata": {},
     "output_type": "execute_result"
    }
   ],
   "source": [
    "region1_df[\"INCOME_AMT\"].sum()"
   ]
  },
  {
   "cell_type": "code",
   "execution_count": 50,
   "metadata": {},
   "outputs": [
    {
     "data": {
      "text/plain": [
       "1671086284814.0"
      ]
     },
     "execution_count": 50,
     "metadata": {},
     "output_type": "execute_result"
    }
   ],
   "source": [
    "region2_df[\"INCOME_AMT\"].sum()"
   ]
  },
  {
   "cell_type": "code",
   "execution_count": 51,
   "metadata": {},
   "outputs": [
    {
     "data": {
      "text/plain": [
       "1648126520802.0"
      ]
     },
     "execution_count": 51,
     "metadata": {},
     "output_type": "execute_result"
    }
   ],
   "source": [
    "region3_df[\"INCOME_AMT\"].sum()"
   ]
  },
  {
   "cell_type": "code",
   "execution_count": null,
   "metadata": {},
   "outputs": [],
   "source": []
  }
 ],
 "metadata": {
  "kernelspec": {
   "display_name": "Python 3",
   "language": "python",
   "name": "python3"
  },
  "language_info": {
   "codemirror_mode": {
    "name": "ipython",
    "version": 3
   },
   "file_extension": ".py",
   "mimetype": "text/x-python",
   "name": "python",
   "nbconvert_exporter": "python",
   "pygments_lexer": "ipython3",
   "version": "3.7.3"
  }
 },
 "nbformat": 4,
 "nbformat_minor": 2
}
