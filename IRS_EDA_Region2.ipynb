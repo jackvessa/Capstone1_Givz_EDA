{
 "cells": [
  {
   "cell_type": "code",
   "execution_count": 4,
   "metadata": {},
   "outputs": [],
   "source": [
    "#Imports\n",
    "import numpy as np\n",
    "import pandas as pd\n",
    "import random\n",
    "import scipy.stats as stats\n",
    "import matplotlib.pyplot as plt\n",
    "plt.style.use(\"ggplot\")"
   ]
  },
  {
   "cell_type": "code",
   "execution_count": 8,
   "metadata": {},
   "outputs": [],
   "source": [
    "#Methods\n",
    "def sort_db_value(db,value,asc=False):\n",
    "    return db.sort_values(by = value, ascending = asc)\n",
    "\n",
    "def freq_array(freq_list):\n",
    "    freq = []\n",
    "    for i in freq_list:\n",
    "        freq.append(i)\n",
    "    return freq\n",
    "\n",
    "def set_labels(freq, ax,horz_shift=.2,vert_shift=1000):\n",
    "    for i, v in enumerate(freq):\n",
    "        ax.text(i-horz_shift,v+vert_shift, str(round(v,2)), weight = \"bold\")"
   ]
  },
  {
   "cell_type": "code",
   "execution_count": 6,
   "metadata": {},
   "outputs": [],
   "source": [
    "irs_db_region2 = pd.read_csv('Data/eo2.csv')"
   ]
  },
  {
   "cell_type": "code",
   "execution_count": 7,
   "metadata": {},
   "outputs": [
    {
     "data": {
      "text/html": [
       "<div>\n",
       "<style scoped>\n",
       "    .dataframe tbody tr th:only-of-type {\n",
       "        vertical-align: middle;\n",
       "    }\n",
       "\n",
       "    .dataframe tbody tr th {\n",
       "        vertical-align: top;\n",
       "    }\n",
       "\n",
       "    .dataframe thead th {\n",
       "        text-align: right;\n",
       "    }\n",
       "</style>\n",
       "<table border=\"1\" class=\"dataframe\">\n",
       "  <thead>\n",
       "    <tr style=\"text-align: right;\">\n",
       "      <th></th>\n",
       "      <th>EIN</th>\n",
       "      <th>NAME</th>\n",
       "      <th>ICO</th>\n",
       "      <th>STREET</th>\n",
       "      <th>CITY</th>\n",
       "      <th>STATE</th>\n",
       "      <th>ZIP</th>\n",
       "      <th>GROUP</th>\n",
       "      <th>SUBSECTION</th>\n",
       "      <th>AFFILIATION</th>\n",
       "      <th>...</th>\n",
       "      <th>ASSET_CD</th>\n",
       "      <th>INCOME_CD</th>\n",
       "      <th>FILING_REQ_CD</th>\n",
       "      <th>PF_FILING_REQ_CD</th>\n",
       "      <th>ACCT_PD</th>\n",
       "      <th>ASSET_AMT</th>\n",
       "      <th>INCOME_AMT</th>\n",
       "      <th>REVENUE_AMT</th>\n",
       "      <th>NTEE_CD</th>\n",
       "      <th>SORT_NAME</th>\n",
       "    </tr>\n",
       "  </thead>\n",
       "  <tbody>\n",
       "    <tr>\n",
       "      <th>0</th>\n",
       "      <td>2120849</td>\n",
       "      <td>ANCILLA DOMINI SISTERS INC</td>\n",
       "      <td>NaN</td>\n",
       "      <td>LOCAL</td>\n",
       "      <td>DONALDSON</td>\n",
       "      <td>IN</td>\n",
       "      <td>46513-0000</td>\n",
       "      <td>928</td>\n",
       "      <td>3</td>\n",
       "      <td>9</td>\n",
       "      <td>...</td>\n",
       "      <td>0</td>\n",
       "      <td>0</td>\n",
       "      <td>6</td>\n",
       "      <td>0</td>\n",
       "      <td>12</td>\n",
       "      <td>NaN</td>\n",
       "      <td>NaN</td>\n",
       "      <td>NaN</td>\n",
       "      <td>NaN</td>\n",
       "      <td>NaN</td>\n",
       "    </tr>\n",
       "    <tr>\n",
       "      <th>1</th>\n",
       "      <td>10036381</td>\n",
       "      <td>DISABLED AMERICAN VETERANS</td>\n",
       "      <td>% BILLIENITA CARDONA</td>\n",
       "      <td>15623 S CENTERLINE RD</td>\n",
       "      <td>RUDYARD</td>\n",
       "      <td>MI</td>\n",
       "      <td>49780-9349</td>\n",
       "      <td>557</td>\n",
       "      <td>4</td>\n",
       "      <td>9</td>\n",
       "      <td>...</td>\n",
       "      <td>0</td>\n",
       "      <td>0</td>\n",
       "      <td>2</td>\n",
       "      <td>0</td>\n",
       "      <td>6</td>\n",
       "      <td>0.0</td>\n",
       "      <td>0.0</td>\n",
       "      <td>0.0</td>\n",
       "      <td>NaN</td>\n",
       "      <td>93 STRAITS</td>\n",
       "    </tr>\n",
       "    <tr>\n",
       "      <th>2</th>\n",
       "      <td>10060379</td>\n",
       "      <td>HEALING AND DELIVERANCE MINISTRY INC</td>\n",
       "      <td>NaN</td>\n",
       "      <td>14103 BYRNE PARK DR</td>\n",
       "      <td>CLARKSBURG</td>\n",
       "      <td>MD</td>\n",
       "      <td>20871-6337</td>\n",
       "      <td>0</td>\n",
       "      <td>3</td>\n",
       "      <td>3</td>\n",
       "      <td>...</td>\n",
       "      <td>0</td>\n",
       "      <td>0</td>\n",
       "      <td>6</td>\n",
       "      <td>0</td>\n",
       "      <td>12</td>\n",
       "      <td>NaN</td>\n",
       "      <td>NaN</td>\n",
       "      <td>NaN</td>\n",
       "      <td>X20</td>\n",
       "      <td>NaN</td>\n",
       "    </tr>\n",
       "    <tr>\n",
       "      <th>3</th>\n",
       "      <td>10123106</td>\n",
       "      <td>MORNING STAR BAPTIST CHURCH</td>\n",
       "      <td>NaN</td>\n",
       "      <td>3204 BROTHERS PL SE</td>\n",
       "      <td>WASHINGTON</td>\n",
       "      <td>DC</td>\n",
       "      <td>20032-1501</td>\n",
       "      <td>1961</td>\n",
       "      <td>3</td>\n",
       "      <td>9</td>\n",
       "      <td>...</td>\n",
       "      <td>0</td>\n",
       "      <td>0</td>\n",
       "      <td>6</td>\n",
       "      <td>0</td>\n",
       "      <td>12</td>\n",
       "      <td>NaN</td>\n",
       "      <td>NaN</td>\n",
       "      <td>NaN</td>\n",
       "      <td>NaN</td>\n",
       "      <td>NaN</td>\n",
       "    </tr>\n",
       "    <tr>\n",
       "      <th>4</th>\n",
       "      <td>10158948</td>\n",
       "      <td>SIGMA KAPPA SORORITY</td>\n",
       "      <td>% NATIONAL HEADQUARTERS</td>\n",
       "      <td>695 PRO-MED LN STE 300</td>\n",
       "      <td>CARMEL</td>\n",
       "      <td>IN</td>\n",
       "      <td>46032-5331</td>\n",
       "      <td>594</td>\n",
       "      <td>7</td>\n",
       "      <td>6</td>\n",
       "      <td>...</td>\n",
       "      <td>8</td>\n",
       "      <td>7</td>\n",
       "      <td>1</td>\n",
       "      <td>0</td>\n",
       "      <td>5</td>\n",
       "      <td>10360714.0</td>\n",
       "      <td>6808224.0</td>\n",
       "      <td>4862977.0</td>\n",
       "      <td>NaN</td>\n",
       "      <td>NaN</td>\n",
       "    </tr>\n",
       "  </tbody>\n",
       "</table>\n",
       "<p>5 rows × 28 columns</p>\n",
       "</div>"
      ],
      "text/plain": [
       "        EIN                                  NAME                      ICO  \\\n",
       "0   2120849            ANCILLA DOMINI SISTERS INC                      NaN   \n",
       "1  10036381            DISABLED AMERICAN VETERANS     % BILLIENITA CARDONA   \n",
       "2  10060379  HEALING AND DELIVERANCE MINISTRY INC                      NaN   \n",
       "3  10123106           MORNING STAR BAPTIST CHURCH                      NaN   \n",
       "4  10158948                  SIGMA KAPPA SORORITY  % NATIONAL HEADQUARTERS   \n",
       "\n",
       "                   STREET        CITY STATE         ZIP  GROUP  SUBSECTION  \\\n",
       "0                   LOCAL   DONALDSON    IN  46513-0000    928           3   \n",
       "1   15623 S CENTERLINE RD     RUDYARD    MI  49780-9349    557           4   \n",
       "2     14103 BYRNE PARK DR  CLARKSBURG    MD  20871-6337      0           3   \n",
       "3     3204 BROTHERS PL SE  WASHINGTON    DC  20032-1501   1961           3   \n",
       "4  695 PRO-MED LN STE 300      CARMEL    IN  46032-5331    594           7   \n",
       "\n",
       "   AFFILIATION  ...  ASSET_CD  INCOME_CD  FILING_REQ_CD  PF_FILING_REQ_CD  \\\n",
       "0            9  ...         0          0              6                 0   \n",
       "1            9  ...         0          0              2                 0   \n",
       "2            3  ...         0          0              6                 0   \n",
       "3            9  ...         0          0              6                 0   \n",
       "4            6  ...         8          7              1                 0   \n",
       "\n",
       "   ACCT_PD   ASSET_AMT  INCOME_AMT  REVENUE_AMT  NTEE_CD   SORT_NAME  \n",
       "0       12         NaN         NaN          NaN      NaN         NaN  \n",
       "1        6         0.0         0.0          0.0      NaN  93 STRAITS  \n",
       "2       12         NaN         NaN          NaN      X20         NaN  \n",
       "3       12         NaN         NaN          NaN      NaN         NaN  \n",
       "4        5  10360714.0   6808224.0    4862977.0      NaN         NaN  \n",
       "\n",
       "[5 rows x 28 columns]"
      ]
     },
     "execution_count": 7,
     "metadata": {},
     "output_type": "execute_result"
    }
   ],
   "source": [
    "irs_db_region2.head()"
   ]
  },
  {
   "cell_type": "code",
   "execution_count": 9,
   "metadata": {},
   "outputs": [],
   "source": [
    "irs_db_region2 = irs_db_region2[irs_db_region2[\"DEDUCTIBILITY\"] == 1]"
   ]
  },
  {
   "cell_type": "code",
   "execution_count": 10,
   "metadata": {},
   "outputs": [],
   "source": [
    "irs_db_region2 = irs_db_region2.drop(columns=['FILING_REQ_CD',\"PF_FILING_REQ_CD\",\"STATUS\",\"NTEE_CD\"])"
   ]
  },
  {
   "cell_type": "code",
   "execution_count": 25,
   "metadata": {},
   "outputs": [
    {
     "data": {
      "image/png": "[encoded data removed]",
      "text/plain": [
       "<Figure size 1080x360 with 1 Axes>"
      ]
     },
     "metadata": {},
     "output_type": "display_data"
    }
   ],
   "source": [
    "# State Count Bar Graph\n",
    "state_df_count = irs_db_region2.groupby(\"STATE\").size()\n",
    "states = list(state_df_count.index.values)\n",
    "freq = freq_array(state_df_count)\n",
    "fig,ax = plt.subplots(figsize = (15,5))\n",
    "ax.bar(states,freq, color = \"b\");\n",
    "ax.set_yticks(np.arange(0,np.max(state_df_count)+10000,10000)) ;\n",
    "ax.set_title(\"Number of Organizations by State\", weight = \"bold\");\n",
    "ax.set_xlabel(\"State\", fontsize=15, weight = \"bold\");\n",
    "ax.set_ylabel(\"Frequency\", fontsize=15, weight = \"bold\");\n",
    "\n",
    "set_labels(state_df_count,ax,.4,1500);"
   ]
  },
  {
   "cell_type": "code",
   "execution_count": 23,
   "metadata": {},
   "outputs": [
    {
     "data": {
      "text/plain": [
       "58122"
      ]
     },
     "execution_count": 23,
     "metadata": {},
     "output_type": "execute_result"
    }
   ],
   "source": [
    "np.max(state_df_count)"
   ]
  },
  {
   "cell_type": "code",
   "execution_count": null,
   "metadata": {},
   "outputs": [],
   "source": []
  }
 ],
 "metadata": {
  "kernelspec": {
   "display_name": "Python 3",
   "language": "python",
   "name": "python3"
  },
  "language_info": {
   "codemirror_mode": {
    "name": "ipython",
    "version": 3
   },
   "file_extension": ".py",
   "mimetype": "text/x-python",
   "name": "python",
   "nbconvert_exporter": "python",
   "pygments_lexer": "ipython3",
   "version": "3.7.3"
  }
 },
 "nbformat": 4,
 "nbformat_minor": 2
}
